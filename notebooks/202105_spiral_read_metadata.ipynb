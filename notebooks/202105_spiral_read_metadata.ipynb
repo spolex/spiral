{
 "cells": [
  {
   "cell_type": "code",
   "execution_count": 1,
   "metadata": {},
   "outputs": [],
   "source": [
    "import pandas as pd\n",
    "from os import path"
   ]
  },
  {
   "cell_type": "code",
   "execution_count": 3,
   "metadata": {},
   "outputs": [],
   "source": [
    "#pip install openpyxl"
   ]
  },
  {
   "cell_type": "markdown",
   "metadata": {},
   "source": [
    "Load data"
   ]
  },
  {
   "cell_type": "code",
   "execution_count": 4,
   "metadata": {},
   "outputs": [],
   "source": [
    "doc_path = \"/data/elekin/doc\"\n",
    "metadata_file = path.join(doc_path,\"Temblor-RMN(depurada-controles-ethw)IS.xlsx\")\n",
    "metadf=pd.read_excel(metadata_file)"
   ]
  },
  {
   "cell_type": "code",
   "execution_count": 5,
   "metadata": {},
   "outputs": [],
   "source": [
    "filename=metadf[metadf.TRS.notna()].abs_path.iloc[0]\n",
    "#features=['x','y','timestamp','pen_up','azimuth','altitude','pressure']\n",
    "features=['x','y','timestamp','pen_up','pressure']\n",
    "data = pd.read_csv(filename, sep=\"\\s+\",header=None,names=features,skiprows=1,usecols=[0,1,2,3,6])"
   ]
  },
  {
   "cell_type": "code",
   "execution_count": 6,
   "metadata": {},
   "outputs": [
    {
     "name": "stdout",
     "output_type": "stream",
     "text": [
      "<class 'pandas.core.frame.DataFrame'>\n",
      "RangeIndex: 2643 entries, 0 to 2642\n",
      "Data columns (total 5 columns):\n",
      " #   Column     Non-Null Count  Dtype\n",
      "---  ------     --------------  -----\n",
      " 0   x          2643 non-null   int64\n",
      " 1   y          2643 non-null   int64\n",
      " 2   timestamp  2643 non-null   int64\n",
      " 3   pen_up     2643 non-null   int64\n",
      " 4   pressure   2643 non-null   int64\n",
      "dtypes: int64(5)\n",
      "memory usage: 103.4 KB\n"
     ]
    }
   ],
   "source": [
    "data.info()"
   ]
  },
  {
   "cell_type": "code",
   "execution_count": 7,
   "metadata": {},
   "outputs": [
    {
     "data": {
      "text/html": [
       "<div>\n",
       "<style scoped>\n",
       "    .dataframe tbody tr th:only-of-type {\n",
       "        vertical-align: middle;\n",
       "    }\n",
       "\n",
       "    .dataframe tbody tr th {\n",
       "        vertical-align: top;\n",
       "    }\n",
       "\n",
       "    .dataframe thead th {\n",
       "        text-align: right;\n",
       "    }\n",
       "</style>\n",
       "<table border=\"1\" class=\"dataframe\">\n",
       "  <thead>\n",
       "    <tr style=\"text-align: right;\">\n",
       "      <th></th>\n",
       "      <th>x</th>\n",
       "      <th>y</th>\n",
       "      <th>timestamp</th>\n",
       "      <th>pen_up</th>\n",
       "      <th>pressure</th>\n",
       "    </tr>\n",
       "  </thead>\n",
       "  <tbody>\n",
       "    <tr>\n",
       "      <th>0</th>\n",
       "      <td>1493</td>\n",
       "      <td>9752</td>\n",
       "      <td>2098403</td>\n",
       "      <td>1</td>\n",
       "      <td>6</td>\n",
       "    </tr>\n",
       "    <tr>\n",
       "      <th>1</th>\n",
       "      <td>1490</td>\n",
       "      <td>9752</td>\n",
       "      <td>2098411</td>\n",
       "      <td>1</td>\n",
       "      <td>168</td>\n",
       "    </tr>\n",
       "    <tr>\n",
       "      <th>2</th>\n",
       "      <td>1490</td>\n",
       "      <td>9752</td>\n",
       "      <td>2098418</td>\n",
       "      <td>1</td>\n",
       "      <td>328</td>\n",
       "    </tr>\n",
       "    <tr>\n",
       "      <th>3</th>\n",
       "      <td>1490</td>\n",
       "      <td>9752</td>\n",
       "      <td>2098426</td>\n",
       "      <td>1</td>\n",
       "      <td>480</td>\n",
       "    </tr>\n",
       "    <tr>\n",
       "      <th>4</th>\n",
       "      <td>1489</td>\n",
       "      <td>9752</td>\n",
       "      <td>2098433</td>\n",
       "      <td>1</td>\n",
       "      <td>667</td>\n",
       "    </tr>\n",
       "    <tr>\n",
       "      <th>...</th>\n",
       "      <td>...</td>\n",
       "      <td>...</td>\n",
       "      <td>...</td>\n",
       "      <td>...</td>\n",
       "      <td>...</td>\n",
       "    </tr>\n",
       "    <tr>\n",
       "      <th>2638</th>\n",
       "      <td>1612</td>\n",
       "      <td>11175</td>\n",
       "      <td>2118944</td>\n",
       "      <td>1</td>\n",
       "      <td>1736</td>\n",
       "    </tr>\n",
       "    <tr>\n",
       "      <th>2639</th>\n",
       "      <td>1612</td>\n",
       "      <td>11176</td>\n",
       "      <td>2118952</td>\n",
       "      <td>1</td>\n",
       "      <td>1610</td>\n",
       "    </tr>\n",
       "    <tr>\n",
       "      <th>2640</th>\n",
       "      <td>1614</td>\n",
       "      <td>11176</td>\n",
       "      <td>2118960</td>\n",
       "      <td>1</td>\n",
       "      <td>1327</td>\n",
       "    </tr>\n",
       "    <tr>\n",
       "      <th>2641</th>\n",
       "      <td>1628</td>\n",
       "      <td>11172</td>\n",
       "      <td>2118967</td>\n",
       "      <td>1</td>\n",
       "      <td>1005</td>\n",
       "    </tr>\n",
       "    <tr>\n",
       "      <th>2642</th>\n",
       "      <td>1656</td>\n",
       "      <td>11162</td>\n",
       "      <td>2118975</td>\n",
       "      <td>1</td>\n",
       "      <td>454</td>\n",
       "    </tr>\n",
       "  </tbody>\n",
       "</table>\n",
       "<p>2643 rows × 5 columns</p>\n",
       "</div>"
      ],
      "text/plain": [
       "         x      y  timestamp  pen_up  pressure\n",
       "0     1493   9752    2098403       1         6\n",
       "1     1490   9752    2098411       1       168\n",
       "2     1490   9752    2098418       1       328\n",
       "3     1490   9752    2098426       1       480\n",
       "4     1489   9752    2098433       1       667\n",
       "...    ...    ...        ...     ...       ...\n",
       "2638  1612  11175    2118944       1      1736\n",
       "2639  1612  11176    2118952       1      1610\n",
       "2640  1614  11176    2118960       1      1327\n",
       "2641  1628  11172    2118967       1      1005\n",
       "2642  1656  11162    2118975       1       454\n",
       "\n",
       "[2643 rows x 5 columns]"
      ]
     },
     "execution_count": 7,
     "metadata": {},
     "output_type": "execute_result"
    }
   ],
   "source": [
    "data"
   ]
  }
 ],
 "metadata": {
  "kernelspec": {
   "display_name": "Python 3.8.10 ('venv': venv)",
   "language": "python",
   "name": "python3"
  },
  "language_info": {
   "codemirror_mode": {
    "name": "ipython",
    "version": 3
   },
   "file_extension": ".py",
   "mimetype": "text/x-python",
   "name": "python",
   "nbconvert_exporter": "python",
   "pygments_lexer": "ipython3",
   "version": "3.8.10"
  },
  "vscode": {
   "interpreter": {
    "hash": "2681c09b164cd0bed2d26ac7ffed7e5f854687b9195dbb8740749a2c38759e17"
   }
  }
 },
 "nbformat": 4,
 "nbformat_minor": 4
}
