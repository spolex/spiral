{
 "cells": [
  {
   "cell_type": "code",
   "execution_count": 1,
   "metadata": {},
   "outputs": [],
   "source": [
    "import pandas as pd\n",
    "import numpy as np\n",
    "from collections import Counter\n",
    "from os import path\n",
    "from scipy.signal import resample\n",
    "import matplotlib as mpl\n",
    "from matplotlib import pyplot as plt\n",
    "import seaborn as sns\n",
    "sns.set_theme(style=\"whitegrid\")\n",
    "mpl.style.use('seaborn-notebook')\n",
    "%matplotlib inline\n",
    "#sorted(mpl.style.available)\n",
    "\n",
    "# setting up variables\n",
    "doc_path = \"/data/elekin/doc\"\n",
    "\n",
    "%matplotlib inline"
   ]
  },
  {
   "cell_type": "code",
   "execution_count": 2,
   "metadata": {},
   "outputs": [
    {
     "name": "stdout",
     "output_type": "stream",
     "text": [
      "Loaded data from CSV\n"
     ]
    },
    {
     "data": {
      "text/html": [
       "<div>\n",
       "<style scoped>\n",
       "    .dataframe tbody tr th:only-of-type {\n",
       "        vertical-align: middle;\n",
       "    }\n",
       "\n",
       "    .dataframe tbody tr th {\n",
       "        vertical-align: top;\n",
       "    }\n",
       "\n",
       "    .dataframe thead th {\n",
       "        text-align: right;\n",
       "    }\n",
       "</style>\n",
       "<table border=\"1\" class=\"dataframe\">\n",
       "  <thead>\n",
       "    <tr style=\"text-align: right;\">\n",
       "      <th></th>\n",
       "      <th>0</th>\n",
       "      <th>1</th>\n",
       "      <th>2</th>\n",
       "      <th>3</th>\n",
       "      <th>4</th>\n",
       "      <th>5</th>\n",
       "      <th>6</th>\n",
       "      <th>7</th>\n",
       "      <th>8</th>\n",
       "      <th>9</th>\n",
       "      <th>...</th>\n",
       "      <th>4086</th>\n",
       "      <th>4087</th>\n",
       "      <th>4088</th>\n",
       "      <th>4089</th>\n",
       "      <th>4090</th>\n",
       "      <th>4091</th>\n",
       "      <th>4092</th>\n",
       "      <th>4093</th>\n",
       "      <th>4094</th>\n",
       "      <th>4095</th>\n",
       "    </tr>\n",
       "    <tr>\n",
       "      <th>subject_id</th>\n",
       "      <th></th>\n",
       "      <th></th>\n",
       "      <th></th>\n",
       "      <th></th>\n",
       "      <th></th>\n",
       "      <th></th>\n",
       "      <th></th>\n",
       "      <th></th>\n",
       "      <th></th>\n",
       "      <th></th>\n",
       "      <th></th>\n",
       "      <th></th>\n",
       "      <th></th>\n",
       "      <th></th>\n",
       "      <th></th>\n",
       "      <th></th>\n",
       "      <th></th>\n",
       "      <th></th>\n",
       "      <th></th>\n",
       "      <th></th>\n",
       "      <th></th>\n",
       "    </tr>\n",
       "  </thead>\n",
       "  <tbody>\n",
       "    <tr>\n",
       "      <th>T008</th>\n",
       "      <td>0.0</td>\n",
       "      <td>713.436890</td>\n",
       "      <td>71.720421</td>\n",
       "      <td>1673.072754</td>\n",
       "      <td>3281.223633</td>\n",
       "      <td>3790.862549</td>\n",
       "      <td>3467.226074</td>\n",
       "      <td>3209.127197</td>\n",
       "      <td>3349.520996</td>\n",
       "      <td>3518.032715</td>\n",
       "      <td>...</td>\n",
       "      <td>2182.482910</td>\n",
       "      <td>2177.209717</td>\n",
       "      <td>2212.661865</td>\n",
       "      <td>2247.149414</td>\n",
       "      <td>2203.191406</td>\n",
       "      <td>2145.531738</td>\n",
       "      <td>2225.025635</td>\n",
       "      <td>2383.724609</td>\n",
       "      <td>2174.827148</td>\n",
       "      <td>1271.530884</td>\n",
       "    </tr>\n",
       "    <tr>\n",
       "      <th>C08</th>\n",
       "      <td>0.0</td>\n",
       "      <td>475.403900</td>\n",
       "      <td>435.743683</td>\n",
       "      <td>193.121109</td>\n",
       "      <td>65.885948</td>\n",
       "      <td>207.443619</td>\n",
       "      <td>190.784531</td>\n",
       "      <td>70.474304</td>\n",
       "      <td>79.712662</td>\n",
       "      <td>142.818756</td>\n",
       "      <td>...</td>\n",
       "      <td>4926.639160</td>\n",
       "      <td>5107.721680</td>\n",
       "      <td>5034.184570</td>\n",
       "      <td>5049.286621</td>\n",
       "      <td>4949.388672</td>\n",
       "      <td>5154.064941</td>\n",
       "      <td>4965.245117</td>\n",
       "      <td>4807.418945</td>\n",
       "      <td>5634.651367</td>\n",
       "      <td>3859.087158</td>\n",
       "    </tr>\n",
       "    <tr>\n",
       "      <th>C102_2</th>\n",
       "      <td>0.0</td>\n",
       "      <td>213.861465</td>\n",
       "      <td>101.686661</td>\n",
       "      <td>85.867058</td>\n",
       "      <td>376.213043</td>\n",
       "      <td>457.951538</td>\n",
       "      <td>1129.745483</td>\n",
       "      <td>2721.986328</td>\n",
       "      <td>4171.745117</td>\n",
       "      <td>4727.590332</td>\n",
       "      <td>...</td>\n",
       "      <td>3104.003906</td>\n",
       "      <td>3204.524658</td>\n",
       "      <td>2989.006348</td>\n",
       "      <td>2681.387695</td>\n",
       "      <td>2688.262695</td>\n",
       "      <td>3107.160889</td>\n",
       "      <td>3501.391602</td>\n",
       "      <td>3259.597168</td>\n",
       "      <td>2221.679443</td>\n",
       "      <td>896.176575</td>\n",
       "    </tr>\n",
       "    <tr>\n",
       "      <th>C02_1</th>\n",
       "      <td>0.0</td>\n",
       "      <td>165.129211</td>\n",
       "      <td>75.105003</td>\n",
       "      <td>60.954689</td>\n",
       "      <td>79.922493</td>\n",
       "      <td>1.267699</td>\n",
       "      <td>59.984787</td>\n",
       "      <td>32.058376</td>\n",
       "      <td>28.960505</td>\n",
       "      <td>40.842754</td>\n",
       "      <td>...</td>\n",
       "      <td>1251.325562</td>\n",
       "      <td>1299.867188</td>\n",
       "      <td>1275.004150</td>\n",
       "      <td>1178.671265</td>\n",
       "      <td>1123.337891</td>\n",
       "      <td>1200.059448</td>\n",
       "      <td>1332.742676</td>\n",
       "      <td>1307.722656</td>\n",
       "      <td>981.532349</td>\n",
       "      <td>452.813446</td>\n",
       "    </tr>\n",
       "    <tr>\n",
       "      <th>C107_2</th>\n",
       "      <td>0.0</td>\n",
       "      <td>355.624084</td>\n",
       "      <td>135.638199</td>\n",
       "      <td>24.976692</td>\n",
       "      <td>113.897148</td>\n",
       "      <td>93.545708</td>\n",
       "      <td>567.438416</td>\n",
       "      <td>1798.279541</td>\n",
       "      <td>2935.076660</td>\n",
       "      <td>3349.572754</td>\n",
       "      <td>...</td>\n",
       "      <td>3991.294922</td>\n",
       "      <td>4130.068848</td>\n",
       "      <td>3912.524658</td>\n",
       "      <td>3554.376953</td>\n",
       "      <td>3528.579590</td>\n",
       "      <td>3995.376709</td>\n",
       "      <td>4479.075195</td>\n",
       "      <td>4231.423828</td>\n",
       "      <td>2977.290039</td>\n",
       "      <td>1263.206543</td>\n",
       "    </tr>\n",
       "  </tbody>\n",
       "</table>\n",
       "<p>5 rows × 4096 columns</p>\n",
       "</div>"
      ],
      "text/plain": [
       "              0           1           2            3            4  \\\n",
       "subject_id                                                          \n",
       "T008        0.0  713.436890   71.720421  1673.072754  3281.223633   \n",
       "C08         0.0  475.403900  435.743683   193.121109    65.885948   \n",
       "C102_2      0.0  213.861465  101.686661    85.867058   376.213043   \n",
       "C02_1       0.0  165.129211   75.105003    60.954689    79.922493   \n",
       "C107_2      0.0  355.624084  135.638199    24.976692   113.897148   \n",
       "\n",
       "                      5            6            7            8            9  \\\n",
       "subject_id                                                                    \n",
       "T008        3790.862549  3467.226074  3209.127197  3349.520996  3518.032715   \n",
       "C08          207.443619   190.784531    70.474304    79.712662   142.818756   \n",
       "C102_2       457.951538  1129.745483  2721.986328  4171.745117  4727.590332   \n",
       "C02_1          1.267699    59.984787    32.058376    28.960505    40.842754   \n",
       "C107_2        93.545708   567.438416  1798.279541  2935.076660  3349.572754   \n",
       "\n",
       "            ...         4086         4087         4088         4089  \\\n",
       "subject_id  ...                                                       \n",
       "T008        ...  2182.482910  2177.209717  2212.661865  2247.149414   \n",
       "C08         ...  4926.639160  5107.721680  5034.184570  5049.286621   \n",
       "C102_2      ...  3104.003906  3204.524658  2989.006348  2681.387695   \n",
       "C02_1       ...  1251.325562  1299.867188  1275.004150  1178.671265   \n",
       "C107_2      ...  3991.294922  4130.068848  3912.524658  3554.376953   \n",
       "\n",
       "                   4090         4091         4092         4093         4094  \\\n",
       "subject_id                                                                    \n",
       "T008        2203.191406  2145.531738  2225.025635  2383.724609  2174.827148   \n",
       "C08         4949.388672  5154.064941  4965.245117  4807.418945  5634.651367   \n",
       "C102_2      2688.262695  3107.160889  3501.391602  3259.597168  2221.679443   \n",
       "C02_1       1123.337891  1200.059448  1332.742676  1307.722656   981.532349   \n",
       "C107_2      3528.579590  3995.376709  4479.075195  4231.423828  2977.290039   \n",
       "\n",
       "                   4095  \n",
       "subject_id               \n",
       "T008        1271.530884  \n",
       "C08         3859.087158  \n",
       "C102_2       896.176575  \n",
       "C02_1        452.813446  \n",
       "C107_2      1263.206543  \n",
       "\n",
       "[5 rows x 4096 columns]"
      ]
     },
     "execution_count": 2,
     "metadata": {},
     "output_type": "execute_result"
    }
   ],
   "source": [
    "#this data has been previously processed by airflow\n",
    "features = pd.read_csv(\"/data/elekin/data/results/handwriting/radius_20220905.csv\")\n",
    "features = features.set_index(features.columns[0]).astype(np.float32)\n",
    "print(\"Loaded data from CSV\")\n",
    "features.sample(5)"
   ]
  },
  {
   "cell_type": "code",
   "execution_count": 3,
   "metadata": {},
   "outputs": [
    {
     "data": {
      "text/plain": [
       "<AxesSubplot:>"
      ]
     },
     "execution_count": 3,
     "metadata": {},
     "output_type": "execute_result"
    },
    {
     "data": {
      "image/png": "[encoded data removed]",
      "text/plain": [
       "<Figure size 432x288 with 1 Axes>"
      ]
     },
     "metadata": {
      "needs_background": "light"
     },
     "output_type": "display_data"
    }
   ],
   "source": [
    "features.loc['C01_1'].plot()"
   ]
  },
  {
   "cell_type": "markdown",
   "metadata": {},
   "source": [
    "Loading labels based on clinic, residues and features from residues.\n"
   ]
  },
  {
   "cell_type": "code",
   "execution_count": 4,
   "metadata": {},
   "outputs": [
    {
     "data": {
      "image/png": "[encoded data removed]",
      "text/plain": [
       "<Figure size 432x288 with 1 Axes>"
      ]
     },
     "metadata": {
      "needs_background": "light"
     },
     "output_type": "display_data"
    }
   ],
   "source": [
    "y = pd.read_csv(\"/data/elekin/data/results/handwriting/level_20220905.csv\", index_col=0)\n",
    "ax = y.value_counts().plot.bar(title='Control Subjects Vs. ET Subjects', x='counts')\n",
    "_ = ax.bar_label(ax.containers[0])"
   ]
  },
  {
   "cell_type": "markdown",
   "metadata": {},
   "source": [
    "Verify that the data calculated with airflow is correct"
   ]
  },
  {
   "cell_type": "code",
   "execution_count": 5,
   "metadata": {},
   "outputs": [
    {
     "data": {
      "text/plain": [
       "((53, 4096), (53, 1))"
      ]
     },
     "execution_count": 5,
     "metadata": {},
     "output_type": "execute_result"
    }
   ],
   "source": [
    "features.shape,y.shape"
   ]
  },
  {
   "cell_type": "code",
   "execution_count": 6,
   "metadata": {},
   "outputs": [],
   "source": [
    "from sklearn.discriminant_analysis import LinearDiscriminantAnalysis\n",
    "from sklearn.decomposition import PCA\n",
    "from sklearn.pipeline import make_pipeline\n",
    "from sklearn.preprocessing import StandardScaler\n",
    "random_state = 0\n",
    "\n",
    "denom = 16\n",
    "l = features.shape[1]\n",
    "\n",
    "X_train=features.rolling(round(l/denom), axis=1).std().dropna(axis=1).values\n",
    "y_train=y.values.ravel()"
   ]
  },
  {
   "cell_type": "code",
   "execution_count": 7,
   "metadata": {},
   "outputs": [
    {
     "data": {
      "text/plain": [
       "((53, 3841), (53, 1))"
      ]
     },
     "execution_count": 7,
     "metadata": {},
     "output_type": "execute_result"
    }
   ],
   "source": [
    "X_train.shape,y.shape"
   ]
  },
  {
   "cell_type": "code",
   "execution_count": 8,
   "metadata": {},
   "outputs": [],
   "source": [
    "# Reduce dimension with LDA\n",
    "lda = LinearDiscriminantAnalysis(n_components=1)\n",
    "lda.fit(X_train, y_train)\n",
    "X_train_lda=lda.transform(X_train)"
   ]
  },
  {
   "cell_type": "code",
   "execution_count": 9,
   "metadata": {},
   "outputs": [
    {
     "data": {
      "text/html": [
       "<div>\n",
       "<style scoped>\n",
       "    .dataframe tbody tr th:only-of-type {\n",
       "        vertical-align: middle;\n",
       "    }\n",
       "\n",
       "    .dataframe tbody tr th {\n",
       "        vertical-align: top;\n",
       "    }\n",
       "\n",
       "    .dataframe thead th {\n",
       "        text-align: right;\n",
       "    }\n",
       "</style>\n",
       "<table border=\"1\" class=\"dataframe\">\n",
       "  <thead>\n",
       "    <tr style=\"text-align: right;\">\n",
       "      <th></th>\n",
       "      <th>LDA1</th>\n",
       "      <th>labels</th>\n",
       "    </tr>\n",
       "  </thead>\n",
       "  <tbody>\n",
       "    <tr>\n",
       "      <th>0</th>\n",
       "      <td>-2.145409</td>\n",
       "      <td>0</td>\n",
       "    </tr>\n",
       "    <tr>\n",
       "      <th>1</th>\n",
       "      <td>-2.188341</td>\n",
       "      <td>0</td>\n",
       "    </tr>\n",
       "    <tr>\n",
       "      <th>2</th>\n",
       "      <td>-1.823007</td>\n",
       "      <td>0</td>\n",
       "    </tr>\n",
       "    <tr>\n",
       "      <th>3</th>\n",
       "      <td>-2.202004</td>\n",
       "      <td>0</td>\n",
       "    </tr>\n",
       "    <tr>\n",
       "      <th>4</th>\n",
       "      <td>-0.728402</td>\n",
       "      <td>0</td>\n",
       "    </tr>\n",
       "  </tbody>\n",
       "</table>\n",
       "</div>"
      ],
      "text/plain": [
       "       LDA1  labels\n",
       "0 -2.145409       0\n",
       "1 -2.188341       0\n",
       "2 -1.823007       0\n",
       "3 -2.202004       0\n",
       "4 -0.728402       0"
      ]
     },
     "execution_count": 9,
     "metadata": {},
     "output_type": "execute_result"
    }
   ],
   "source": [
    "df_lda=pd.DataFrame(X_train_lda, columns=[\"LDA1\"])#temblor\n",
    "#df_lda=pd.DataFrame(X_train_lda, columns=[\"component1\", \"component2\"])#level\n",
    "df_lda[\"labels\"]=y_train\n",
    "df_lda.head()"
   ]
  },
  {
   "cell_type": "code",
   "execution_count": 10,
   "metadata": {},
   "outputs": [
    {
     "data": {
      "image/png": "[encoded data removed]",
      "text/plain": [
       "<Figure size 432x288 with 1 Axes>"
      ]
     },
     "metadata": {
      "needs_background": "light"
     },
     "output_type": "display_data"
    }
   ],
   "source": [
    "ax = df_lda.plot.scatter(x=\"LDA1\", y=\"LDA1\", c=\"labels\", cmap=\"viridis\", colorbar=False)\n",
    "ax.xaxis.set_ticklabels([])\n",
    "_ = ax.yaxis.set_ticklabels([])"
   ]
  },
  {
   "cell_type": "code",
   "execution_count": 11,
   "metadata": {},
   "outputs": [],
   "source": [
    "# Reduce dimension to 2 with PCA\n",
    "pca = make_pipeline(StandardScaler(),\n",
    "                    PCA(n_components=3, random_state=random_state))\n",
    "# Fit the method's model\n",
    "pca.fit(X_train, y_train)\n",
    "X_train_pca=pca.transform(X_train)"
   ]
  },
  {
   "cell_type": "code",
   "execution_count": 12,
   "metadata": {},
   "outputs": [
    {
     "data": {
      "text/html": [
       "<div>\n",
       "<style scoped>\n",
       "    .dataframe tbody tr th:only-of-type {\n",
       "        vertical-align: middle;\n",
       "    }\n",
       "\n",
       "    .dataframe tbody tr th {\n",
       "        vertical-align: top;\n",
       "    }\n",
       "\n",
       "    .dataframe thead th {\n",
       "        text-align: right;\n",
       "    }\n",
       "</style>\n",
       "<table border=\"1\" class=\"dataframe\">\n",
       "  <thead>\n",
       "    <tr style=\"text-align: right;\">\n",
       "      <th></th>\n",
       "      <th>PCA0</th>\n",
       "      <th>PCA1</th>\n",
       "      <th>PCA2</th>\n",
       "      <th>labels</th>\n",
       "    </tr>\n",
       "  </thead>\n",
       "  <tbody>\n",
       "    <tr>\n",
       "      <th>0</th>\n",
       "      <td>-31.168290</td>\n",
       "      <td>4.788964</td>\n",
       "      <td>-8.166132</td>\n",
       "      <td>0</td>\n",
       "    </tr>\n",
       "    <tr>\n",
       "      <th>1</th>\n",
       "      <td>-48.807402</td>\n",
       "      <td>1.209659</td>\n",
       "      <td>-3.534304</td>\n",
       "      <td>0</td>\n",
       "    </tr>\n",
       "    <tr>\n",
       "      <th>2</th>\n",
       "      <td>-48.327034</td>\n",
       "      <td>1.143374</td>\n",
       "      <td>-4.886567</td>\n",
       "      <td>0</td>\n",
       "    </tr>\n",
       "    <tr>\n",
       "      <th>3</th>\n",
       "      <td>-37.060491</td>\n",
       "      <td>2.402528</td>\n",
       "      <td>-7.091993</td>\n",
       "      <td>0</td>\n",
       "    </tr>\n",
       "    <tr>\n",
       "      <th>4</th>\n",
       "      <td>-52.919466</td>\n",
       "      <td>1.968598</td>\n",
       "      <td>-2.888016</td>\n",
       "      <td>0</td>\n",
       "    </tr>\n",
       "  </tbody>\n",
       "</table>\n",
       "</div>"
      ],
      "text/plain": [
       "        PCA0      PCA1      PCA2  labels\n",
       "0 -31.168290  4.788964 -8.166132       0\n",
       "1 -48.807402  1.209659 -3.534304       0\n",
       "2 -48.327034  1.143374 -4.886567       0\n",
       "3 -37.060491  2.402528 -7.091993       0\n",
       "4 -52.919466  1.968598 -2.888016       0"
      ]
     },
     "execution_count": 12,
     "metadata": {},
     "output_type": "execute_result"
    }
   ],
   "source": [
    "df_pca=pd.DataFrame(X_train_pca, columns=[\"PCA0\", \"PCA1\",\"PCA2\"])\n",
    "df_pca[\"labels\"]=y_train.ravel()\n",
    "df_pca.head()"
   ]
  },
  {
   "cell_type": "code",
   "execution_count": 13,
   "metadata": {},
   "outputs": [
    {
     "data": {
      "image/png": "[encoded data removed]",
      "text/plain": [
       "<Figure size 432x288 with 1 Axes>"
      ]
     },
     "metadata": {
      "needs_background": "light"
     },
     "output_type": "display_data"
    }
   ],
   "source": [
    "ax = df_pca.plot.scatter(x=\"PCA1\", y=\"PCA2\", c=\"labels\", cmap=\"viridis\", colorbar=False)\n",
    "ax.xaxis.set_ticklabels([])\n",
    "_ = ax.yaxis.set_ticklabels([])"
   ]
  },
  {
   "cell_type": "code",
   "execution_count": 14,
   "metadata": {
    "scrolled": false
   },
   "outputs": [
    {
     "data": {
      "image/png": "[encoded data removed]",
      "text/plain": [
       "<Figure size 720x1080 with 1 Axes>"
      ]
     },
     "metadata": {
      "needs_background": "light"
     },
     "output_type": "display_data"
    }
   ],
   "source": [
    "# Plot initialisation\n",
    "fig = plt.figure(figsize=(10,15))\n",
    "ax = fig.add_subplot(111, projection='3d')\n",
    "sc = ax.scatter(df_pca['PCA0'], \n",
    "           df_pca['PCA1'], \n",
    "           df_pca['PCA2'], c=df_pca.labels, cmap=\"viridis\", s=120)\n",
    "    \n",
    "# label the axes\n",
    "ax.set_xlabel(\"\")\n",
    "ax.set_ylabel(\"\")\n",
    "ax.set_zlabel(\"\")\n",
    "\n",
    "ax.set_xticklabels(\"\")\n",
    "ax.set_yticklabels(\"\")\n",
    "ax.set_zticklabels(\"\")\n",
    "\n",
    "colors = [sc.cmap(sc.norm(i)) for i in [0.0, 1.0, 2.0]]\n",
    "\n",
    "custom_lines = [plt.Line2D([],[], ls=\"\", marker='.', \n",
    "                mec='k', mfc=c, mew=.1, ms=20) for c in colors]\n",
    "\n",
    "ax.legend(custom_lines, ['0','1', '2'], loc='center left', bbox_to_anchor=(1.0, 0.5))\n",
    "\n",
    "ax.set_title(\"PCA on the BIODARWO data set\")\n",
    "plt.show()"
   ]
  },
  {
   "cell_type": "code",
   "execution_count": 15,
   "metadata": {},
   "outputs": [],
   "source": [
    "from sklearn.model_selection import LeaveOneOut, KFold\n",
    "from sklearn.svm import SVC\n",
    "from sklearn.model_selection import cross_validate, train_test_split\n",
    "\n",
    "from sklearn.svm import SVC\n",
    "from sklearn.ensemble import RandomForestClassifier\n",
    "from sklearn.neighbors import KNeighborsClassifier\n",
    "from sklearn.discriminant_analysis import LinearDiscriminantAnalysis as LDA\n",
    "from sklearn.metrics import f1_score, confusion_matrix, ConfusionMatrixDisplay, classification_report\n",
    "\n",
    "\n",
    "score='accuracy'\n",
    "X = X_train\n",
    "y = y_train\n",
    "\n",
    "loo = LeaveOneOut()"
   ]
  },
  {
   "cell_type": "code",
   "execution_count": 16,
   "metadata": {},
   "outputs": [
    {
     "data": {
      "text/plain": [
       "(Counter({0: 23, 1: 6, 2: 6}), Counter({0: 9, 2: 6, 1: 3}))"
      ]
     },
     "execution_count": 16,
     "metadata": {},
     "output_type": "execute_result"
    }
   ],
   "source": [
    "Xs_train, Xs_test, ys_train, ys_test = train_test_split(X, y, test_size=0.33, random_state=38)\n",
    "Counter(ys_train), Counter(ys_test)"
   ]
  },
  {
   "cell_type": "markdown",
   "metadata": {},
   "source": [
    "$$ Accuracy: \\frac{TP + TN}{TP + TN + FP + FN} $$ \n",
    "\n",
    "$$    Recall: \\frac{TP}{TP + FN} $$\n",
    "\n",
    "$$    Precision: \\frac{TP}{TP + FP} $$\n",
    "\n",
    "$$    Specifity: \\frac{TN}{TN + FP} $$\n",
    "\n",
    "Where TP, TN, FP, and FN are, respectively, the true positive, true negative, false positive and false negative values\n",
    "of the confusion matrix. The positive case corresponds to the ET subjects while the negative case to the CT ones.\n",
    "\n",
    "**Equations explained**\n",
    "\n",
    "* Sensitivity/recall – how good a test is at detecting the positives. A test can cheat and maximize this by always returning “positive”. From the whole positive cases how many of them where properly detected.\n",
    "* Specificity – how good a test is at avoiding false alarms. A test can cheat and maximize this by always returning “negative”.\n",
    "* Precision – how many of the positively classified were relevant. A test can cheat and maximize this by only returning positive on one result it’s most confident in. \n",
    "\n",
    "The cheating is resolved by looking at both relevant metrics instead of just one. E.g. the cheating 100% sensitivity that always says “positive” has 0% specificity.\n"
   ]
  },
  {
   "cell_type": "markdown",
   "metadata": {},
   "source": [
    "### SVM-rbf\n",
    "\n",
    "Leaving one out validation"
   ]
  },
  {
   "cell_type": "code",
   "execution_count": 17,
   "metadata": {},
   "outputs": [],
   "source": [
    "# predictive model\n",
    "clf = SVC(kernel='rbf', gamma=0.2, C=10**3)"
   ]
  },
  {
   "cell_type": "code",
   "execution_count": 18,
   "metadata": {},
   "outputs": [
    {
     "name": "stdout",
     "output_type": "stream",
     "text": [
      "CV train score svm: 1.0\n",
      "CV test score svm: 0.6037735849056604\n"
     ]
    }
   ],
   "source": [
    "cv = cross_validate(clf, X, y, cv=loo, scoring=score, return_train_score=True, n_jobs=-1)\n",
    "print(\"CV train score svm: {}\".format(cv['train_score'].mean()))\n",
    "print(\"CV test score svm: {}\".format(cv['test_score'].mean()))"
   ]
  },
  {
   "cell_type": "markdown",
   "metadata": {},
   "source": [
    "Hold hout validation"
   ]
  },
  {
   "cell_type": "code",
   "execution_count": 19,
   "metadata": {},
   "outputs": [],
   "source": [
    "clf.fit(Xs_train, ys_train)\n",
    "predictions = clf.predict(Xs_test)\n",
    "#cm = confusion_matrix(ys_test, predictions, labels=clf.classes_)\n",
    "#disp = ConfusionMatrixDisplay(confusion_matrix=cm,display_labels=clf.classes_)\n",
    "#disp.plot(cmap=plt.cm.Blues)\n",
    "#_=plt.axis('off')"
   ]
  },
  {
   "cell_type": "code",
   "execution_count": 20,
   "metadata": {},
   "outputs": [
    {
     "name": "stdout",
     "output_type": "stream",
     "text": [
      "              precision    recall  f1-score   support\n",
      "\n",
      "           0     0.5000    1.0000    0.6667         9\n",
      "           1     0.0000    0.0000    0.0000         3\n",
      "           2     0.0000    0.0000    0.0000         6\n",
      "\n",
      "    accuracy                         0.5000        18\n",
      "   macro avg     0.1667    0.3333    0.2222        18\n",
      "weighted avg     0.2500    0.5000    0.3333        18\n",
      "\n"
     ]
    },
    {
     "name": "stderr",
     "output_type": "stream",
     "text": [
      "/usr/local/lib/python3.8/dist-packages/sklearn/metrics/_classification.py:1334: UndefinedMetricWarning: Precision and F-score are ill-defined and being set to 0.0 in labels with no predicted samples. Use `zero_division` parameter to control this behavior.\n",
      "  _warn_prf(average, modifier, msg_start, len(result))\n",
      "/usr/local/lib/python3.8/dist-packages/sklearn/metrics/_classification.py:1334: UndefinedMetricWarning: Precision and F-score are ill-defined and being set to 0.0 in labels with no predicted samples. Use `zero_division` parameter to control this behavior.\n",
      "  _warn_prf(average, modifier, msg_start, len(result))\n",
      "/usr/local/lib/python3.8/dist-packages/sklearn/metrics/_classification.py:1334: UndefinedMetricWarning: Precision and F-score are ill-defined and being set to 0.0 in labels with no predicted samples. Use `zero_division` parameter to control this behavior.\n",
      "  _warn_prf(average, modifier, msg_start, len(result))\n"
     ]
    }
   ],
   "source": [
    "print(classification_report(ys_test, predictions, digits=4))"
   ]
  },
  {
   "cell_type": "markdown",
   "metadata": {},
   "source": [
    "Note that in binary classification, recall of the positive class is also known as “sensitivity”; recall of the negative class is “specificity”."
   ]
  },
  {
   "cell_type": "markdown",
   "metadata": {},
   "source": [
    "### RandomForest\n",
    "\n",
    "Leaving one out validation"
   ]
  },
  {
   "cell_type": "code",
   "execution_count": 21,
   "metadata": {},
   "outputs": [
    {
     "name": "stdout",
     "output_type": "stream",
     "text": [
      "CV train score RandomForest: 1.0\n",
      "CV test score RandomForest: 0.5849056603773585\n"
     ]
    }
   ],
   "source": [
    "clf = RandomForestClassifier(n_estimators=100, random_state=42)\n",
    "\n",
    "cv = cross_validate(clf, X, y, cv=loo, scoring=score, return_train_score=True, n_jobs=-1)\n",
    "\n",
    "print(\"CV train score RandomForest: {}\".format(cv['train_score'].mean()))\n",
    "print(\"CV test score RandomForest: {}\".format(cv['test_score'].mean()))"
   ]
  },
  {
   "cell_type": "markdown",
   "metadata": {},
   "source": [
    "Holdout validation"
   ]
  },
  {
   "cell_type": "code",
   "execution_count": 22,
   "metadata": {},
   "outputs": [],
   "source": [
    "clf.fit(Xs_train, ys_train)\n",
    "predictions = clf.predict(Xs_test)\n",
    "#cm = confusion_matrix(ys_test, predictions, labels=clf.classes_)\n",
    "#disp = ConfusionMatrixDisplay(confusion_matrix=cm,display_labels=clf.classes_)\n",
    "#disp.plot(cmap=plt.cm.Blues)\n",
    "#_=plt.axis('off')"
   ]
  },
  {
   "cell_type": "code",
   "execution_count": 23,
   "metadata": {},
   "outputs": [
    {
     "name": "stdout",
     "output_type": "stream",
     "text": [
      "              precision    recall  f1-score   support\n",
      "\n",
      "           0     0.5000    0.7778    0.6087         9\n",
      "           1     0.5000    0.6667    0.5714         3\n",
      "           2     0.0000    0.0000    0.0000         6\n",
      "\n",
      "    accuracy                         0.5000        18\n",
      "   macro avg     0.3333    0.4815    0.3934        18\n",
      "weighted avg     0.3333    0.5000    0.3996        18\n",
      "\n"
     ]
    },
    {
     "name": "stderr",
     "output_type": "stream",
     "text": [
      "/usr/local/lib/python3.8/dist-packages/sklearn/metrics/_classification.py:1334: UndefinedMetricWarning: Precision and F-score are ill-defined and being set to 0.0 in labels with no predicted samples. Use `zero_division` parameter to control this behavior.\n",
      "  _warn_prf(average, modifier, msg_start, len(result))\n",
      "/usr/local/lib/python3.8/dist-packages/sklearn/metrics/_classification.py:1334: UndefinedMetricWarning: Precision and F-score are ill-defined and being set to 0.0 in labels with no predicted samples. Use `zero_division` parameter to control this behavior.\n",
      "  _warn_prf(average, modifier, msg_start, len(result))\n",
      "/usr/local/lib/python3.8/dist-packages/sklearn/metrics/_classification.py:1334: UndefinedMetricWarning: Precision and F-score are ill-defined and being set to 0.0 in labels with no predicted samples. Use `zero_division` parameter to control this behavior.\n",
      "  _warn_prf(average, modifier, msg_start, len(result))\n"
     ]
    }
   ],
   "source": [
    "print(classification_report(ys_test, predictions, digits=4))"
   ]
  },
  {
   "cell_type": "markdown",
   "metadata": {},
   "source": [
    "### KNN-5\n",
    "\n",
    "Leaving one out validation"
   ]
  },
  {
   "cell_type": "code",
   "execution_count": 24,
   "metadata": {},
   "outputs": [
    {
     "name": "stdout",
     "output_type": "stream",
     "text": [
      "CV train score knn: 0.7148040638606676\n",
      "CV test score knn: 0.5849056603773585\n"
     ]
    }
   ],
   "source": [
    "clf = KNeighborsClassifier(n_neighbors=5, algorithm='ball_tree', metric='euclidean')\n",
    "\n",
    "cv = cross_validate(clf, X, y, cv=loo, scoring=score, return_train_score=True, n_jobs=-1)\n",
    "\n",
    "print(\"CV train score knn: {}\".format(cv['train_score'].mean()))\n",
    "print(\"CV test score knn: {}\".format(cv['test_score'].mean()))"
   ]
  },
  {
   "cell_type": "markdown",
   "metadata": {},
   "source": [
    "Holdout validation"
   ]
  },
  {
   "cell_type": "code",
   "execution_count": 25,
   "metadata": {},
   "outputs": [],
   "source": [
    "clf.fit(Xs_train, ys_train)\n",
    "predictions = clf.predict(Xs_test)\n",
    "#cm = confusion_matrix(ys_test, predictions, labels=clf.classes_)\n",
    "#disp = ConfusionMatrixDisplay(confusion_matrix=cm,display_labels=clf.classes_)\n",
    "#disp.plot(cmap=plt.cm.Blues)\n",
    "#_=plt.axis('off')"
   ]
  },
  {
   "cell_type": "code",
   "execution_count": 26,
   "metadata": {},
   "outputs": [
    {
     "name": "stdout",
     "output_type": "stream",
     "text": [
      "              precision    recall  f1-score   support\n",
      "\n",
      "           0     0.5000    1.0000    0.6667         9\n",
      "           1     0.0000    0.0000    0.0000         3\n",
      "           2     0.0000    0.0000    0.0000         6\n",
      "\n",
      "    accuracy                         0.5000        18\n",
      "   macro avg     0.1667    0.3333    0.2222        18\n",
      "weighted avg     0.2500    0.5000    0.3333        18\n",
      "\n"
     ]
    },
    {
     "name": "stderr",
     "output_type": "stream",
     "text": [
      "/usr/local/lib/python3.8/dist-packages/sklearn/metrics/_classification.py:1334: UndefinedMetricWarning: Precision and F-score are ill-defined and being set to 0.0 in labels with no predicted samples. Use `zero_division` parameter to control this behavior.\n",
      "  _warn_prf(average, modifier, msg_start, len(result))\n",
      "/usr/local/lib/python3.8/dist-packages/sklearn/metrics/_classification.py:1334: UndefinedMetricWarning: Precision and F-score are ill-defined and being set to 0.0 in labels with no predicted samples. Use `zero_division` parameter to control this behavior.\n",
      "  _warn_prf(average, modifier, msg_start, len(result))\n",
      "/usr/local/lib/python3.8/dist-packages/sklearn/metrics/_classification.py:1334: UndefinedMetricWarning: Precision and F-score are ill-defined and being set to 0.0 in labels with no predicted samples. Use `zero_division` parameter to control this behavior.\n",
      "  _warn_prf(average, modifier, msg_start, len(result))\n"
     ]
    }
   ],
   "source": [
    "print(classification_report(ys_test, predictions, digits=4))"
   ]
  },
  {
   "cell_type": "markdown",
   "metadata": {},
   "source": [
    "### LDA\n",
    "\n",
    "Leaving one out validation"
   ]
  },
  {
   "cell_type": "code",
   "execution_count": 27,
   "metadata": {},
   "outputs": [
    {
     "name": "stdout",
     "output_type": "stream",
     "text": [
      "CV train score LDA: 0.9502902757619737\n",
      "CV test score LDA: 0.3584905660377358\n"
     ]
    }
   ],
   "source": [
    "clf.fit(Xs_train, ys_train)\n",
    "clf = LDA()\n",
    "\n",
    "cv = cross_validate(clf, X, y, cv=loo, scoring=score, return_train_score=True, n_jobs=-1)\n",
    "print(\"CV train score LDA: {}\".format(cv['train_score'].mean()))\n",
    "print(\"CV test score LDA: {}\".format(cv['test_score'].mean()))"
   ]
  },
  {
   "cell_type": "markdown",
   "metadata": {},
   "source": [
    "Holdout validation"
   ]
  },
  {
   "cell_type": "code",
   "execution_count": 28,
   "metadata": {},
   "outputs": [],
   "source": [
    "clf.fit(Xs_train, ys_train)\n",
    "predictions = clf.predict(Xs_test)\n",
    "#cm = confusion_matrix(ys_test, predictions, labels=clf.classes_)\n",
    "#disp = ConfusionMatrixDisplay(confusion_matrix=cm,display_labels=clf.classes_)\n",
    "#disp.plot(cmap=plt.cm.Blues)\n",
    "#_=plt.axis('off')"
   ]
  },
  {
   "cell_type": "code",
   "execution_count": 29,
   "metadata": {},
   "outputs": [
    {
     "name": "stdout",
     "output_type": "stream",
     "text": [
      "              precision    recall  f1-score   support\n",
      "\n",
      "           0     0.7143    0.5556    0.6250         9\n",
      "           1     0.2857    0.6667    0.4000         3\n",
      "           2     0.7500    0.5000    0.6000         6\n",
      "\n",
      "    accuracy                         0.5556        18\n",
      "   macro avg     0.5833    0.5741    0.5417        18\n",
      "weighted avg     0.6548    0.5556    0.5792        18\n",
      "\n"
     ]
    }
   ],
   "source": [
    "print(classification_report(ys_test, predictions, digits=4))"
   ]
  }
 ],
 "metadata": {
  "kernelspec": {
   "display_name": "Python 3",
   "language": "python",
   "name": "python3"
  },
  "language_info": {
   "codemirror_mode": {
    "name": "ipython",
    "version": 3
   },
   "file_extension": ".py",
   "mimetype": "text/x-python",
   "name": "python",
   "nbconvert_exporter": "python",
   "pygments_lexer": "ipython3",
   "version": "3.8.10"
  },
  "vscode": {
   "interpreter": {
    "hash": "916dbcbb3f70747c44a77c7bcd40155683ae19c65e1c03b4aa3499c5328201f1"
   }
  }
 },
 "nbformat": 4,
 "nbformat_minor": 4
}
