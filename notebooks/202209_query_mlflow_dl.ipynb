{
 "cells": [
  {
   "cell_type": "code",
   "execution_count": 2,
   "metadata": {},
   "outputs": [],
   "source": [
    "%matplotlib inline\n",
    "\n",
    "from matplotlib import pyplot as plt\n",
    "import seaborn as sns\n",
    "sns.set_theme(style=\"darkgrid\")\n",
    "plt.style.use('seaborn-notebook')\n",
    "import mlflow\n",
    "import pandas as pd\n",
    "\n",
    "from mlflow.tracking import MlflowClient\n",
    "\n",
    "MLFLOW_TRACKING_URI=\"http://192.168.1.154:5001/\"\n",
    "mlflow.set_tracking_uri(MLFLOW_TRACKING_URI)\n",
    "\n",
    "import numpy as np\n",
    "\n",
    "from ipywidgets import interact"
   ]
  },
  {
   "cell_type": "code",
   "execution_count": 6,
   "metadata": {},
   "outputs": [],
   "source": [
    "from mlflow.entities import ViewType\n",
    "names = []\n",
    "experiments = mlflow.list_experiments(view_type=ViewType.ALL)\n",
    "for exp in experiments:\n",
    "    names.append(exp.name)"
   ]
  },
  {
   "cell_type": "code",
   "execution_count": 7,
   "metadata": {},
   "outputs": [],
   "source": [
    "model = 'lstm'\n",
    "EXPERIMENT_NAME = f\"/archimedes-dl-{model}\""
   ]
  },
  {
   "cell_type": "code",
   "execution_count": 8,
   "metadata": {},
   "outputs": [],
   "source": [
    "client = MlflowClient()\n",
    "experiment_id = client.get_experiment_by_name(EXPERIMENT_NAME).experiment_id"
   ]
  },
  {
   "cell_type": "code",
   "execution_count": 9,
   "metadata": {},
   "outputs": [
    {
     "name": "stdout",
     "output_type": "stream",
     "text": [
      "Name: /archimedes-dl-lstm\n",
      "Experiment_id: 16\n",
      "Artifact Location: gs://mlflow-arts/16\n",
      "Tags: {}\n",
      "Lifecycle_stage: active\n"
     ]
    }
   ],
   "source": [
    "# Fetch experiment metadata information\n",
    "experiment = client.get_experiment(experiment_id)\n",
    "print(\"Name: {}\".format(experiment.name))\n",
    "print(\"Experiment_id: {}\".format(experiment.experiment_id))\n",
    "print(\"Artifact Location: {}\".format(experiment.artifact_location))\n",
    "print(\"Tags: {}\".format(experiment.tags))\n",
    "print(\"Lifecycle_stage: {}\".format(experiment.lifecycle_stage))"
   ]
  },
  {
   "cell_type": "code",
   "execution_count": 6,
   "metadata": {},
   "outputs": [],
   "source": [
    "runs = mlflow.search_runs(experiment_names=[EXPERIMENT_NAME])"
   ]
  },
  {
   "cell_type": "code",
   "execution_count": 10,
   "metadata": {},
   "outputs": [],
   "source": [
    "status = 'RUNNING'\n",
    "runs = mlflow.search_runs(\n",
    "    experiment_ids=[ experiment_id ],\n",
    "    #filter_string=f\"attribute.status='{status}'\",\n",
    "    output_format=\"pandas\",\n",
    "    order_by=[\"metrics.start_time DESC\"],\n",
    ")"
   ]
  },
  {
   "cell_type": "code",
   "execution_count": 11,
   "metadata": {},
   "outputs": [
    {
     "data": {
      "text/html": [
       "<div>\n",
       "<style scoped>\n",
       "    .dataframe tbody tr th:only-of-type {\n",
       "        vertical-align: middle;\n",
       "    }\n",
       "\n",
       "    .dataframe tbody tr th {\n",
       "        vertical-align: top;\n",
       "    }\n",
       "\n",
       "    .dataframe thead th {\n",
       "        text-align: right;\n",
       "    }\n",
       "</style>\n",
       "<table border=\"1\" class=\"dataframe\">\n",
       "  <thead>\n",
       "    <tr style=\"text-align: right;\">\n",
       "      <th></th>\n",
       "      <th>run_id</th>\n",
       "      <th>experiment_id</th>\n",
       "      <th>status</th>\n",
       "      <th>artifact_uri</th>\n",
       "      <th>start_time</th>\n",
       "      <th>end_time</th>\n",
       "      <th>metrics.false_negatives</th>\n",
       "      <th>metrics.true_negatives</th>\n",
       "      <th>metrics.val_loss</th>\n",
       "      <th>metrics.false_positives</th>\n",
       "      <th>...</th>\n",
       "      <th>tags.mlflow.source.type</th>\n",
       "      <th>tags.mlflow.user</th>\n",
       "      <th>tags.mlflow.project.entryPoint</th>\n",
       "      <th>tags.mlflow.project.backend</th>\n",
       "      <th>tags.mlflow.source.git.commit</th>\n",
       "      <th>tags.mlflow.project.env</th>\n",
       "      <th>tags.features</th>\n",
       "      <th>tags.mlflow.log-model.history</th>\n",
       "      <th>tags.class</th>\n",
       "      <th>tags.model</th>\n",
       "    </tr>\n",
       "  </thead>\n",
       "  <tbody>\n",
       "    <tr>\n",
       "      <th>0</th>\n",
       "      <td>eed441243309441193942b70b630d9e7</td>\n",
       "      <td>16</td>\n",
       "      <td>RUNNING</td>\n",
       "      <td>gs://mlflow-arts/16/eed441243309441193942b70b6...</td>\n",
       "      <td>2022-09-24 02:43:59.324000+00:00</td>\n",
       "      <td>NaT</td>\n",
       "      <td>49261.0</td>\n",
       "      <td>235760.0</td>\n",
       "      <td>0.708203</td>\n",
       "      <td>33546.0</td>\n",
       "      <td>...</td>\n",
       "      <td>PROJECT</td>\n",
       "      <td>spolex</td>\n",
       "      <td>main</td>\n",
       "      <td>local</td>\n",
       "      <td>b8f4ad7307341ba3d92dfc3c82caf085f6072390</td>\n",
       "      <td>docker</td>\n",
       "      <td>None</td>\n",
       "      <td>None</td>\n",
       "      <td>None</td>\n",
       "      <td>None</td>\n",
       "    </tr>\n",
       "    <tr>\n",
       "      <th>1</th>\n",
       "      <td>30b5694d566245bd9767b9aa61bf104f</td>\n",
       "      <td>16</td>\n",
       "      <td>FINISHED</td>\n",
       "      <td>gs://mlflow-arts/16/30b5694d566245bd9767b9aa61...</td>\n",
       "      <td>2022-09-23 23:14:39.033000+00:00</td>\n",
       "      <td>2022-09-24 02:43:59.240000+00:00</td>\n",
       "      <td>61616.0</td>\n",
       "      <td>226278.0</td>\n",
       "      <td>0.887448</td>\n",
       "      <td>43028.0</td>\n",
       "      <td>...</td>\n",
       "      <td>PROJECT</td>\n",
       "      <td>spolex</td>\n",
       "      <td>main</td>\n",
       "      <td>local</td>\n",
       "      <td>b8f4ad7307341ba3d92dfc3c82caf085f6072390</td>\n",
       "      <td>docker</td>\n",
       "      <td>radius_windowing_20220918</td>\n",
       "      <td>[{\"run_id\": \"30b5694d566245bd9767b9aa61bf104f\"...</td>\n",
       "      <td>level</td>\n",
       "      <td>fcnn</td>\n",
       "    </tr>\n",
       "    <tr>\n",
       "      <th>2</th>\n",
       "      <td>23620ac687d247abb6ec3a5985fdea4e</td>\n",
       "      <td>16</td>\n",
       "      <td>FINISHED</td>\n",
       "      <td>gs://mlflow-arts/16/23620ac687d247abb6ec3a5985...</td>\n",
       "      <td>2022-09-23 22:45:42.626000+00:00</td>\n",
       "      <td>2022-09-23 23:14:38.998000+00:00</td>\n",
       "      <td>58888.0</td>\n",
       "      <td>223154.0</td>\n",
       "      <td>0.907563</td>\n",
       "      <td>46152.0</td>\n",
       "      <td>...</td>\n",
       "      <td>PROJECT</td>\n",
       "      <td>spolex</td>\n",
       "      <td>main</td>\n",
       "      <td>local</td>\n",
       "      <td>b8f4ad7307341ba3d92dfc3c82caf085f6072390</td>\n",
       "      <td>docker</td>\n",
       "      <td>radius_windowing_20220918</td>\n",
       "      <td>[{\"run_id\": \"23620ac687d247abb6ec3a5985fdea4e\"...</td>\n",
       "      <td>level</td>\n",
       "      <td>fcnn</td>\n",
       "    </tr>\n",
       "    <tr>\n",
       "      <th>3</th>\n",
       "      <td>6ba758a1e60c4d0589c686a0b62b6dac</td>\n",
       "      <td>16</td>\n",
       "      <td>FINISHED</td>\n",
       "      <td>gs://mlflow-arts/16/6ba758a1e60c4d0589c686a0b6...</td>\n",
       "      <td>2022-09-23 22:12:32.398000+00:00</td>\n",
       "      <td>2022-09-23 22:45:42.589000+00:00</td>\n",
       "      <td>63458.0</td>\n",
       "      <td>227927.0</td>\n",
       "      <td>0.904707</td>\n",
       "      <td>41379.0</td>\n",
       "      <td>...</td>\n",
       "      <td>PROJECT</td>\n",
       "      <td>spolex</td>\n",
       "      <td>main</td>\n",
       "      <td>local</td>\n",
       "      <td>b8f4ad7307341ba3d92dfc3c82caf085f6072390</td>\n",
       "      <td>docker</td>\n",
       "      <td>radius_windowing_20220918</td>\n",
       "      <td>[{\"run_id\": \"6ba758a1e60c4d0589c686a0b62b6dac\"...</td>\n",
       "      <td>level</td>\n",
       "      <td>fcnn</td>\n",
       "    </tr>\n",
       "    <tr>\n",
       "      <th>4</th>\n",
       "      <td>eeaea9b6d52f430c8dcbe5159ead6b72</td>\n",
       "      <td>16</td>\n",
       "      <td>FINISHED</td>\n",
       "      <td>gs://mlflow-arts/16/eeaea9b6d52f430c8dcbe5159e...</td>\n",
       "      <td>2022-09-23 21:51:53.209000+00:00</td>\n",
       "      <td>2022-09-23 22:12:32.365000+00:00</td>\n",
       "      <td>60936.0</td>\n",
       "      <td>225156.0</td>\n",
       "      <td>0.904740</td>\n",
       "      <td>44150.0</td>\n",
       "      <td>...</td>\n",
       "      <td>PROJECT</td>\n",
       "      <td>spolex</td>\n",
       "      <td>main</td>\n",
       "      <td>local</td>\n",
       "      <td>b8f4ad7307341ba3d92dfc3c82caf085f6072390</td>\n",
       "      <td>docker</td>\n",
       "      <td>radius_windowing_20220918</td>\n",
       "      <td>[{\"run_id\": \"eeaea9b6d52f430c8dcbe5159ead6b72\"...</td>\n",
       "      <td>level</td>\n",
       "      <td>fcnn</td>\n",
       "    </tr>\n",
       "    <tr>\n",
       "      <th>...</th>\n",
       "      <td>...</td>\n",
       "      <td>...</td>\n",
       "      <td>...</td>\n",
       "      <td>...</td>\n",
       "      <td>...</td>\n",
       "      <td>...</td>\n",
       "      <td>...</td>\n",
       "      <td>...</td>\n",
       "      <td>...</td>\n",
       "      <td>...</td>\n",
       "      <td>...</td>\n",
       "      <td>...</td>\n",
       "      <td>...</td>\n",
       "      <td>...</td>\n",
       "      <td>...</td>\n",
       "      <td>...</td>\n",
       "      <td>...</td>\n",
       "      <td>...</td>\n",
       "      <td>...</td>\n",
       "      <td>...</td>\n",
       "      <td>...</td>\n",
       "    </tr>\n",
       "    <tr>\n",
       "      <th>171</th>\n",
       "      <td>e19c5cb7df66452b9386ef32df8e94b8</td>\n",
       "      <td>16</td>\n",
       "      <td>FINISHED</td>\n",
       "      <td>gs://mlflow-arts/16/e19c5cb7df66452b9386ef32df...</td>\n",
       "      <td>2022-09-21 18:19:41.276000+00:00</td>\n",
       "      <td>2022-09-21 18:28:33.770000+00:00</td>\n",
       "      <td>7.0</td>\n",
       "      <td>19.0</td>\n",
       "      <td>0.652038</td>\n",
       "      <td>4.0</td>\n",
       "      <td>...</td>\n",
       "      <td>PROJECT</td>\n",
       "      <td>spolex</td>\n",
       "      <td>main</td>\n",
       "      <td>local</td>\n",
       "      <td>b8f4ad7307341ba3d92dfc3c82caf085f6072390</td>\n",
       "      <td>docker</td>\n",
       "      <td>None</td>\n",
       "      <td>[{\"run_id\": \"e19c5cb7df66452b9386ef32df8e94b8\"...</td>\n",
       "      <td>None</td>\n",
       "      <td>None</td>\n",
       "    </tr>\n",
       "    <tr>\n",
       "      <th>172</th>\n",
       "      <td>549e916b205546c4bde2eeb749ae3cbc</td>\n",
       "      <td>16</td>\n",
       "      <td>FINISHED</td>\n",
       "      <td>gs://mlflow-arts/16/549e916b205546c4bde2eeb749...</td>\n",
       "      <td>2022-09-21 18:18:00.781000+00:00</td>\n",
       "      <td>2022-09-21 18:19:41.239000+00:00</td>\n",
       "      <td>12.0</td>\n",
       "      <td>23.0</td>\n",
       "      <td>0.733526</td>\n",
       "      <td>0.0</td>\n",
       "      <td>...</td>\n",
       "      <td>PROJECT</td>\n",
       "      <td>spolex</td>\n",
       "      <td>main</td>\n",
       "      <td>local</td>\n",
       "      <td>b8f4ad7307341ba3d92dfc3c82caf085f6072390</td>\n",
       "      <td>docker</td>\n",
       "      <td>None</td>\n",
       "      <td>[{\"run_id\": \"549e916b205546c4bde2eeb749ae3cbc\"...</td>\n",
       "      <td>None</td>\n",
       "      <td>None</td>\n",
       "    </tr>\n",
       "    <tr>\n",
       "      <th>173</th>\n",
       "      <td>a416ba6e9680413d86ba26dbaefe31bd</td>\n",
       "      <td>16</td>\n",
       "      <td>FINISHED</td>\n",
       "      <td>gs://mlflow-arts/16/a416ba6e9680413d86ba26dbae...</td>\n",
       "      <td>2022-09-21 18:16:20.300000+00:00</td>\n",
       "      <td>2022-09-21 18:18:00.742000+00:00</td>\n",
       "      <td>12.0</td>\n",
       "      <td>23.0</td>\n",
       "      <td>0.714695</td>\n",
       "      <td>0.0</td>\n",
       "      <td>...</td>\n",
       "      <td>PROJECT</td>\n",
       "      <td>spolex</td>\n",
       "      <td>main</td>\n",
       "      <td>local</td>\n",
       "      <td>b8f4ad7307341ba3d92dfc3c82caf085f6072390</td>\n",
       "      <td>docker</td>\n",
       "      <td>None</td>\n",
       "      <td>[{\"run_id\": \"a416ba6e9680413d86ba26dbaefe31bd\"...</td>\n",
       "      <td>None</td>\n",
       "      <td>None</td>\n",
       "    </tr>\n",
       "    <tr>\n",
       "      <th>174</th>\n",
       "      <td>906c0be6bd6542859e64a97e23e3f587</td>\n",
       "      <td>16</td>\n",
       "      <td>FINISHED</td>\n",
       "      <td>gs://mlflow-arts/16/906c0be6bd6542859e64a97e23...</td>\n",
       "      <td>2022-09-21 18:14:30.179000+00:00</td>\n",
       "      <td>2022-09-21 18:16:20.260000+00:00</td>\n",
       "      <td>12.0</td>\n",
       "      <td>23.0</td>\n",
       "      <td>0.724461</td>\n",
       "      <td>0.0</td>\n",
       "      <td>...</td>\n",
       "      <td>PROJECT</td>\n",
       "      <td>spolex</td>\n",
       "      <td>main</td>\n",
       "      <td>local</td>\n",
       "      <td>b8f4ad7307341ba3d92dfc3c82caf085f6072390</td>\n",
       "      <td>docker</td>\n",
       "      <td>None</td>\n",
       "      <td>[{\"run_id\": \"906c0be6bd6542859e64a97e23e3f587\"...</td>\n",
       "      <td>None</td>\n",
       "      <td>None</td>\n",
       "    </tr>\n",
       "    <tr>\n",
       "      <th>175</th>\n",
       "      <td>3038f31d192444109ec5d6fd5363c75e</td>\n",
       "      <td>16</td>\n",
       "      <td>FINISHED</td>\n",
       "      <td>gs://mlflow-arts/16/3038f31d192444109ec5d6fd53...</td>\n",
       "      <td>2022-09-21 18:12:30.076000+00:00</td>\n",
       "      <td>2022-09-21 18:14:30.133000+00:00</td>\n",
       "      <td>12.0</td>\n",
       "      <td>23.0</td>\n",
       "      <td>0.704226</td>\n",
       "      <td>0.0</td>\n",
       "      <td>...</td>\n",
       "      <td>PROJECT</td>\n",
       "      <td>spolex</td>\n",
       "      <td>main</td>\n",
       "      <td>local</td>\n",
       "      <td>fd17656ad9473cac7c66ca38edcff1a4dd084bbf</td>\n",
       "      <td>docker</td>\n",
       "      <td>None</td>\n",
       "      <td>[{\"run_id\": \"3038f31d192444109ec5d6fd5363c75e\"...</td>\n",
       "      <td>None</td>\n",
       "      <td>None</td>\n",
       "    </tr>\n",
       "  </tbody>\n",
       "</table>\n",
       "<p>176 rows × 74 columns</p>\n",
       "</div>"
      ],
      "text/plain": [
       "                               run_id experiment_id    status  \\\n",
       "0    eed441243309441193942b70b630d9e7            16   RUNNING   \n",
       "1    30b5694d566245bd9767b9aa61bf104f            16  FINISHED   \n",
       "2    23620ac687d247abb6ec3a5985fdea4e            16  FINISHED   \n",
       "3    6ba758a1e60c4d0589c686a0b62b6dac            16  FINISHED   \n",
       "4    eeaea9b6d52f430c8dcbe5159ead6b72            16  FINISHED   \n",
       "..                                ...           ...       ...   \n",
       "171  e19c5cb7df66452b9386ef32df8e94b8            16  FINISHED   \n",
       "172  549e916b205546c4bde2eeb749ae3cbc            16  FINISHED   \n",
       "173  a416ba6e9680413d86ba26dbaefe31bd            16  FINISHED   \n",
       "174  906c0be6bd6542859e64a97e23e3f587            16  FINISHED   \n",
       "175  3038f31d192444109ec5d6fd5363c75e            16  FINISHED   \n",
       "\n",
       "                                          artifact_uri  \\\n",
       "0    gs://mlflow-arts/16/eed441243309441193942b70b6...   \n",
       "1    gs://mlflow-arts/16/30b5694d566245bd9767b9aa61...   \n",
       "2    gs://mlflow-arts/16/23620ac687d247abb6ec3a5985...   \n",
       "3    gs://mlflow-arts/16/6ba758a1e60c4d0589c686a0b6...   \n",
       "4    gs://mlflow-arts/16/eeaea9b6d52f430c8dcbe5159e...   \n",
       "..                                                 ...   \n",
       "171  gs://mlflow-arts/16/e19c5cb7df66452b9386ef32df...   \n",
       "172  gs://mlflow-arts/16/549e916b205546c4bde2eeb749...   \n",
       "173  gs://mlflow-arts/16/a416ba6e9680413d86ba26dbae...   \n",
       "174  gs://mlflow-arts/16/906c0be6bd6542859e64a97e23...   \n",
       "175  gs://mlflow-arts/16/3038f31d192444109ec5d6fd53...   \n",
       "\n",
       "                          start_time                         end_time  \\\n",
       "0   2022-09-24 02:43:59.324000+00:00                              NaT   \n",
       "1   2022-09-23 23:14:39.033000+00:00 2022-09-24 02:43:59.240000+00:00   \n",
       "2   2022-09-23 22:45:42.626000+00:00 2022-09-23 23:14:38.998000+00:00   \n",
       "3   2022-09-23 22:12:32.398000+00:00 2022-09-23 22:45:42.589000+00:00   \n",
       "4   2022-09-23 21:51:53.209000+00:00 2022-09-23 22:12:32.365000+00:00   \n",
       "..                               ...                              ...   \n",
       "171 2022-09-21 18:19:41.276000+00:00 2022-09-21 18:28:33.770000+00:00   \n",
       "172 2022-09-21 18:18:00.781000+00:00 2022-09-21 18:19:41.239000+00:00   \n",
       "173 2022-09-21 18:16:20.300000+00:00 2022-09-21 18:18:00.742000+00:00   \n",
       "174 2022-09-21 18:14:30.179000+00:00 2022-09-21 18:16:20.260000+00:00   \n",
       "175 2022-09-21 18:12:30.076000+00:00 2022-09-21 18:14:30.133000+00:00   \n",
       "\n",
       "     metrics.false_negatives  metrics.true_negatives  metrics.val_loss  \\\n",
       "0                    49261.0                235760.0          0.708203   \n",
       "1                    61616.0                226278.0          0.887448   \n",
       "2                    58888.0                223154.0          0.907563   \n",
       "3                    63458.0                227927.0          0.904707   \n",
       "4                    60936.0                225156.0          0.904740   \n",
       "..                       ...                     ...               ...   \n",
       "171                      7.0                    19.0          0.652038   \n",
       "172                     12.0                    23.0          0.733526   \n",
       "173                     12.0                    23.0          0.714695   \n",
       "174                     12.0                    23.0          0.724461   \n",
       "175                     12.0                    23.0          0.704226   \n",
       "\n",
       "     metrics.false_positives  ...  tags.mlflow.source.type  tags.mlflow.user  \\\n",
       "0                    33546.0  ...                  PROJECT            spolex   \n",
       "1                    43028.0  ...                  PROJECT            spolex   \n",
       "2                    46152.0  ...                  PROJECT            spolex   \n",
       "3                    41379.0  ...                  PROJECT            spolex   \n",
       "4                    44150.0  ...                  PROJECT            spolex   \n",
       "..                       ...  ...                      ...               ...   \n",
       "171                      4.0  ...                  PROJECT            spolex   \n",
       "172                      0.0  ...                  PROJECT            spolex   \n",
       "173                      0.0  ...                  PROJECT            spolex   \n",
       "174                      0.0  ...                  PROJECT            spolex   \n",
       "175                      0.0  ...                  PROJECT            spolex   \n",
       "\n",
       "     tags.mlflow.project.entryPoint  tags.mlflow.project.backend  \\\n",
       "0                              main                        local   \n",
       "1                              main                        local   \n",
       "2                              main                        local   \n",
       "3                              main                        local   \n",
       "4                              main                        local   \n",
       "..                              ...                          ...   \n",
       "171                            main                        local   \n",
       "172                            main                        local   \n",
       "173                            main                        local   \n",
       "174                            main                        local   \n",
       "175                            main                        local   \n",
       "\n",
       "                tags.mlflow.source.git.commit  tags.mlflow.project.env  \\\n",
       "0    b8f4ad7307341ba3d92dfc3c82caf085f6072390                   docker   \n",
       "1    b8f4ad7307341ba3d92dfc3c82caf085f6072390                   docker   \n",
       "2    b8f4ad7307341ba3d92dfc3c82caf085f6072390                   docker   \n",
       "3    b8f4ad7307341ba3d92dfc3c82caf085f6072390                   docker   \n",
       "4    b8f4ad7307341ba3d92dfc3c82caf085f6072390                   docker   \n",
       "..                                        ...                      ...   \n",
       "171  b8f4ad7307341ba3d92dfc3c82caf085f6072390                   docker   \n",
       "172  b8f4ad7307341ba3d92dfc3c82caf085f6072390                   docker   \n",
       "173  b8f4ad7307341ba3d92dfc3c82caf085f6072390                   docker   \n",
       "174  b8f4ad7307341ba3d92dfc3c82caf085f6072390                   docker   \n",
       "175  fd17656ad9473cac7c66ca38edcff1a4dd084bbf                   docker   \n",
       "\n",
       "                 tags.features  \\\n",
       "0                         None   \n",
       "1    radius_windowing_20220918   \n",
       "2    radius_windowing_20220918   \n",
       "3    radius_windowing_20220918   \n",
       "4    radius_windowing_20220918   \n",
       "..                         ...   \n",
       "171                       None   \n",
       "172                       None   \n",
       "173                       None   \n",
       "174                       None   \n",
       "175                       None   \n",
       "\n",
       "                         tags.mlflow.log-model.history  tags.class  tags.model  \n",
       "0                                                 None        None        None  \n",
       "1    [{\"run_id\": \"30b5694d566245bd9767b9aa61bf104f\"...       level        fcnn  \n",
       "2    [{\"run_id\": \"23620ac687d247abb6ec3a5985fdea4e\"...       level        fcnn  \n",
       "3    [{\"run_id\": \"6ba758a1e60c4d0589c686a0b62b6dac\"...       level        fcnn  \n",
       "4    [{\"run_id\": \"eeaea9b6d52f430c8dcbe5159ead6b72\"...       level        fcnn  \n",
       "..                                                 ...         ...         ...  \n",
       "171  [{\"run_id\": \"e19c5cb7df66452b9386ef32df8e94b8\"...        None        None  \n",
       "172  [{\"run_id\": \"549e916b205546c4bde2eeb749ae3cbc\"...        None        None  \n",
       "173  [{\"run_id\": \"a416ba6e9680413d86ba26dbaefe31bd\"...        None        None  \n",
       "174  [{\"run_id\": \"906c0be6bd6542859e64a97e23e3f587\"...        None        None  \n",
       "175  [{\"run_id\": \"3038f31d192444109ec5d6fd5363c75e\"...        None        None  \n",
       "\n",
       "[176 rows x 74 columns]"
      ]
     },
     "execution_count": 11,
     "metadata": {},
     "output_type": "execute_result"
    }
   ],
   "source": [
    "runs"
   ]
  },
  {
   "cell_type": "code",
   "execution_count": 14,
   "metadata": {},
   "outputs": [
    {
     "data": {
      "text/plain": [
       "run_id                                            eed441243309441193942b70b630d9e7\n",
       "experiment_id                                                                   16\n",
       "status                                                                     RUNNING\n",
       "artifact_uri                     gs://mlflow-arts/16/eed441243309441193942b70b6...\n",
       "start_time                                        2022-09-24 02:43:59.324000+00:00\n",
       "                                                       ...                        \n",
       "tags.mlflow.project.env                                                     docker\n",
       "tags.features                                                                 None\n",
       "tags.mlflow.log-model.history                                                 None\n",
       "tags.class                                                                    None\n",
       "tags.model                                                                    None\n",
       "Name: 0, Length: 74, dtype: object"
      ]
     },
     "execution_count": 14,
     "metadata": {},
     "output_type": "execute_result"
    }
   ],
   "source": [
    "last_run = runs.iloc[0]\n",
    "last_run"
   ]
  },
  {
   "cell_type": "code",
   "execution_count": 60,
   "metadata": {},
   "outputs": [
    {
     "data": {
      "text/plain": [
       "Index(['run_id', 'experiment_id', 'status', 'artifact_uri', 'start_time',\n",
       "       'end_time', 'metrics.false_negatives', 'metrics.true_negatives',\n",
       "       'metrics.val_loss', 'metrics.false_positives', 'metrics.recall',\n",
       "       'metrics.val_false_positives', 'metrics.val_true_positives',\n",
       "       'metrics.true_positives', 'metrics.loss', 'metrics.val_false_negatives',\n",
       "       'metrics.accuracy', 'metrics.val_recall', 'metrics.precision',\n",
       "       'metrics.val_true_negatives', 'metrics.val_accuracy',\n",
       "       'metrics.val_precision', 'metrics.stopped_epoch', 'params.opt_momentum',\n",
       "       'params.validation_steps', 'params.mini_batch_size', 'params.seed',\n",
       "       'params.sample_weight', 'params.monitor', 'params.validation_freq',\n",
       "       'params.shuffle', 'params.max_epoch', 'params.n_layers',\n",
       "       'params.epochs', 'params.n_units', 'params.opt_learning_rate',\n",
       "       'params.test_ratio', 'params.max_queue_size',\n",
       "       'params.use_multiprocessing', 'params.validation_split',\n",
       "       'params.min_delta', 'params.labels_table', 'params.class_weight',\n",
       "       'params.patience', 'params.validation_batch_size', 'params.drop_out',\n",
       "       'params.restore_best_weights', 'params.batch_size', 'params.opt_name',\n",
       "       'params.steps_per_epoch', 'params.workers', 'params.opt_nesterov',\n",
       "       'params.features_table', 'params.baseline', 'params.day',\n",
       "       'params.initial_epoch', 'params.opt_decay', 'params.lstm_units',\n",
       "       'params.n_outputs', 'tags.mlflow.gitRepoURL',\n",
       "       'tags.mlflow.source.git.repoURL', 'tags.mlflow.docker.image.uri',\n",
       "       'tags.mlflow.source.name', 'tags.mlflow.docker.image.id',\n",
       "       'tags.mlflow.source.type', 'tags.mlflow.user',\n",
       "       'tags.mlflow.project.entryPoint', 'tags.mlflow.project.backend',\n",
       "       'tags.mlflow.source.git.commit', 'tags.mlflow.project.env',\n",
       "       'tags.features', 'tags.mlflow.log-model.history', 'tags.class',\n",
       "       'tags.model'],\n",
       "      dtype='object')"
      ]
     },
     "execution_count": 60,
     "metadata": {},
     "output_type": "execute_result"
    }
   ],
   "source": [
    "last_run.index"
   ]
  },
  {
   "cell_type": "code",
   "execution_count": 69,
   "metadata": {},
   "outputs": [
    {
     "data": {
      "text/plain": [
       "'RUNNING'"
      ]
     },
     "execution_count": 69,
     "metadata": {},
     "output_type": "execute_result"
    }
   ],
   "source": [
    "last_run['status']"
   ]
  },
  {
   "cell_type": "code",
   "execution_count": 16,
   "metadata": {},
   "outputs": [
    {
     "data": {
      "text/plain": [
       "('radius_windowing_20220918', 'levels_20220918')"
      ]
     },
     "execution_count": 16,
     "metadata": {},
     "output_type": "execute_result"
    }
   ],
   "source": [
    "last_run['params.features_table'], last_run['params.labels_table']"
   ]
  },
  {
   "cell_type": "code",
   "execution_count": 78,
   "metadata": {},
   "outputs": [
    {
     "data": {
      "text/plain": [
       "array(['radius_windowing_20220918', 'radius_windowing__1_20220918',\n",
       "       'residues_windowing_20220918', 'residues_windowing__1_20220918'],\n",
       "      dtype='<U30')"
      ]
     },
     "execution_count": 78,
     "metadata": {},
     "output_type": "execute_result"
    }
   ],
   "source": [
    "input_tables = np.array([\"radius_20220918\", \"radius_windowing_20220918\", \"radius_windowing__1_20220918\", \n",
    "                \"residues_windowing_20220918\", \"residues_windowing__1_20220918\"])\n",
    "\n",
    "fr = np.where(input_tables == last_run['params.features_table'])[0][0]\n",
    "input_tables[fr:]"
   ]
  },
  {
   "cell_type": "code",
   "execution_count": 45,
   "metadata": {},
   "outputs": [
    {
     "data": {
      "image/png": "[encoded data removed]",
      "text/plain": [
       "<Figure size 576x396 with 1 Axes>"
      ]
     },
     "metadata": {},
     "output_type": "display_data"
    }
   ],
   "source": [
    "plt.title(\"accuracy\")\n",
    "\n",
    "plt.plot([i.value for i in client.get_metric_history(last_run['run_id'], 'accuracy')])\n",
    "plt.plot([i.value for i in client.get_metric_history(last_run['run_id'], 'val_accuracy')], linestyle='--')\n",
    "_=plt.legend(['accuracy','val_accuracy'],bbox_to_anchor=(1.25, 1.))"
   ]
  },
  {
   "cell_type": "code",
   "execution_count": 46,
   "metadata": {},
   "outputs": [
    {
     "data": {
      "text/plain": [
       "(0.6867800951004028, 0.6953395009040833)"
      ]
     },
     "execution_count": 46,
     "metadata": {},
     "output_type": "execute_result"
    }
   ],
   "source": [
    "last_run['metrics.accuracy'], last_run['metrics.val_accuracy']"
   ]
  },
  {
   "cell_type": "code",
   "execution_count": 47,
   "metadata": {},
   "outputs": [
    {
     "data": {
      "image/png": "[encoded data removed]",
      "text/plain": [
       "<Figure size 576x396 with 1 Axes>"
      ]
     },
     "metadata": {},
     "output_type": "display_data"
    }
   ],
   "source": [
    "plt.title(\"loss\")\n",
    "plt.plot([i.value for i in client.get_metric_history(last_run['run_id'], 'loss')])\n",
    "plt.plot([i.value for i in client.get_metric_history(last_run['run_id'], 'val_loss')], linestyle='--')\n",
    "_=plt.legend(['loss','val_loss'],bbox_to_anchor=(1.2, 1.))"
   ]
  },
  {
   "cell_type": "code",
   "execution_count": 48,
   "metadata": {},
   "outputs": [
    {
     "data": {
      "text/plain": [
       "(0.721096396446228, 0.7082030773162842)"
      ]
     },
     "execution_count": 48,
     "metadata": {},
     "output_type": "execute_result"
    }
   ],
   "source": [
    "last_run['metrics.loss'], last_run['metrics.val_loss']"
   ]
  },
  {
   "cell_type": "code",
   "execution_count": 49,
   "metadata": {},
   "outputs": [
    {
     "data": {
      "text/plain": [
       "16895.0"
      ]
     },
     "execution_count": 49,
     "metadata": {},
     "output_type": "execute_result"
    }
   ],
   "source": [
    " last_run['metrics.val_false_positives']"
   ]
  },
  {
   "cell_type": "code",
   "execution_count": 50,
   "metadata": {},
   "outputs": [
    {
     "data": {
      "text/plain": [
       "array([['TP', 'FP'],\n",
       "       ['FN', 'TN']], dtype='<U2')"
      ]
     },
     "execution_count": 50,
     "metadata": {},
     "output_type": "execute_result"
    }
   ],
   "source": [
    "cm = np.array([['TP','FP'],['FN','TN']])\n",
    "cm"
   ]
  },
  {
   "cell_type": "code",
   "execution_count": 51,
   "metadata": {},
   "outputs": [
    {
     "data": {
      "image/png": "[encoded data removed]",
      "text/plain": [
       "<Figure size 576x396 with 1 Axes>"
      ]
     },
     "metadata": {},
     "output_type": "display_data"
    }
   ],
   "source": [
    "import numpy as np\n",
    "import matplotlib.pyplot as plt\n",
    "\n",
    "cm = np.array([[last_run['metrics.val_true_negatives'], last_run['metrics.val_false_negatives']],\n",
    "[last_run['metrics.val_false_positives'] ,last_run['metrics.val_true_positives']]]).astype(np.int32)\n",
    "\n",
    "_ = sns.heatmap(cm, annot=True, fmt=\"d\", cmap='Blues', cbar=False)"
   ]
  },
  {
   "cell_type": "markdown",
   "metadata": {},
   "source": [
    "$$ Accuracy: \\frac{TP + TN}{TP + TN + FP + FN} $$ \n",
    "\n",
    "$$    Recall: \\frac{TP}{TP + FN} $$\n",
    "\n",
    "$$    Precision: \\frac{TP}{TP + FP} $$\n",
    "\n",
    "$$    Specifity: \\frac{TN}{TN + FP} $$\n",
    "\n",
    "Where TP, TN, FP, and FN are, respectively, the true positive, true negative, false positive and false negative values\n",
    "of the confusion matrix. The positive case corresponds to the ET subjects while the negative case to the CT ones.\n",
    "\n",
    "**Equations explained**\n",
    "\n",
    "* Sensitivity/recall – how good a test is at detecting the positives. A test can cheat and maximize this by always returning “positive”. From the whole positive cases how many of them where properly detected.\n",
    "* Specificity – how good a test is at avoiding false alarms. A test can cheat and maximize this by always returning “negative”.\n",
    "* Precision – how many of the positively classified were relevant. A test can cheat and maximize this by only returning positive on one result it’s most confident in. \n",
    "\n",
    "The cheating is resolved by looking at both relevant metrics instead of just one. E.g. the cheating 100% sensitivity that always says “positive” has 0% specificity."
   ]
  },
  {
   "cell_type": "code",
   "execution_count": 52,
   "metadata": {},
   "outputs": [
    {
     "data": {
      "text/plain": [
       "(115751, 22901, 16895, 43422)"
      ]
     },
     "execution_count": 52,
     "metadata": {},
     "output_type": "execute_result"
    }
   ],
   "source": [
    "tn, fp, fn, tp = cm.flatten()\n",
    "tn, fp, fn, tp"
   ]
  },
  {
   "cell_type": "code",
   "execution_count": 53,
   "metadata": {},
   "outputs": [
    {
     "data": {
      "text/plain": [
       "79.9988943001171"
      ]
     },
     "execution_count": 53,
     "metadata": {},
     "output_type": "execute_result"
    }
   ],
   "source": [
    "accuracy = (tp+tn)/(tp+fp+fn+tn)\n",
    "100 * accuracy"
   ]
  },
  {
   "cell_type": "code",
   "execution_count": 26,
   "metadata": {},
   "outputs": [
    {
     "data": {
      "text/plain": [
       "(71.98965465789081, 83.48310879035283)"
      ]
     },
     "execution_count": 26,
     "metadata": {},
     "output_type": "execute_result"
    }
   ],
   "source": [
    "#Recall Sensitivity / Specifity\n",
    "100 * (tp)/(tp+fn), 100 * (tn)/(tn+fp)"
   ]
  },
  {
   "cell_type": "code",
   "execution_count": 27,
   "metadata": {},
   "outputs": [
    {
     "data": {
      "text/plain": [
       "(65.47050042971519, 0.8726309123531807)"
      ]
     },
     "execution_count": 27,
     "metadata": {},
     "output_type": "execute_result"
    }
   ],
   "source": [
    "# Precission positive / negative\n",
    "100 * (tp)/(tp+fp), (tn)/(tn+fn)"
   ]
  },
  {
   "cell_type": "code",
   "execution_count": 28,
   "metadata": {},
   "outputs": [],
   "source": [
    "# Save summary for documentation purposes "
   ]
  },
  {
   "cell_type": "code",
   "execution_count": 31,
   "metadata": {},
   "outputs": [
    {
     "data": {
      "text/html": [
       "<div>\n",
       "<style scoped>\n",
       "    .dataframe tbody tr th:only-of-type {\n",
       "        vertical-align: middle;\n",
       "    }\n",
       "\n",
       "    .dataframe tbody tr th {\n",
       "        vertical-align: top;\n",
       "    }\n",
       "\n",
       "    .dataframe thead th {\n",
       "        text-align: right;\n",
       "    }\n",
       "</style>\n",
       "<table border=\"1\" class=\"dataframe\">\n",
       "  <thead>\n",
       "    <tr style=\"text-align: right;\">\n",
       "      <th></th>\n",
       "      <th>params.features_table</th>\n",
       "      <th>params.labels_table</th>\n",
       "      <th>metrics.accuracy</th>\n",
       "      <th>metrics.val_accuracy</th>\n",
       "    </tr>\n",
       "  </thead>\n",
       "  <tbody>\n",
       "    <tr>\n",
       "      <th>0</th>\n",
       "      <td>radius_windowing_20220918</td>\n",
       "      <td>levels_20220918</td>\n",
       "      <td>0.686780</td>\n",
       "      <td>0.695340</td>\n",
       "    </tr>\n",
       "    <tr>\n",
       "      <th>1</th>\n",
       "      <td>radius_windowing_20220918</td>\n",
       "      <td>levels_20220918</td>\n",
       "      <td>0.605616</td>\n",
       "      <td>0.617086</td>\n",
       "    </tr>\n",
       "    <tr>\n",
       "      <th>2</th>\n",
       "      <td>radius_windowing_20220918</td>\n",
       "      <td>levels_20220918</td>\n",
       "      <td>0.605207</td>\n",
       "      <td>0.604345</td>\n",
       "    </tr>\n",
       "    <tr>\n",
       "      <th>3</th>\n",
       "      <td>radius_windowing_20220918</td>\n",
       "      <td>levels_20220918</td>\n",
       "      <td>0.604546</td>\n",
       "      <td>0.604270</td>\n",
       "    </tr>\n",
       "    <tr>\n",
       "      <th>4</th>\n",
       "      <td>radius_windowing_20220918</td>\n",
       "      <td>levels_20220918</td>\n",
       "      <td>0.603900</td>\n",
       "      <td>0.604270</td>\n",
       "    </tr>\n",
       "    <tr>\n",
       "      <th>...</th>\n",
       "      <td>...</td>\n",
       "      <td>...</td>\n",
       "      <td>...</td>\n",
       "      <td>...</td>\n",
       "    </tr>\n",
       "    <tr>\n",
       "      <th>171</th>\n",
       "      <td>radius_20220918</td>\n",
       "      <td>labels_20220918</td>\n",
       "      <td>0.685714</td>\n",
       "      <td>0.722222</td>\n",
       "    </tr>\n",
       "    <tr>\n",
       "      <th>172</th>\n",
       "      <td>radius_20220918</td>\n",
       "      <td>labels_20220918</td>\n",
       "      <td>0.657143</td>\n",
       "      <td>0.500000</td>\n",
       "    </tr>\n",
       "    <tr>\n",
       "      <th>173</th>\n",
       "      <td>radius_20220918</td>\n",
       "      <td>labels_20220918</td>\n",
       "      <td>0.657143</td>\n",
       "      <td>0.500000</td>\n",
       "    </tr>\n",
       "    <tr>\n",
       "      <th>174</th>\n",
       "      <td>radius_20220918</td>\n",
       "      <td>labels_20220918</td>\n",
       "      <td>0.657143</td>\n",
       "      <td>0.500000</td>\n",
       "    </tr>\n",
       "    <tr>\n",
       "      <th>175</th>\n",
       "      <td>radius_20220918</td>\n",
       "      <td>labels_20220918</td>\n",
       "      <td>0.657143</td>\n",
       "      <td>0.500000</td>\n",
       "    </tr>\n",
       "  </tbody>\n",
       "</table>\n",
       "<p>176 rows × 4 columns</p>\n",
       "</div>"
      ],
      "text/plain": [
       "         params.features_table params.labels_table  metrics.accuracy  \\\n",
       "0    radius_windowing_20220918     levels_20220918          0.686780   \n",
       "1    radius_windowing_20220918     levels_20220918          0.605616   \n",
       "2    radius_windowing_20220918     levels_20220918          0.605207   \n",
       "3    radius_windowing_20220918     levels_20220918          0.604546   \n",
       "4    radius_windowing_20220918     levels_20220918          0.603900   \n",
       "..                         ...                 ...               ...   \n",
       "171            radius_20220918     labels_20220918          0.685714   \n",
       "172            radius_20220918     labels_20220918          0.657143   \n",
       "173            radius_20220918     labels_20220918          0.657143   \n",
       "174            radius_20220918     labels_20220918          0.657143   \n",
       "175            radius_20220918     labels_20220918          0.657143   \n",
       "\n",
       "     metrics.val_accuracy  \n",
       "0                0.695340  \n",
       "1                0.617086  \n",
       "2                0.604345  \n",
       "3                0.604270  \n",
       "4                0.604270  \n",
       "..                    ...  \n",
       "171              0.722222  \n",
       "172              0.500000  \n",
       "173              0.500000  \n",
       "174              0.500000  \n",
       "175              0.500000  \n",
       "\n",
       "[176 rows x 4 columns]"
      ]
     },
     "execution_count": 31,
     "metadata": {},
     "output_type": "execute_result"
    }
   ],
   "source": [
    "usecols = ['params.features_table', 'params.labels_table'] + list(runs.columns[['accuracy' in column for column in runs.columns]])\n",
    "df = runs[usecols]\n",
    "df"
   ]
  },
  {
   "cell_type": "code",
   "execution_count": 55,
   "metadata": {},
   "outputs": [
    {
     "data": {
      "text/html": [
       "<div>\n",
       "<style scoped>\n",
       "    .dataframe tbody tr th:only-of-type {\n",
       "        vertical-align: middle;\n",
       "    }\n",
       "\n",
       "    .dataframe tbody tr th {\n",
       "        vertical-align: top;\n",
       "    }\n",
       "\n",
       "    .dataframe thead tr th {\n",
       "        text-align: left;\n",
       "    }\n",
       "\n",
       "    .dataframe thead tr:last-of-type th {\n",
       "        text-align: right;\n",
       "    }\n",
       "</style>\n",
       "<table border=\"1\" class=\"dataframe\">\n",
       "  <thead>\n",
       "    <tr>\n",
       "      <th></th>\n",
       "      <th colspan=\"2\" halign=\"left\">metrics.accuracy</th>\n",
       "      <th colspan=\"2\" halign=\"left\">metrics.val_accuracy</th>\n",
       "    </tr>\n",
       "    <tr>\n",
       "      <th>params.labels_table</th>\n",
       "      <th>labels_20220918</th>\n",
       "      <th>levels_20220918</th>\n",
       "      <th>labels_20220918</th>\n",
       "      <th>levels_20220918</th>\n",
       "    </tr>\n",
       "    <tr>\n",
       "      <th>params.features_table</th>\n",
       "      <th></th>\n",
       "      <th></th>\n",
       "      <th></th>\n",
       "      <th></th>\n",
       "    </tr>\n",
       "  </thead>\n",
       "  <tbody>\n",
       "    <tr>\n",
       "      <th>radius_20220918</th>\n",
       "      <td>0.771429</td>\n",
       "      <td>NaN</td>\n",
       "      <td>0.722222</td>\n",
       "      <td>NaN</td>\n",
       "    </tr>\n",
       "    <tr>\n",
       "      <th>radius_windowing_20220918</th>\n",
       "      <td>NaN</td>\n",
       "      <td>0.686780</td>\n",
       "      <td>NaN</td>\n",
       "      <td>0.69534</td>\n",
       "    </tr>\n",
       "    <tr>\n",
       "      <th>residues_rolling_20220918</th>\n",
       "      <td>NaN</td>\n",
       "      <td>0.742857</td>\n",
       "      <td>NaN</td>\n",
       "      <td>0.50000</td>\n",
       "    </tr>\n",
       "  </tbody>\n",
       "</table>\n",
       "</div>"
      ],
      "text/plain": [
       "                          metrics.accuracy                  \\\n",
       "params.labels_table        labels_20220918 levels_20220918   \n",
       "params.features_table                                        \n",
       "radius_20220918                   0.771429             NaN   \n",
       "radius_windowing_20220918              NaN        0.686780   \n",
       "residues_rolling_20220918              NaN        0.742857   \n",
       "\n",
       "                          metrics.val_accuracy                  \n",
       "params.labels_table            labels_20220918 levels_20220918  \n",
       "params.features_table                                           \n",
       "radius_20220918                       0.722222             NaN  \n",
       "radius_windowing_20220918                  NaN         0.69534  \n",
       "residues_rolling_20220918                  NaN         0.50000  "
      ]
     },
     "execution_count": 55,
     "metadata": {},
     "output_type": "execute_result"
    }
   ],
   "source": [
    "df.groupby([\"params.features_table\", \"params.labels_table\"]).max().unstack(-1)"
   ]
  }
 ],
 "metadata": {
  "kernelspec": {
   "display_name": "Python 3",
   "language": "python",
   "name": "python3"
  },
  "language_info": {
   "codemirror_mode": {
    "name": "ipython",
    "version": 3
   },
   "file_extension": ".py",
   "mimetype": "text/x-python",
   "name": "python",
   "nbconvert_exporter": "python",
   "pygments_lexer": "ipython3",
   "version": "3.8.10"
  },
  "toc-autonumbering": true,
  "toc-showcode": false,
  "toc-showmarkdowntxt": true
 },
 "nbformat": 4,
 "nbformat_minor": 4
}
