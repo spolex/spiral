{
 "cells": [
  {
   "cell_type": "code",
   "execution_count": 1,
   "metadata": {},
   "outputs": [],
   "source": [
    "import pandas as pd\n",
    "import numpy as np\n",
    "from collections import Counter\n",
    "from os import path\n",
    "from scipy.signal import resample\n",
    "import matplotlib as mpl\n",
    "from matplotlib import pyplot as plt\n",
    "import seaborn as sns\n",
    "sns.set_theme(style=\"whitegrid\")\n",
    "mpl.style.use('seaborn-notebook')\n",
    "%matplotlib inline\n",
    "#sorted(mpl.style.available)\n",
    "\n",
    "# setting up variables\n",
    "doc_path = \"/data/elekin/doc\"\n",
    "\n",
    "%matplotlib inline"
   ]
  },
  {
   "cell_type": "code",
   "execution_count": 2,
   "metadata": {},
   "outputs": [],
   "source": [
    "#plt.style.available"
   ]
  },
  {
   "cell_type": "code",
   "execution_count": 3,
   "metadata": {},
   "outputs": [
    {
     "name": "stdout",
     "output_type": "stream",
     "text": [
      "Loaded data from CSV\n"
     ]
    },
    {
     "data": {
      "text/html": [
       "<div>\n",
       "<style scoped>\n",
       "    .dataframe tbody tr th:only-of-type {\n",
       "        vertical-align: middle;\n",
       "    }\n",
       "\n",
       "    .dataframe tbody tr th {\n",
       "        vertical-align: top;\n",
       "    }\n",
       "\n",
       "    .dataframe thead th {\n",
       "        text-align: right;\n",
       "    }\n",
       "</style>\n",
       "<table border=\"1\" class=\"dataframe\">\n",
       "  <thead>\n",
       "    <tr style=\"text-align: right;\">\n",
       "      <th></th>\n",
       "      <th>0</th>\n",
       "      <th>1</th>\n",
       "      <th>2</th>\n",
       "      <th>3</th>\n",
       "      <th>4</th>\n",
       "      <th>5</th>\n",
       "      <th>6</th>\n",
       "      <th>7</th>\n",
       "      <th>8</th>\n",
       "      <th>9</th>\n",
       "      <th>...</th>\n",
       "      <th>4086</th>\n",
       "      <th>4087</th>\n",
       "      <th>4088</th>\n",
       "      <th>4089</th>\n",
       "      <th>4090</th>\n",
       "      <th>4091</th>\n",
       "      <th>4092</th>\n",
       "      <th>4093</th>\n",
       "      <th>4094</th>\n",
       "      <th>4095</th>\n",
       "    </tr>\n",
       "    <tr>\n",
       "      <th>subject_id</th>\n",
       "      <th></th>\n",
       "      <th></th>\n",
       "      <th></th>\n",
       "      <th></th>\n",
       "      <th></th>\n",
       "      <th></th>\n",
       "      <th></th>\n",
       "      <th></th>\n",
       "      <th></th>\n",
       "      <th></th>\n",
       "      <th></th>\n",
       "      <th></th>\n",
       "      <th></th>\n",
       "      <th></th>\n",
       "      <th></th>\n",
       "      <th></th>\n",
       "      <th></th>\n",
       "      <th></th>\n",
       "      <th></th>\n",
       "      <th></th>\n",
       "      <th></th>\n",
       "    </tr>\n",
       "  </thead>\n",
       "  <tbody>\n",
       "    <tr>\n",
       "      <th>T002_2</th>\n",
       "      <td>0.0</td>\n",
       "      <td>186.472595</td>\n",
       "      <td>66.282173</td>\n",
       "      <td>119.901733</td>\n",
       "      <td>94.406113</td>\n",
       "      <td>94.304977</td>\n",
       "      <td>102.251534</td>\n",
       "      <td>95.346390</td>\n",
       "      <td>109.498482</td>\n",
       "      <td>97.229492</td>\n",
       "      <td>...</td>\n",
       "      <td>294.558655</td>\n",
       "      <td>251.964432</td>\n",
       "      <td>191.634689</td>\n",
       "      <td>234.761139</td>\n",
       "      <td>353.951996</td>\n",
       "      <td>361.571136</td>\n",
       "      <td>207.097183</td>\n",
       "      <td>143.549622</td>\n",
       "      <td>425.516113</td>\n",
       "      <td>1058.240479</td>\n",
       "    </tr>\n",
       "    <tr>\n",
       "      <th>C103_2</th>\n",
       "      <td>0.0</td>\n",
       "      <td>292.447479</td>\n",
       "      <td>177.004501</td>\n",
       "      <td>22.597363</td>\n",
       "      <td>142.172134</td>\n",
       "      <td>122.056015</td>\n",
       "      <td>182.195923</td>\n",
       "      <td>334.736816</td>\n",
       "      <td>496.258331</td>\n",
       "      <td>654.859619</td>\n",
       "      <td>...</td>\n",
       "      <td>1765.966187</td>\n",
       "      <td>1883.855347</td>\n",
       "      <td>1916.687500</td>\n",
       "      <td>1738.034302</td>\n",
       "      <td>1883.939453</td>\n",
       "      <td>1970.365967</td>\n",
       "      <td>1661.286987</td>\n",
       "      <td>1884.554810</td>\n",
       "      <td>2211.283447</td>\n",
       "      <td>1087.018921</td>\n",
       "    </tr>\n",
       "    <tr>\n",
       "      <th>T029</th>\n",
       "      <td>0.0</td>\n",
       "      <td>228.393234</td>\n",
       "      <td>1322.772949</td>\n",
       "      <td>1797.046265</td>\n",
       "      <td>1607.607300</td>\n",
       "      <td>1699.624512</td>\n",
       "      <td>1669.716064</td>\n",
       "      <td>1691.135986</td>\n",
       "      <td>1753.398560</td>\n",
       "      <td>1751.563232</td>\n",
       "      <td>...</td>\n",
       "      <td>1738.092041</td>\n",
       "      <td>1760.756958</td>\n",
       "      <td>1751.700928</td>\n",
       "      <td>1761.558105</td>\n",
       "      <td>1769.241699</td>\n",
       "      <td>1744.629761</td>\n",
       "      <td>1799.654785</td>\n",
       "      <td>1709.716675</td>\n",
       "      <td>1864.935791</td>\n",
       "      <td>1644.353394</td>\n",
       "    </tr>\n",
       "    <tr>\n",
       "      <th>C107_1</th>\n",
       "      <td>0.0</td>\n",
       "      <td>209.938141</td>\n",
       "      <td>33.083900</td>\n",
       "      <td>331.541351</td>\n",
       "      <td>657.759216</td>\n",
       "      <td>2039.291504</td>\n",
       "      <td>3274.517334</td>\n",
       "      <td>3282.774658</td>\n",
       "      <td>2799.424561</td>\n",
       "      <td>2852.664062</td>\n",
       "      <td>...</td>\n",
       "      <td>3605.949463</td>\n",
       "      <td>3404.306885</td>\n",
       "      <td>3391.179443</td>\n",
       "      <td>3643.518066</td>\n",
       "      <td>3610.845459</td>\n",
       "      <td>3280.619385</td>\n",
       "      <td>3389.265625</td>\n",
       "      <td>3884.258057</td>\n",
       "      <td>3611.684326</td>\n",
       "      <td>2268.542969</td>\n",
       "    </tr>\n",
       "    <tr>\n",
       "      <th>C102_1</th>\n",
       "      <td>0.0</td>\n",
       "      <td>877.554565</td>\n",
       "      <td>389.968536</td>\n",
       "      <td>2218.060059</td>\n",
       "      <td>3029.769287</td>\n",
       "      <td>2919.956299</td>\n",
       "      <td>2761.165039</td>\n",
       "      <td>2822.068115</td>\n",
       "      <td>2867.797607</td>\n",
       "      <td>2828.735596</td>\n",
       "      <td>...</td>\n",
       "      <td>2804.892090</td>\n",
       "      <td>2762.275391</td>\n",
       "      <td>2684.694580</td>\n",
       "      <td>2780.741699</td>\n",
       "      <td>2858.170410</td>\n",
       "      <td>2674.198242</td>\n",
       "      <td>2624.723877</td>\n",
       "      <td>3021.212891</td>\n",
       "      <td>2963.690430</td>\n",
       "      <td>1416.838989</td>\n",
       "    </tr>\n",
       "  </tbody>\n",
       "</table>\n",
       "<p>5 rows × 4096 columns</p>\n",
       "</div>"
      ],
      "text/plain": [
       "              0           1            2            3            4  \\\n",
       "subject_id                                                           \n",
       "T002_2      0.0  186.472595    66.282173   119.901733    94.406113   \n",
       "C103_2      0.0  292.447479   177.004501    22.597363   142.172134   \n",
       "T029        0.0  228.393234  1322.772949  1797.046265  1607.607300   \n",
       "C107_1      0.0  209.938141    33.083900   331.541351   657.759216   \n",
       "C102_1      0.0  877.554565   389.968536  2218.060059  3029.769287   \n",
       "\n",
       "                      5            6            7            8            9  \\\n",
       "subject_id                                                                    \n",
       "T002_2        94.304977   102.251534    95.346390   109.498482    97.229492   \n",
       "C103_2       122.056015   182.195923   334.736816   496.258331   654.859619   \n",
       "T029        1699.624512  1669.716064  1691.135986  1753.398560  1751.563232   \n",
       "C107_1      2039.291504  3274.517334  3282.774658  2799.424561  2852.664062   \n",
       "C102_1      2919.956299  2761.165039  2822.068115  2867.797607  2828.735596   \n",
       "\n",
       "            ...         4086         4087         4088         4089  \\\n",
       "subject_id  ...                                                       \n",
       "T002_2      ...   294.558655   251.964432   191.634689   234.761139   \n",
       "C103_2      ...  1765.966187  1883.855347  1916.687500  1738.034302   \n",
       "T029        ...  1738.092041  1760.756958  1751.700928  1761.558105   \n",
       "C107_1      ...  3605.949463  3404.306885  3391.179443  3643.518066   \n",
       "C102_1      ...  2804.892090  2762.275391  2684.694580  2780.741699   \n",
       "\n",
       "                   4090         4091         4092         4093         4094  \\\n",
       "subject_id                                                                    \n",
       "T002_2       353.951996   361.571136   207.097183   143.549622   425.516113   \n",
       "C103_2      1883.939453  1970.365967  1661.286987  1884.554810  2211.283447   \n",
       "T029        1769.241699  1744.629761  1799.654785  1709.716675  1864.935791   \n",
       "C107_1      3610.845459  3280.619385  3389.265625  3884.258057  3611.684326   \n",
       "C102_1      2858.170410  2674.198242  2624.723877  3021.212891  2963.690430   \n",
       "\n",
       "                   4095  \n",
       "subject_id               \n",
       "T002_2      1058.240479  \n",
       "C103_2      1087.018921  \n",
       "T029        1644.353394  \n",
       "C107_1      2268.542969  \n",
       "C102_1      1416.838989  \n",
       "\n",
       "[5 rows x 4096 columns]"
      ]
     },
     "execution_count": 3,
     "metadata": {},
     "output_type": "execute_result"
    }
   ],
   "source": [
    "#this data has been previously processed by airflow\n",
    "features = pd.read_csv(\"/data/elekin/data/results/handwriting/residues_17_20220905.csv\")\n",
    "features = features.set_index(features.columns[0]).astype(np.float32)\n",
    "print(\"Loaded data from CSV\")\n",
    "features.sample(5)"
   ]
  },
  {
   "cell_type": "code",
   "execution_count": 4,
   "metadata": {},
   "outputs": [
    {
     "data": {
      "text/plain": [
       "<AxesSubplot:>"
      ]
     },
     "execution_count": 4,
     "metadata": {},
     "output_type": "execute_result"
    },
    {
     "data": {
      "image/png": "[encoded data removed]",
      "text/plain": [
       "<Figure size 432x288 with 1 Axes>"
      ]
     },
     "metadata": {
      "needs_background": "light"
     },
     "output_type": "display_data"
    }
   ],
   "source": [
    "features.loc['C01_1'].plot()"
   ]
  },
  {
   "cell_type": "markdown",
   "metadata": {},
   "source": [
    "Loading labels based on clinic, residues and features from residues.\n"
   ]
  },
  {
   "cell_type": "code",
   "execution_count": 5,
   "metadata": {},
   "outputs": [
    {
     "data": {
      "image/png": "[encoded data removed]",
      "text/plain": [
       "<Figure size 432x288 with 1 Axes>"
      ]
     },
     "metadata": {
      "needs_background": "light"
     },
     "output_type": "display_data"
    }
   ],
   "source": [
    "y = pd.read_csv(\"/data/elekin/data/results/handwriting/level_20220903.csv\", index_col=0)\n",
    "ax = y.value_counts().plot.bar(title='Different tremor levels subjects', x='counts')\n",
    "_ = ax.bar_label(ax.containers[0])"
   ]
  },
  {
   "cell_type": "markdown",
   "metadata": {},
   "source": [
    "Verify that the data calculated with airflow is correct"
   ]
  },
  {
   "cell_type": "code",
   "execution_count": 6,
   "metadata": {},
   "outputs": [
    {
     "data": {
      "text/plain": [
       "((53, 4096), (53, 1))"
      ]
     },
     "execution_count": 6,
     "metadata": {},
     "output_type": "execute_result"
    }
   ],
   "source": [
    "features.shape,y.shape"
   ]
  },
  {
   "cell_type": "code",
   "execution_count": 7,
   "metadata": {},
   "outputs": [],
   "source": [
    "from sklearn.discriminant_analysis import LinearDiscriminantAnalysis\n",
    "from sklearn.decomposition import PCA\n",
    "from sklearn.pipeline import make_pipeline\n",
    "from sklearn.preprocessing import StandardScaler\n",
    "random_state = 0\n",
    "\n",
    "X_train=features.values\n",
    "y_train=y.values.ravel()"
   ]
  },
  {
   "cell_type": "code",
   "execution_count": 8,
   "metadata": {},
   "outputs": [],
   "source": [
    "# Reduce dimension with LDA\n",
    "lda = LinearDiscriminantAnalysis(n_components=2)\n",
    "lda.fit(X_train, y_train)\n",
    "X_train_lda=lda.transform(X_train)"
   ]
  },
  {
   "cell_type": "code",
   "execution_count": 9,
   "metadata": {},
   "outputs": [
    {
     "data": {
      "text/html": [
       "<div>\n",
       "<style scoped>\n",
       "    .dataframe tbody tr th:only-of-type {\n",
       "        vertical-align: middle;\n",
       "    }\n",
       "\n",
       "    .dataframe tbody tr th {\n",
       "        vertical-align: top;\n",
       "    }\n",
       "\n",
       "    .dataframe thead th {\n",
       "        text-align: right;\n",
       "    }\n",
       "</style>\n",
       "<table border=\"1\" class=\"dataframe\">\n",
       "  <thead>\n",
       "    <tr style=\"text-align: right;\">\n",
       "      <th></th>\n",
       "      <th>LDA1</th>\n",
       "      <th>LDA2</th>\n",
       "      <th>labels</th>\n",
       "    </tr>\n",
       "  </thead>\n",
       "  <tbody>\n",
       "    <tr>\n",
       "      <th>0</th>\n",
       "      <td>0.488472</td>\n",
       "      <td>0.444894</td>\n",
       "      <td>0</td>\n",
       "    </tr>\n",
       "    <tr>\n",
       "      <th>1</th>\n",
       "      <td>0.186589</td>\n",
       "      <td>-1.182711</td>\n",
       "      <td>0</td>\n",
       "    </tr>\n",
       "    <tr>\n",
       "      <th>2</th>\n",
       "      <td>-1.904304</td>\n",
       "      <td>3.125227</td>\n",
       "      <td>0</td>\n",
       "    </tr>\n",
       "    <tr>\n",
       "      <th>3</th>\n",
       "      <td>1.052482</td>\n",
       "      <td>1.036304</td>\n",
       "      <td>0</td>\n",
       "    </tr>\n",
       "    <tr>\n",
       "      <th>4</th>\n",
       "      <td>-2.785339</td>\n",
       "      <td>1.437195</td>\n",
       "      <td>0</td>\n",
       "    </tr>\n",
       "  </tbody>\n",
       "</table>\n",
       "</div>"
      ],
      "text/plain": [
       "       LDA1      LDA2  labels\n",
       "0  0.488472  0.444894       0\n",
       "1  0.186589 -1.182711       0\n",
       "2 -1.904304  3.125227       0\n",
       "3  1.052482  1.036304       0\n",
       "4 -2.785339  1.437195       0"
      ]
     },
     "execution_count": 9,
     "metadata": {},
     "output_type": "execute_result"
    }
   ],
   "source": [
    "df_lda=pd.DataFrame(X_train_lda, columns=[\"LDA1\", \"LDA2\"])#temblor\n",
    "#df_lda=pd.DataFrame(X_train_lda, columns=[\"component1\", \"component2\"])#level\n",
    "df_lda[\"labels\"]=y_train\n",
    "df_lda.head()"
   ]
  },
  {
   "cell_type": "code",
   "execution_count": 10,
   "metadata": {},
   "outputs": [
    {
     "data": {
      "image/png": "[encoded data removed]",
      "text/plain": [
       "<Figure size 432x288 with 1 Axes>"
      ]
     },
     "metadata": {
      "needs_background": "light"
     },
     "output_type": "display_data"
    }
   ],
   "source": [
    "ax = df_lda.plot.scatter(x=\"LDA1\", y=\"LDA2\", c=\"labels\", cmap=\"viridis\", s=90, colorbar=False)\n",
    "ax.xaxis.set_ticklabels([])\n",
    "_ = ax.yaxis.set_ticklabels([])"
   ]
  },
  {
   "cell_type": "code",
   "execution_count": 11,
   "metadata": {},
   "outputs": [],
   "source": [
    "# Reduce dimension to 2 with PCA\n",
    "pca = make_pipeline(StandardScaler(),\n",
    "                    PCA(n_components=3, random_state=random_state))\n",
    "# Fit the method's model\n",
    "pca.fit(X_train, y_train)\n",
    "X_train_pca=pca.transform(X_train)"
   ]
  },
  {
   "cell_type": "code",
   "execution_count": 12,
   "metadata": {},
   "outputs": [
    {
     "data": {
      "text/html": [
       "<div>\n",
       "<style scoped>\n",
       "    .dataframe tbody tr th:only-of-type {\n",
       "        vertical-align: middle;\n",
       "    }\n",
       "\n",
       "    .dataframe tbody tr th {\n",
       "        vertical-align: top;\n",
       "    }\n",
       "\n",
       "    .dataframe thead th {\n",
       "        text-align: right;\n",
       "    }\n",
       "</style>\n",
       "<table border=\"1\" class=\"dataframe\">\n",
       "  <thead>\n",
       "    <tr style=\"text-align: right;\">\n",
       "      <th></th>\n",
       "      <th>PCA0</th>\n",
       "      <th>PCA1</th>\n",
       "      <th>PCA2</th>\n",
       "      <th>labels</th>\n",
       "    </tr>\n",
       "  </thead>\n",
       "  <tbody>\n",
       "    <tr>\n",
       "      <th>0</th>\n",
       "      <td>-63.588371</td>\n",
       "      <td>0.008614</td>\n",
       "      <td>0.124200</td>\n",
       "      <td>0</td>\n",
       "    </tr>\n",
       "    <tr>\n",
       "      <th>1</th>\n",
       "      <td>-60.407715</td>\n",
       "      <td>0.455233</td>\n",
       "      <td>0.185744</td>\n",
       "      <td>0</td>\n",
       "    </tr>\n",
       "    <tr>\n",
       "      <th>2</th>\n",
       "      <td>-58.490692</td>\n",
       "      <td>0.329033</td>\n",
       "      <td>0.092636</td>\n",
       "      <td>0</td>\n",
       "    </tr>\n",
       "    <tr>\n",
       "      <th>3</th>\n",
       "      <td>-58.328060</td>\n",
       "      <td>-0.292655</td>\n",
       "      <td>0.780599</td>\n",
       "      <td>0</td>\n",
       "    </tr>\n",
       "    <tr>\n",
       "      <th>4</th>\n",
       "      <td>-60.847626</td>\n",
       "      <td>0.081344</td>\n",
       "      <td>0.294381</td>\n",
       "      <td>0</td>\n",
       "    </tr>\n",
       "  </tbody>\n",
       "</table>\n",
       "</div>"
      ],
      "text/plain": [
       "        PCA0      PCA1      PCA2  labels\n",
       "0 -63.588371  0.008614  0.124200       0\n",
       "1 -60.407715  0.455233  0.185744       0\n",
       "2 -58.490692  0.329033  0.092636       0\n",
       "3 -58.328060 -0.292655  0.780599       0\n",
       "4 -60.847626  0.081344  0.294381       0"
      ]
     },
     "execution_count": 12,
     "metadata": {},
     "output_type": "execute_result"
    }
   ],
   "source": [
    "df_pca=pd.DataFrame(X_train_pca, columns=[\"PCA0\", \"PCA1\",\"PCA2\"])\n",
    "df_pca[\"labels\"]=y_train.ravel()\n",
    "df_pca.head()"
   ]
  },
  {
   "cell_type": "code",
   "execution_count": 13,
   "metadata": {},
   "outputs": [
    {
     "data": {
      "image/png": "[encoded data removed]",
      "text/plain": [
       "<Figure size 432x288 with 1 Axes>"
      ]
     },
     "metadata": {
      "needs_background": "light"
     },
     "output_type": "display_data"
    }
   ],
   "source": [
    "ax = df_pca.plot.scatter(x=\"PCA1\", y=\"PCA2\", c=\"labels\", cmap=\"viridis\", colorbar=False, s=90)\n",
    "ax.xaxis.set_ticklabels([])\n",
    "_ = ax.yaxis.set_ticklabels([])"
   ]
  },
  {
   "cell_type": "code",
   "execution_count": 14,
   "metadata": {
    "scrolled": false
   },
   "outputs": [
    {
     "data": {
      "image/png": "[encoded data removed]",
      "text/plain": [
       "<Figure size 720x1080 with 1 Axes>"
      ]
     },
     "metadata": {
      "needs_background": "light"
     },
     "output_type": "display_data"
    }
   ],
   "source": [
    "# Plot initialisation\n",
    "fig = plt.figure(figsize=(10,15))\n",
    "ax = fig.add_subplot(111, projection='3d')\n",
    "sc = ax.scatter(df_pca['PCA0'], \n",
    "           df_pca['PCA1'], \n",
    "           df_pca['PCA2'], c=df_pca.labels, cmap=\"viridis\", s=120)\n",
    "    \n",
    "# label the axes\n",
    "ax.set_xlabel(\"\")\n",
    "ax.set_ylabel(\"\")\n",
    "ax.set_zlabel(\"\")\n",
    "\n",
    "ax.set_xticklabels(\"\")\n",
    "ax.set_yticklabels(\"\")\n",
    "ax.set_zticklabels(\"\")\n",
    "\n",
    "colors = [sc.cmap(sc.norm(i)) for i in [0.0, 1.0, 2.0]]\n",
    "\n",
    "custom_lines = [plt.Line2D([],[], ls=\"\", marker='.', \n",
    "                mec='k', mfc=c, mew=.1, ms=20) for c in colors]\n",
    "\n",
    "ax.legend(custom_lines, ['0','1', '2'], loc='center left', bbox_to_anchor=(1.0, 0.5))\n",
    "\n",
    "ax.set_title(\"PCA on the BIODARWO data set\")\n",
    "plt.show()"
   ]
  },
  {
   "cell_type": "code",
   "execution_count": 15,
   "metadata": {},
   "outputs": [],
   "source": [
    "from sklearn.model_selection import LeaveOneOut, KFold\n",
    "from sklearn.svm import SVC\n",
    "from sklearn.model_selection import cross_validate, train_test_split\n",
    "\n",
    "from sklearn.svm import SVC\n",
    "from sklearn.ensemble import RandomForestClassifier\n",
    "from sklearn.neighbors import KNeighborsClassifier\n",
    "from sklearn.discriminant_analysis import LinearDiscriminantAnalysis as LDA\n",
    "from sklearn.metrics import f1_score, confusion_matrix, ConfusionMatrixDisplay, classification_report\n",
    "\n",
    "\n",
    "score='accuracy'\n",
    "X = X_train\n",
    "y = y_train\n",
    "\n",
    "loo = LeaveOneOut()"
   ]
  },
  {
   "cell_type": "code",
   "execution_count": 16,
   "metadata": {},
   "outputs": [
    {
     "data": {
      "text/plain": [
       "(Counter({0: 21, 1: 8, 2: 6}), Counter({0: 8, 2: 6, 1: 4}))"
      ]
     },
     "execution_count": 16,
     "metadata": {},
     "output_type": "execute_result"
    }
   ],
   "source": [
    "Xs_train, Xs_test, ys_train, ys_test = train_test_split(X, y, test_size=0.33, random_state=38)\n",
    "Counter(ys_train), Counter(ys_test)"
   ]
  },
  {
   "cell_type": "markdown",
   "metadata": {},
   "source": [
    "$$ Accuracy: \\frac{TP + TN}{TP + TN + FP + FN} $$ \n",
    "\n",
    "$$    Recall: \\frac{TP}{TP + FN} $$\n",
    "\n",
    "$$    Precision: \\frac{TP}{TP + FP} $$\n",
    "\n",
    "$$    Specifity: \\frac{TN}{TN + FP} $$\n",
    "\n",
    "Where TP, TN, FP, and FN are, respectively, the true positive, true negative, false positive and false negative values\n",
    "of the confusion matrix. The positive case corresponds to the ET subjects while the negative case to the CT ones.\n",
    "\n",
    "**Equations explained**\n",
    "\n",
    "* Sensitivity/recall – how good a test is at detecting the positives. A test can cheat and maximize this by always returning “positive”. From the whole positive cases how many of them where properly detected.\n",
    "* Specificity – how good a test is at avoiding false alarms. A test can cheat and maximize this by always returning “negative”.\n",
    "* Precision – how many of the positively classified were relevant. A test can cheat and maximize this by only returning positive on one result it’s most confident in. \n",
    "\n",
    "The cheating is resolved by looking at both relevant metrics instead of just one. E.g. the cheating 100% sensitivity that always says “positive” has 0% specificity.\n"
   ]
  },
  {
   "cell_type": "markdown",
   "metadata": {},
   "source": [
    "### SVM-rbf\n",
    "\n",
    "Leaving one out validation"
   ]
  },
  {
   "cell_type": "code",
   "execution_count": 17,
   "metadata": {},
   "outputs": [],
   "source": [
    "# predictive model\n",
    "clf = SVC(kernel='rbf', gamma=0.2, C=10**3)"
   ]
  },
  {
   "cell_type": "code",
   "execution_count": 18,
   "metadata": {},
   "outputs": [
    {
     "name": "stdout",
     "output_type": "stream",
     "text": [
      "CV train score svm: 1.0\n",
      "CV test score svm: 0.5471698113207547\n"
     ]
    }
   ],
   "source": [
    "cv = cross_validate(clf, X, y, cv=loo, scoring=score, return_train_score=True, n_jobs=-1)\n",
    "print(\"CV train score svm: {}\".format(cv['train_score'].mean()))\n",
    "print(\"CV test score svm: {}\".format(cv['test_score'].mean()))"
   ]
  },
  {
   "cell_type": "markdown",
   "metadata": {},
   "source": [
    "Hold hout validation"
   ]
  },
  {
   "cell_type": "code",
   "execution_count": 19,
   "metadata": {},
   "outputs": [],
   "source": [
    "clf.fit(Xs_train, ys_train)\n",
    "predictions = clf.predict(Xs_test)\n",
    "#cm = confusion_matrix(ys_test, predictions, labels=clf.classes_)\n",
    "#disp = ConfusionMatrixDisplay(confusion_matrix=cm,display_labels=clf.classes_)\n",
    "#disp.plot(cmap=plt.cm.Blues)\n",
    "#_=plt.axis('off')"
   ]
  },
  {
   "cell_type": "code",
   "execution_count": 20,
   "metadata": {},
   "outputs": [
    {
     "name": "stdout",
     "output_type": "stream",
     "text": [
      "              precision    recall  f1-score   support\n",
      "\n",
      "           0     0.4444    1.0000    0.6154         8\n",
      "           1     0.0000    0.0000    0.0000         4\n",
      "           2     0.0000    0.0000    0.0000         6\n",
      "\n",
      "    accuracy                         0.4444        18\n",
      "   macro avg     0.1481    0.3333    0.2051        18\n",
      "weighted avg     0.1975    0.4444    0.2735        18\n",
      "\n"
     ]
    },
    {
     "name": "stderr",
     "output_type": "stream",
     "text": [
      "/usr/local/lib/python3.8/dist-packages/sklearn/metrics/_classification.py:1334: UndefinedMetricWarning: Precision and F-score are ill-defined and being set to 0.0 in labels with no predicted samples. Use `zero_division` parameter to control this behavior.\n",
      "  _warn_prf(average, modifier, msg_start, len(result))\n",
      "/usr/local/lib/python3.8/dist-packages/sklearn/metrics/_classification.py:1334: UndefinedMetricWarning: Precision and F-score are ill-defined and being set to 0.0 in labels with no predicted samples. Use `zero_division` parameter to control this behavior.\n",
      "  _warn_prf(average, modifier, msg_start, len(result))\n",
      "/usr/local/lib/python3.8/dist-packages/sklearn/metrics/_classification.py:1334: UndefinedMetricWarning: Precision and F-score are ill-defined and being set to 0.0 in labels with no predicted samples. Use `zero_division` parameter to control this behavior.\n",
      "  _warn_prf(average, modifier, msg_start, len(result))\n"
     ]
    }
   ],
   "source": [
    "print(classification_report(ys_test, predictions, digits=4))"
   ]
  },
  {
   "cell_type": "markdown",
   "metadata": {},
   "source": [
    "Note that in binary classification, recall of the positive class is also known as “sensitivity”; recall of the negative class is “specificity”."
   ]
  },
  {
   "cell_type": "markdown",
   "metadata": {},
   "source": [
    "### RandomForest\n",
    "\n",
    "Leaving one out validation"
   ]
  },
  {
   "cell_type": "code",
   "execution_count": 21,
   "metadata": {},
   "outputs": [
    {
     "name": "stdout",
     "output_type": "stream",
     "text": [
      "CV train score RandomForest: 1.0\n",
      "CV test score RandomForest: 0.5660377358490566\n"
     ]
    }
   ],
   "source": [
    "clf = RandomForestClassifier(n_estimators=100, random_state=42)\n",
    "\n",
    "cv = cross_validate(clf, X, y, cv=loo, scoring=score, return_train_score=True, n_jobs=-1)\n",
    "\n",
    "print(\"CV train score RandomForest: {}\".format(cv['train_score'].mean()))\n",
    "print(\"CV test score RandomForest: {}\".format(cv['test_score'].mean()))"
   ]
  },
  {
   "cell_type": "markdown",
   "metadata": {},
   "source": [
    "Holdout validation"
   ]
  },
  {
   "cell_type": "code",
   "execution_count": 22,
   "metadata": {},
   "outputs": [],
   "source": [
    "clf.fit(Xs_train, ys_train)\n",
    "predictions = clf.predict(Xs_test)\n",
    "#cm = confusion_matrix(ys_test, predictions, labels=clf.classes_)\n",
    "#disp = ConfusionMatrixDisplay(confusion_matrix=cm,display_labels=clf.classes_)\n",
    "#disp.plot(cmap=plt.cm.Blues)\n",
    "#_=plt.axis('off')"
   ]
  },
  {
   "cell_type": "code",
   "execution_count": 23,
   "metadata": {},
   "outputs": [
    {
     "name": "stdout",
     "output_type": "stream",
     "text": [
      "              precision    recall  f1-score   support\n",
      "\n",
      "           0     0.4167    0.6250    0.5000         8\n",
      "           1     0.0000    0.0000    0.0000         4\n",
      "           2     0.0000    0.0000    0.0000         6\n",
      "\n",
      "    accuracy                         0.2778        18\n",
      "   macro avg     0.1389    0.2083    0.1667        18\n",
      "weighted avg     0.1852    0.2778    0.2222        18\n",
      "\n"
     ]
    },
    {
     "name": "stderr",
     "output_type": "stream",
     "text": [
      "/usr/local/lib/python3.8/dist-packages/sklearn/metrics/_classification.py:1334: UndefinedMetricWarning: Precision and F-score are ill-defined and being set to 0.0 in labels with no predicted samples. Use `zero_division` parameter to control this behavior.\n",
      "  _warn_prf(average, modifier, msg_start, len(result))\n",
      "/usr/local/lib/python3.8/dist-packages/sklearn/metrics/_classification.py:1334: UndefinedMetricWarning: Precision and F-score are ill-defined and being set to 0.0 in labels with no predicted samples. Use `zero_division` parameter to control this behavior.\n",
      "  _warn_prf(average, modifier, msg_start, len(result))\n",
      "/usr/local/lib/python3.8/dist-packages/sklearn/metrics/_classification.py:1334: UndefinedMetricWarning: Precision and F-score are ill-defined and being set to 0.0 in labels with no predicted samples. Use `zero_division` parameter to control this behavior.\n",
      "  _warn_prf(average, modifier, msg_start, len(result))\n"
     ]
    }
   ],
   "source": [
    "print(classification_report(ys_test, predictions, digits=4))"
   ]
  },
  {
   "cell_type": "markdown",
   "metadata": {},
   "source": [
    "### KNN-5\n",
    "\n",
    "Leaving one out validation"
   ]
  },
  {
   "cell_type": "code",
   "execution_count": 24,
   "metadata": {},
   "outputs": [
    {
     "name": "stdout",
     "output_type": "stream",
     "text": [
      "CV train score knn: 0.6959361393323658\n",
      "CV test score knn: 0.6226415094339622\n"
     ]
    }
   ],
   "source": [
    "clf = KNeighborsClassifier(n_neighbors=5, algorithm='ball_tree', metric='euclidean')\n",
    "\n",
    "cv = cross_validate(clf, X, y, cv=loo, scoring=score, return_train_score=True, n_jobs=-1)\n",
    "\n",
    "print(\"CV train score knn: {}\".format(cv['train_score'].mean()))\n",
    "print(\"CV test score knn: {}\".format(cv['test_score'].mean()))"
   ]
  },
  {
   "cell_type": "markdown",
   "metadata": {},
   "source": [
    "Holdout validation"
   ]
  },
  {
   "cell_type": "code",
   "execution_count": 25,
   "metadata": {},
   "outputs": [],
   "source": [
    "clf.fit(Xs_train, ys_train)\n",
    "predictions = clf.predict(Xs_test)\n",
    "#cm = confusion_matrix(ys_test, predictions, labels=clf.classes_)\n",
    "#disp = ConfusionMatrixDisplay(confusion_matrix=cm,display_labels=clf.classes_)\n",
    "#disp.plot(cmap=plt.cm.Blues)\n",
    "#_=plt.axis('off')"
   ]
  },
  {
   "cell_type": "code",
   "execution_count": 26,
   "metadata": {},
   "outputs": [
    {
     "name": "stdout",
     "output_type": "stream",
     "text": [
      "              precision    recall  f1-score   support\n",
      "\n",
      "           0     0.5000    1.0000    0.6667         8\n",
      "           1     0.5000    0.2500    0.3333         4\n",
      "           2     0.0000    0.0000    0.0000         6\n",
      "\n",
      "    accuracy                         0.5000        18\n",
      "   macro avg     0.3333    0.4167    0.3333        18\n",
      "weighted avg     0.3333    0.5000    0.3704        18\n",
      "\n"
     ]
    },
    {
     "name": "stderr",
     "output_type": "stream",
     "text": [
      "/usr/local/lib/python3.8/dist-packages/sklearn/metrics/_classification.py:1334: UndefinedMetricWarning: Precision and F-score are ill-defined and being set to 0.0 in labels with no predicted samples. Use `zero_division` parameter to control this behavior.\n",
      "  _warn_prf(average, modifier, msg_start, len(result))\n",
      "/usr/local/lib/python3.8/dist-packages/sklearn/metrics/_classification.py:1334: UndefinedMetricWarning: Precision and F-score are ill-defined and being set to 0.0 in labels with no predicted samples. Use `zero_division` parameter to control this behavior.\n",
      "  _warn_prf(average, modifier, msg_start, len(result))\n",
      "/usr/local/lib/python3.8/dist-packages/sklearn/metrics/_classification.py:1334: UndefinedMetricWarning: Precision and F-score are ill-defined and being set to 0.0 in labels with no predicted samples. Use `zero_division` parameter to control this behavior.\n",
      "  _warn_prf(average, modifier, msg_start, len(result))\n"
     ]
    }
   ],
   "source": [
    "print(classification_report(ys_test, predictions, digits=4))"
   ]
  },
  {
   "cell_type": "markdown",
   "metadata": {},
   "source": [
    "### LDA\n",
    "\n",
    "Leaving one out validation"
   ]
  },
  {
   "cell_type": "code",
   "execution_count": 27,
   "metadata": {},
   "outputs": [
    {
     "name": "stdout",
     "output_type": "stream",
     "text": [
      "CV train score LDA: 0.9089259796806968\n",
      "CV test score LDA: 0.41509433962264153\n"
     ]
    }
   ],
   "source": [
    "clf.fit(Xs_train, ys_train)\n",
    "clf = LDA()\n",
    "\n",
    "cv = cross_validate(clf, X, y, cv=loo, scoring=score, return_train_score=True, n_jobs=-1)\n",
    "\n",
    "print(\"CV train score LDA: {}\".format(cv['train_score'].mean()))\n",
    "print(\"CV test score LDA: {}\".format(cv['test_score'].mean()))"
   ]
  },
  {
   "cell_type": "markdown",
   "metadata": {},
   "source": [
    "Holdout validation"
   ]
  },
  {
   "cell_type": "code",
   "execution_count": 28,
   "metadata": {},
   "outputs": [],
   "source": [
    "clf.fit(Xs_train, ys_train)\n",
    "predictions = clf.predict(Xs_test)\n",
    "#cm = confusion_matrix(ys_test, predictions, labels=clf.classes_)\n",
    "#disp = ConfusionMatrixDisplay(confusion_matrix=cm,display_labels=clf.classes_)\n",
    "#disp.plot(cmap=plt.cm.Blues)\n",
    "#_=plt.axis('off')"
   ]
  },
  {
   "cell_type": "code",
   "execution_count": 29,
   "metadata": {},
   "outputs": [
    {
     "name": "stdout",
     "output_type": "stream",
     "text": [
      "              precision    recall  f1-score   support\n",
      "\n",
      "           0     0.4286    0.7500    0.5455         8\n",
      "           1     0.0000    0.0000    0.0000         4\n",
      "           2     0.0000    0.0000    0.0000         6\n",
      "\n",
      "    accuracy                         0.3333        18\n",
      "   macro avg     0.1429    0.2500    0.1818        18\n",
      "weighted avg     0.1905    0.3333    0.2424        18\n",
      "\n"
     ]
    }
   ],
   "source": [
    "print(classification_report(ys_test, predictions, digits=4))"
   ]
  }
 ],
 "metadata": {
  "kernelspec": {
   "display_name": "Python 3",
   "language": "python",
   "name": "python3"
  },
  "language_info": {
   "codemirror_mode": {
    "name": "ipython",
    "version": 3
   },
   "file_extension": ".py",
   "mimetype": "text/x-python",
   "name": "python",
   "nbconvert_exporter": "python",
   "pygments_lexer": "ipython3",
   "version": "3.8.10"
  },
  "vscode": {
   "interpreter": {
    "hash": "916dbcbb3f70747c44a77c7bcd40155683ae19c65e1c03b4aa3499c5328201f1"
   }
  }
 },
 "nbformat": 4,
 "nbformat_minor": 4
}
