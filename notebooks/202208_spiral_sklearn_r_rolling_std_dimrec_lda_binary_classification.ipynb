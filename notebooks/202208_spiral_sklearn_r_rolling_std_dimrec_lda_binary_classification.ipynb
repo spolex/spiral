{
 "cells": [
  {
   "cell_type": "code",
   "execution_count": 1,
   "metadata": {},
   "outputs": [],
   "source": [
    "import pandas as pd\n",
    "import numpy as np\n",
    "from collections import Counter\n",
    "from os import path\n",
    "from scipy.signal import resample\n",
    "import matplotlib as mpl\n",
    "from matplotlib import pyplot as plt\n",
    "import seaborn as sns\n",
    "sns.set_theme(style=\"whitegrid\")\n",
    "mpl.style.use('seaborn-notebook')\n",
    "%matplotlib inline\n",
    "#sorted(mpl.style.available)\n",
    "\n",
    "# setting up variables\n",
    "doc_path = \"/data/elekin/doc\"\n",
    "\n",
    "%matplotlib inline"
   ]
  },
  {
   "cell_type": "code",
   "execution_count": 2,
   "metadata": {},
   "outputs": [
    {
     "name": "stdout",
     "output_type": "stream",
     "text": [
      "Loaded data from CSV\n"
     ]
    },
    {
     "data": {
      "text/html": [
       "<div>\n",
       "<style scoped>\n",
       "    .dataframe tbody tr th:only-of-type {\n",
       "        vertical-align: middle;\n",
       "    }\n",
       "\n",
       "    .dataframe tbody tr th {\n",
       "        vertical-align: top;\n",
       "    }\n",
       "\n",
       "    .dataframe thead th {\n",
       "        text-align: right;\n",
       "    }\n",
       "</style>\n",
       "<table border=\"1\" class=\"dataframe\">\n",
       "  <thead>\n",
       "    <tr style=\"text-align: right;\">\n",
       "      <th></th>\n",
       "      <th>0</th>\n",
       "      <th>1</th>\n",
       "      <th>2</th>\n",
       "      <th>3</th>\n",
       "      <th>4</th>\n",
       "      <th>5</th>\n",
       "      <th>6</th>\n",
       "      <th>7</th>\n",
       "      <th>8</th>\n",
       "      <th>9</th>\n",
       "      <th>...</th>\n",
       "      <th>4086</th>\n",
       "      <th>4087</th>\n",
       "      <th>4088</th>\n",
       "      <th>4089</th>\n",
       "      <th>4090</th>\n",
       "      <th>4091</th>\n",
       "      <th>4092</th>\n",
       "      <th>4093</th>\n",
       "      <th>4094</th>\n",
       "      <th>4095</th>\n",
       "    </tr>\n",
       "    <tr>\n",
       "      <th>subject_id</th>\n",
       "      <th></th>\n",
       "      <th></th>\n",
       "      <th></th>\n",
       "      <th></th>\n",
       "      <th></th>\n",
       "      <th></th>\n",
       "      <th></th>\n",
       "      <th></th>\n",
       "      <th></th>\n",
       "      <th></th>\n",
       "      <th></th>\n",
       "      <th></th>\n",
       "      <th></th>\n",
       "      <th></th>\n",
       "      <th></th>\n",
       "      <th></th>\n",
       "      <th></th>\n",
       "      <th></th>\n",
       "      <th></th>\n",
       "      <th></th>\n",
       "      <th></th>\n",
       "    </tr>\n",
       "  </thead>\n",
       "  <tbody>\n",
       "    <tr>\n",
       "      <th>T013</th>\n",
       "      <td>0.0</td>\n",
       "      <td>32.787819</td>\n",
       "      <td>53.081734</td>\n",
       "      <td>38.940617</td>\n",
       "      <td>57.894974</td>\n",
       "      <td>30.254642</td>\n",
       "      <td>52.371315</td>\n",
       "      <td>11.862739</td>\n",
       "      <td>48.274700</td>\n",
       "      <td>9.502254</td>\n",
       "      <td>...</td>\n",
       "      <td>1324.410767</td>\n",
       "      <td>1300.427856</td>\n",
       "      <td>1339.903931</td>\n",
       "      <td>1283.942627</td>\n",
       "      <td>1356.879517</td>\n",
       "      <td>1266.938843</td>\n",
       "      <td>1373.592041</td>\n",
       "      <td>1250.485474</td>\n",
       "      <td>1390.687500</td>\n",
       "      <td>1223.290894</td>\n",
       "    </tr>\n",
       "    <tr>\n",
       "      <th>T018</th>\n",
       "      <td>0.0</td>\n",
       "      <td>165.929550</td>\n",
       "      <td>69.409248</td>\n",
       "      <td>54.671005</td>\n",
       "      <td>70.653419</td>\n",
       "      <td>10.230967</td>\n",
       "      <td>50.826851</td>\n",
       "      <td>29.417147</td>\n",
       "      <td>29.379337</td>\n",
       "      <td>35.929844</td>\n",
       "      <td>...</td>\n",
       "      <td>1373.256470</td>\n",
       "      <td>1412.621338</td>\n",
       "      <td>1340.122559</td>\n",
       "      <td>1338.783813</td>\n",
       "      <td>1437.428101</td>\n",
       "      <td>1369.121704</td>\n",
       "      <td>1268.405518</td>\n",
       "      <td>1462.334717</td>\n",
       "      <td>1512.947998</td>\n",
       "      <td>842.103638</td>\n",
       "    </tr>\n",
       "    <tr>\n",
       "      <th>T025</th>\n",
       "      <td>0.0</td>\n",
       "      <td>724.024536</td>\n",
       "      <td>3938.468018</td>\n",
       "      <td>3194.585693</td>\n",
       "      <td>3643.530762</td>\n",
       "      <td>3318.983154</td>\n",
       "      <td>3572.717773</td>\n",
       "      <td>3363.090088</td>\n",
       "      <td>3539.536621</td>\n",
       "      <td>3383.019043</td>\n",
       "      <td>...</td>\n",
       "      <td>4589.964844</td>\n",
       "      <td>4708.271484</td>\n",
       "      <td>4577.123047</td>\n",
       "      <td>4724.267578</td>\n",
       "      <td>4556.641602</td>\n",
       "      <td>4751.444336</td>\n",
       "      <td>4518.803711</td>\n",
       "      <td>4807.936035</td>\n",
       "      <td>4427.068359</td>\n",
       "      <td>4997.845703</td>\n",
       "    </tr>\n",
       "    <tr>\n",
       "      <th>T001</th>\n",
       "      <td>0.0</td>\n",
       "      <td>156.099258</td>\n",
       "      <td>93.218422</td>\n",
       "      <td>17.749569</td>\n",
       "      <td>69.462296</td>\n",
       "      <td>38.516628</td>\n",
       "      <td>19.872118</td>\n",
       "      <td>45.084900</td>\n",
       "      <td>19.157970</td>\n",
       "      <td>20.078899</td>\n",
       "      <td>...</td>\n",
       "      <td>1387.509644</td>\n",
       "      <td>1451.012451</td>\n",
       "      <td>1451.137085</td>\n",
       "      <td>1373.267700</td>\n",
       "      <td>1454.752563</td>\n",
       "      <td>1481.532837</td>\n",
       "      <td>1328.799194</td>\n",
       "      <td>1454.796509</td>\n",
       "      <td>1604.133179</td>\n",
       "      <td>946.295593</td>\n",
       "    </tr>\n",
       "    <tr>\n",
       "      <th>T023_2</th>\n",
       "      <td>0.0</td>\n",
       "      <td>287.372925</td>\n",
       "      <td>272.430603</td>\n",
       "      <td>149.642487</td>\n",
       "      <td>64.155533</td>\n",
       "      <td>39.524273</td>\n",
       "      <td>34.988110</td>\n",
       "      <td>142.670898</td>\n",
       "      <td>122.900139</td>\n",
       "      <td>440.977814</td>\n",
       "      <td>...</td>\n",
       "      <td>4747.758301</td>\n",
       "      <td>4724.430664</td>\n",
       "      <td>4571.682617</td>\n",
       "      <td>4897.768066</td>\n",
       "      <td>4531.603516</td>\n",
       "      <td>4765.503906</td>\n",
       "      <td>4856.072754</td>\n",
       "      <td>4331.651367</td>\n",
       "      <td>5370.603027</td>\n",
       "      <td>3818.914551</td>\n",
       "    </tr>\n",
       "  </tbody>\n",
       "</table>\n",
       "<p>5 rows × 4096 columns</p>\n",
       "</div>"
      ],
      "text/plain": [
       "              0           1            2            3            4  \\\n",
       "subject_id                                                           \n",
       "T013        0.0   32.787819    53.081734    38.940617    57.894974   \n",
       "T018        0.0  165.929550    69.409248    54.671005    70.653419   \n",
       "T025        0.0  724.024536  3938.468018  3194.585693  3643.530762   \n",
       "T001        0.0  156.099258    93.218422    17.749569    69.462296   \n",
       "T023_2      0.0  287.372925   272.430603   149.642487    64.155533   \n",
       "\n",
       "                      5            6            7            8            9  \\\n",
       "subject_id                                                                    \n",
       "T013          30.254642    52.371315    11.862739    48.274700     9.502254   \n",
       "T018          10.230967    50.826851    29.417147    29.379337    35.929844   \n",
       "T025        3318.983154  3572.717773  3363.090088  3539.536621  3383.019043   \n",
       "T001          38.516628    19.872118    45.084900    19.157970    20.078899   \n",
       "T023_2        39.524273    34.988110   142.670898   122.900139   440.977814   \n",
       "\n",
       "            ...         4086         4087         4088         4089  \\\n",
       "subject_id  ...                                                       \n",
       "T013        ...  1324.410767  1300.427856  1339.903931  1283.942627   \n",
       "T018        ...  1373.256470  1412.621338  1340.122559  1338.783813   \n",
       "T025        ...  4589.964844  4708.271484  4577.123047  4724.267578   \n",
       "T001        ...  1387.509644  1451.012451  1451.137085  1373.267700   \n",
       "T023_2      ...  4747.758301  4724.430664  4571.682617  4897.768066   \n",
       "\n",
       "                   4090         4091         4092         4093         4094  \\\n",
       "subject_id                                                                    \n",
       "T013        1356.879517  1266.938843  1373.592041  1250.485474  1390.687500   \n",
       "T018        1437.428101  1369.121704  1268.405518  1462.334717  1512.947998   \n",
       "T025        4556.641602  4751.444336  4518.803711  4807.936035  4427.068359   \n",
       "T001        1454.752563  1481.532837  1328.799194  1454.796509  1604.133179   \n",
       "T023_2      4531.603516  4765.503906  4856.072754  4331.651367  5370.603027   \n",
       "\n",
       "                   4095  \n",
       "subject_id               \n",
       "T013        1223.290894  \n",
       "T018         842.103638  \n",
       "T025        4997.845703  \n",
       "T001         946.295593  \n",
       "T023_2      3818.914551  \n",
       "\n",
       "[5 rows x 4096 columns]"
      ]
     },
     "execution_count": 2,
     "metadata": {},
     "output_type": "execute_result"
    }
   ],
   "source": [
    "#this data has been previously processed by airflow\n",
    "features = pd.read_csv(\"/data/elekin/data/results/handwriting/radius_20220905.csv\")\n",
    "features = features.set_index(features.columns[0]).astype(np.float32)\n",
    "print(\"Loaded data from CSV\")\n",
    "features.sample(5)"
   ]
  },
  {
   "cell_type": "code",
   "execution_count": 3,
   "metadata": {},
   "outputs": [
    {
     "data": {
      "text/plain": [
       "<AxesSubplot:>"
      ]
     },
     "execution_count": 3,
     "metadata": {},
     "output_type": "execute_result"
    },
    {
     "data": {
      "image/png": "[encoded data removed]",
      "text/plain": [
       "<Figure size 432x288 with 1 Axes>"
      ]
     },
     "metadata": {
      "needs_background": "light"
     },
     "output_type": "display_data"
    }
   ],
   "source": [
    "features.loc['C01_1'].plot()"
   ]
  },
  {
   "cell_type": "markdown",
   "metadata": {},
   "source": [
    "Loading labels based on clinic, residues and features from residues.\n"
   ]
  },
  {
   "cell_type": "code",
   "execution_count": 4,
   "metadata": {},
   "outputs": [
    {
     "data": {
      "image/png": "[encoded data removed]",
      "text/plain": [
       "<Figure size 432x288 with 1 Axes>"
      ]
     },
     "metadata": {
      "needs_background": "light"
     },
     "output_type": "display_data"
    }
   ],
   "source": [
    "y = pd.read_csv(\"/data/elekin/data/results/handwriting/binary_labels_20220903.csv\", index_col=0)\n",
    "y = (y == 'si').astype('int8')\n",
    "ax = y.value_counts().plot.bar(title='Control Subjects Vs. ET Subjects', x='counts')\n",
    "_ = ax.bar_label(ax.containers[0])"
   ]
  },
  {
   "cell_type": "markdown",
   "metadata": {},
   "source": [
    "Verify that the data calculated with airflow is correct"
   ]
  },
  {
   "cell_type": "code",
   "execution_count": 5,
   "metadata": {},
   "outputs": [
    {
     "data": {
      "text/plain": [
       "((53, 4096), (53, 1))"
      ]
     },
     "execution_count": 5,
     "metadata": {},
     "output_type": "execute_result"
    }
   ],
   "source": [
    "features.shape,y.shape"
   ]
  },
  {
   "cell_type": "code",
   "execution_count": 6,
   "metadata": {},
   "outputs": [],
   "source": [
    "denom = 16\n",
    "l = len(features.T)"
   ]
  },
  {
   "cell_type": "code",
   "execution_count": 7,
   "metadata": {},
   "outputs": [],
   "source": [
    "from sklearn.discriminant_analysis import LinearDiscriminantAnalysis\n",
    "from sklearn.decomposition import PCA\n",
    "from sklearn.pipeline import make_pipeline\n",
    "from sklearn.preprocessing import StandardScaler\n",
    "random_state = 0\n",
    "\n",
    "X_train=features.rolling(round(l/denom), axis=1).std().dropna(axis=1).values\n",
    "y_train=y.values.ravel()"
   ]
  },
  {
   "cell_type": "code",
   "execution_count": 8,
   "metadata": {},
   "outputs": [],
   "source": [
    "# Reduce dimension with LDA\n",
    "lda = LinearDiscriminantAnalysis(n_components=1)\n",
    "lda.fit(X_train, y_train)\n",
    "X_train_lda=lda.transform(X_train)"
   ]
  },
  {
   "cell_type": "code",
   "execution_count": 9,
   "metadata": {},
   "outputs": [
    {
     "data": {
      "text/html": [
       "<div>\n",
       "<style scoped>\n",
       "    .dataframe tbody tr th:only-of-type {\n",
       "        vertical-align: middle;\n",
       "    }\n",
       "\n",
       "    .dataframe tbody tr th {\n",
       "        vertical-align: top;\n",
       "    }\n",
       "\n",
       "    .dataframe thead th {\n",
       "        text-align: right;\n",
       "    }\n",
       "</style>\n",
       "<table border=\"1\" class=\"dataframe\">\n",
       "  <thead>\n",
       "    <tr style=\"text-align: right;\">\n",
       "      <th></th>\n",
       "      <th>LDA1</th>\n",
       "      <th>labels</th>\n",
       "    </tr>\n",
       "  </thead>\n",
       "  <tbody>\n",
       "    <tr>\n",
       "      <th>0</th>\n",
       "      <td>-1.425540</td>\n",
       "      <td>0</td>\n",
       "    </tr>\n",
       "    <tr>\n",
       "      <th>1</th>\n",
       "      <td>-2.130012</td>\n",
       "      <td>0</td>\n",
       "    </tr>\n",
       "    <tr>\n",
       "      <th>2</th>\n",
       "      <td>-3.463145</td>\n",
       "      <td>0</td>\n",
       "    </tr>\n",
       "    <tr>\n",
       "      <th>3</th>\n",
       "      <td>-3.033821</td>\n",
       "      <td>0</td>\n",
       "    </tr>\n",
       "    <tr>\n",
       "      <th>4</th>\n",
       "      <td>-2.112812</td>\n",
       "      <td>0</td>\n",
       "    </tr>\n",
       "  </tbody>\n",
       "</table>\n",
       "</div>"
      ],
      "text/plain": [
       "       LDA1  labels\n",
       "0 -1.425540       0\n",
       "1 -2.130012       0\n",
       "2 -3.463145       0\n",
       "3 -3.033821       0\n",
       "4 -2.112812       0"
      ]
     },
     "execution_count": 9,
     "metadata": {},
     "output_type": "execute_result"
    }
   ],
   "source": [
    "df_lda=pd.DataFrame(X_train_lda, columns=[\"LDA1\"])#temblor\n",
    "#df_lda=pd.DataFrame(X_train_lda, columns=[\"component1\", \"component2\"])#level\n",
    "df_lda[\"labels\"]=y_train\n",
    "df_lda.head()"
   ]
  },
  {
   "cell_type": "code",
   "execution_count": 10,
   "metadata": {},
   "outputs": [
    {
     "data": {
      "image/png": "[encoded data removed]",
      "text/plain": [
       "<Figure size 432x288 with 1 Axes>"
      ]
     },
     "metadata": {
      "needs_background": "light"
     },
     "output_type": "display_data"
    }
   ],
   "source": [
    "ax = df_lda.plot.scatter(x=\"LDA1\", y=\"LDA1\", c=\"labels\", cmap=\"RdYlBu\", colorbar=False)\n",
    "ax.xaxis.set_ticklabels([])\n",
    "_ = ax.yaxis.set_ticklabels([])"
   ]
  },
  {
   "cell_type": "code",
   "execution_count": 11,
   "metadata": {},
   "outputs": [],
   "source": [
    "# Reduce dimension to 2 with PCA\n",
    "pca = make_pipeline(StandardScaler(),\n",
    "                    PCA(n_components=3, random_state=random_state))\n",
    "# Fit the method's model\n",
    "pca.fit(X_train, y_train)\n",
    "X_train_pca=pca.transform(X_train)"
   ]
  },
  {
   "cell_type": "code",
   "execution_count": 12,
   "metadata": {},
   "outputs": [
    {
     "data": {
      "text/html": [
       "<div>\n",
       "<style scoped>\n",
       "    .dataframe tbody tr th:only-of-type {\n",
       "        vertical-align: middle;\n",
       "    }\n",
       "\n",
       "    .dataframe tbody tr th {\n",
       "        vertical-align: top;\n",
       "    }\n",
       "\n",
       "    .dataframe thead th {\n",
       "        text-align: right;\n",
       "    }\n",
       "</style>\n",
       "<table border=\"1\" class=\"dataframe\">\n",
       "  <thead>\n",
       "    <tr style=\"text-align: right;\">\n",
       "      <th></th>\n",
       "      <th>PCA0</th>\n",
       "      <th>PCA1</th>\n",
       "      <th>PCA2</th>\n",
       "      <th>labels</th>\n",
       "    </tr>\n",
       "  </thead>\n",
       "  <tbody>\n",
       "    <tr>\n",
       "      <th>0</th>\n",
       "      <td>-31.168290</td>\n",
       "      <td>4.788964</td>\n",
       "      <td>-8.166132</td>\n",
       "      <td>0</td>\n",
       "    </tr>\n",
       "    <tr>\n",
       "      <th>1</th>\n",
       "      <td>-48.807402</td>\n",
       "      <td>1.209659</td>\n",
       "      <td>-3.534304</td>\n",
       "      <td>0</td>\n",
       "    </tr>\n",
       "    <tr>\n",
       "      <th>2</th>\n",
       "      <td>-48.327034</td>\n",
       "      <td>1.143374</td>\n",
       "      <td>-4.886567</td>\n",
       "      <td>0</td>\n",
       "    </tr>\n",
       "    <tr>\n",
       "      <th>3</th>\n",
       "      <td>-37.060491</td>\n",
       "      <td>2.402528</td>\n",
       "      <td>-7.091993</td>\n",
       "      <td>0</td>\n",
       "    </tr>\n",
       "    <tr>\n",
       "      <th>4</th>\n",
       "      <td>-52.919466</td>\n",
       "      <td>1.968598</td>\n",
       "      <td>-2.888016</td>\n",
       "      <td>0</td>\n",
       "    </tr>\n",
       "  </tbody>\n",
       "</table>\n",
       "</div>"
      ],
      "text/plain": [
       "        PCA0      PCA1      PCA2  labels\n",
       "0 -31.168290  4.788964 -8.166132       0\n",
       "1 -48.807402  1.209659 -3.534304       0\n",
       "2 -48.327034  1.143374 -4.886567       0\n",
       "3 -37.060491  2.402528 -7.091993       0\n",
       "4 -52.919466  1.968598 -2.888016       0"
      ]
     },
     "execution_count": 12,
     "metadata": {},
     "output_type": "execute_result"
    }
   ],
   "source": [
    "df_pca=pd.DataFrame(X_train_pca, columns=[\"PCA0\", \"PCA1\",\"PCA2\"])\n",
    "df_pca[\"labels\"]=y_train.ravel()\n",
    "df_pca.head()"
   ]
  },
  {
   "cell_type": "code",
   "execution_count": 13,
   "metadata": {},
   "outputs": [
    {
     "data": {
      "image/png": "[encoded data removed]",
      "text/plain": [
       "<Figure size 432x288 with 1 Axes>"
      ]
     },
     "metadata": {
      "needs_background": "light"
     },
     "output_type": "display_data"
    }
   ],
   "source": [
    "ax = df_pca.plot.scatter(x=\"PCA0\", y=\"PCA1\", c=\"labels\", cmap=\"RdYlBu\", colorbar=False)\n",
    "ax.xaxis.set_ticklabels([])\n",
    "_ = ax.yaxis.set_ticklabels([])"
   ]
  },
  {
   "cell_type": "code",
   "execution_count": 14,
   "metadata": {
    "scrolled": false
   },
   "outputs": [
    {
     "data": {
      "image/png": "[encoded data removed]",
      "text/plain": [
       "<Figure size 720x1080 with 1 Axes>"
      ]
     },
     "metadata": {
      "needs_background": "light"
     },
     "output_type": "display_data"
    }
   ],
   "source": [
    "# Plot initialisation\n",
    "fig = plt.figure(figsize=(10,15))\n",
    "ax = fig.add_subplot(111, projection='3d')\n",
    "\n",
    "\n",
    "sc=ax.scatter(df_pca['PCA0'], \n",
    "              df_pca['PCA1'], \n",
    "              df_pca['PCA2'], c=df_pca.labels, cmap=\"RdYlBu\", s=120)\n",
    "    \n",
    "# label the axes\n",
    "ax.set_xlabel(None)\n",
    "ax.set_ylabel(None)\n",
    "ax.set_zlabel(None)\n",
    "ax.set_title(\"PCA on the BIODARWO set\")\n",
    "\n",
    "ax.xaxis.set_ticklabels([])\n",
    "ax.yaxis.set_ticklabels([])\n",
    "ax.zaxis.set_ticklabels([])\n",
    "\n",
    "colors = [sc.cmap(sc.norm(i)) for i in [0.0, 1.0, 2.0]]\n",
    "\n",
    "custom_lines = [plt.Line2D([],[], ls=\"\", marker='.', \n",
    "                mec='k', mfc=c, mew=.1, ms=20) for c in colors]\n",
    "import collections\n",
    "legend = ['ET','CT']#temblor\n",
    "ax.legend(custom_lines, legend, loc='center left', bbox_to_anchor=(1.0, 0.5))\n",
    "\n",
    "plt.show()"
   ]
  },
  {
   "cell_type": "code",
   "execution_count": 15,
   "metadata": {},
   "outputs": [],
   "source": [
    "from sklearn.model_selection import LeaveOneOut, KFold\n",
    "from sklearn.svm import SVC\n",
    "from sklearn.model_selection import cross_validate, train_test_split\n",
    "\n",
    "from sklearn.svm import SVC\n",
    "from sklearn.ensemble import RandomForestClassifier\n",
    "from sklearn.neighbors import KNeighborsClassifier\n",
    "from sklearn.discriminant_analysis import LinearDiscriminantAnalysis as LDA\n",
    "from sklearn.metrics import f1_score, confusion_matrix, ConfusionMatrixDisplay, classification_report\n",
    "\n",
    "\n",
    "score='accuracy'\n",
    "X = X_train_lda\n",
    "y = y_train\n",
    "\n",
    "loo = LeaveOneOut()"
   ]
  },
  {
   "cell_type": "code",
   "execution_count": 16,
   "metadata": {},
   "outputs": [
    {
     "data": {
      "text/plain": [
       "(Counter({0: 21, 1: 14}), Counter({0: 8, 1: 10}))"
      ]
     },
     "execution_count": 16,
     "metadata": {},
     "output_type": "execute_result"
    }
   ],
   "source": [
    "Xs_train, Xs_test, ys_train, ys_test = train_test_split(X, y, test_size=0.33, random_state=38)\n",
    "Counter(ys_train), Counter(ys_test)"
   ]
  },
  {
   "cell_type": "markdown",
   "metadata": {},
   "source": [
    "$$ Accuracy: \\frac{TP + TN}{TP + TN + FP + FN} $$ \n",
    "\n",
    "$$    Recall: \\frac{TP}{TP + FN} $$\n",
    "\n",
    "$$    Precision: \\frac{TP}{TP + FP} $$\n",
    "\n",
    "$$    Specifity: \\frac{TN}{TN + FP} $$\n",
    "\n",
    "Where TP, TN, FP, and FN are, respectively, the true positive, true negative, false positive and false negative values\n",
    "of the confusion matrix. The positive case corresponds to the ET subjects while the negative case to the CT ones.\n",
    "\n",
    "**Equations explained**\n",
    "\n",
    "* Sensitivity/recall – how good a test is at detecting the positives. A test can cheat and maximize this by always returning “positive”. From the whole positive cases how many of them where properly detected.\n",
    "* Specificity – how good a test is at avoiding false alarms. A test can cheat and maximize this by always returning “negative”.\n",
    "* Precision – how many of the positively classified were relevant. A test can cheat and maximize this by only returning positive on one result it’s most confident in. \n",
    "\n",
    "The cheating is resolved by looking at both relevant metrics instead of just one. E.g. the cheating 100% sensitivity that always says “positive” has 0% specificity.\n"
   ]
  },
  {
   "cell_type": "markdown",
   "metadata": {},
   "source": [
    "### SVM-rbf\n",
    "\n",
    "Leaving one out validation"
   ]
  },
  {
   "cell_type": "code",
   "execution_count": 17,
   "metadata": {},
   "outputs": [],
   "source": [
    "# predictive model\n",
    "clf = SVC(kernel='rbf', gamma=0.2, C=10**3)"
   ]
  },
  {
   "cell_type": "code",
   "execution_count": 18,
   "metadata": {},
   "outputs": [
    {
     "name": "stdout",
     "output_type": "stream",
     "text": [
      "CV train score svm: 0.9818577648766331\n",
      "CV test score svm: 0.9245283018867925\n"
     ]
    }
   ],
   "source": [
    "cv = cross_validate(clf, X, y, cv=loo, scoring=score, return_train_score=True, n_jobs=-1)\n",
    "print(\"CV train score svm: {}\".format(cv['train_score'].mean()))\n",
    "print(\"CV test score svm: {}\".format(cv['test_score'].mean()))"
   ]
  },
  {
   "cell_type": "markdown",
   "metadata": {},
   "source": [
    "Hold hout validation"
   ]
  },
  {
   "cell_type": "code",
   "execution_count": 19,
   "metadata": {},
   "outputs": [],
   "source": [
    "clf.fit(Xs_train, ys_train)\n",
    "predictions = clf.predict(Xs_test)\n",
    "#cm = confusion_matrix(ys_test, predictions, labels=clf.classes_)\n",
    "#disp = ConfusionMatrixDisplay(confusion_matrix=cm,display_labels=clf.classes_)\n",
    "#disp.plot(cmap=plt.cm.Blues)\n",
    "#_=plt.axis('off')"
   ]
  },
  {
   "cell_type": "code",
   "execution_count": 20,
   "metadata": {},
   "outputs": [
    {
     "name": "stdout",
     "output_type": "stream",
     "text": [
      "              precision    recall  f1-score   support\n",
      "\n",
      "    Negative     1.0000    0.8750    0.9333         8\n",
      "    Positive     0.9091    1.0000    0.9524        10\n",
      "\n",
      "    accuracy                         0.9444        18\n",
      "   macro avg     0.9545    0.9375    0.9429        18\n",
      "weighted avg     0.9495    0.9444    0.9439        18\n",
      "\n"
     ]
    }
   ],
   "source": [
    "print(classification_report(ys_test, predictions, digits=4, target_names=['Negative','Positive']))"
   ]
  },
  {
   "cell_type": "markdown",
   "metadata": {},
   "source": [
    "Note that in binary classification, recall of the positive class is also known as “sensitivity”; recall of the negative class is “specificity”."
   ]
  },
  {
   "cell_type": "markdown",
   "metadata": {},
   "source": [
    "### RandomForest\n",
    "\n",
    "Leaving one out validation"
   ]
  },
  {
   "cell_type": "code",
   "execution_count": 21,
   "metadata": {},
   "outputs": [
    {
     "name": "stdout",
     "output_type": "stream",
     "text": [
      "CV train score RandomForest: 1.0\n",
      "CV test score RandomForest: 0.9433962264150944\n"
     ]
    }
   ],
   "source": [
    "clf = RandomForestClassifier(n_estimators=100, random_state=42)\n",
    "\n",
    "cv = cross_validate(clf, X, y, cv=loo, scoring=score, return_train_score=True, n_jobs=-1)\n",
    "\n",
    "print(\"CV train score RandomForest: {}\".format(cv['train_score'].mean()))\n",
    "print(\"CV test score RandomForest: {}\".format(cv['test_score'].mean()))"
   ]
  },
  {
   "cell_type": "markdown",
   "metadata": {},
   "source": [
    "Holdout validation"
   ]
  },
  {
   "cell_type": "code",
   "execution_count": 22,
   "metadata": {},
   "outputs": [],
   "source": [
    "clf.fit(Xs_train, ys_train)\n",
    "predictions = clf.predict(Xs_test)\n",
    "#cm = confusion_matrix(ys_test, predictions, labels=clf.classes_)\n",
    "#disp = ConfusionMatrixDisplay(confusion_matrix=cm,display_labels=clf.classes_)\n",
    "#disp.plot(cmap=plt.cm.Blues)\n",
    "#_=plt.axis('off')"
   ]
  },
  {
   "cell_type": "code",
   "execution_count": 23,
   "metadata": {},
   "outputs": [
    {
     "name": "stdout",
     "output_type": "stream",
     "text": [
      "              precision    recall  f1-score   support\n",
      "\n",
      "    Negative     1.0000    0.8750    0.9333         8\n",
      "    Positive     0.9091    1.0000    0.9524        10\n",
      "\n",
      "    accuracy                         0.9444        18\n",
      "   macro avg     0.9545    0.9375    0.9429        18\n",
      "weighted avg     0.9495    0.9444    0.9439        18\n",
      "\n"
     ]
    }
   ],
   "source": [
    "print(classification_report(ys_test, predictions, digits=4, target_names=['Negative','Positive']))"
   ]
  },
  {
   "cell_type": "markdown",
   "metadata": {},
   "source": [
    "### KNN-5\n",
    "\n",
    "Leaving one out validation"
   ]
  },
  {
   "cell_type": "code",
   "execution_count": 24,
   "metadata": {},
   "outputs": [
    {
     "name": "stdout",
     "output_type": "stream",
     "text": [
      "CV train score knn: 0.9796806966618291\n",
      "CV test score knn: 0.9433962264150944\n"
     ]
    }
   ],
   "source": [
    "clf = KNeighborsClassifier(n_neighbors=5, algorithm='ball_tree', metric='euclidean')\n",
    "\n",
    "cv = cross_validate(clf, X, y, cv=loo, scoring=score, return_train_score=True, n_jobs=-1)\n",
    "\n",
    "print(\"CV train score knn: {}\".format(cv['train_score'].mean()))\n",
    "print(\"CV test score knn: {}\".format(cv['test_score'].mean()))"
   ]
  },
  {
   "cell_type": "markdown",
   "metadata": {},
   "source": [
    "Holdout validation"
   ]
  },
  {
   "cell_type": "code",
   "execution_count": 25,
   "metadata": {},
   "outputs": [],
   "source": [
    "clf.fit(Xs_train, ys_train)\n",
    "predictions = clf.predict(Xs_test)\n",
    "#cm = confusion_matrix(ys_test, predictions, labels=clf.classes_)\n",
    "#disp = ConfusionMatrixDisplay(confusion_matrix=cm,display_labels=clf.classes_)\n",
    "#disp.plot(cmap=plt.cm.Blues)\n",
    "#_=plt.axis('off')"
   ]
  },
  {
   "cell_type": "code",
   "execution_count": 26,
   "metadata": {},
   "outputs": [
    {
     "name": "stdout",
     "output_type": "stream",
     "text": [
      "              precision    recall  f1-score   support\n",
      "\n",
      "    Negative     1.0000    0.8750    0.9333         8\n",
      "    Positive     0.9091    1.0000    0.9524        10\n",
      "\n",
      "    accuracy                         0.9444        18\n",
      "   macro avg     0.9545    0.9375    0.9429        18\n",
      "weighted avg     0.9495    0.9444    0.9439        18\n",
      "\n"
     ]
    }
   ],
   "source": [
    "print(classification_report(ys_test, predictions, digits=4, target_names=['Negative','Positive']))"
   ]
  },
  {
   "cell_type": "markdown",
   "metadata": {},
   "source": [
    "### LDA\n",
    "\n",
    "Leaving one out validation"
   ]
  },
  {
   "cell_type": "code",
   "execution_count": 27,
   "metadata": {},
   "outputs": [
    {
     "name": "stdout",
     "output_type": "stream",
     "text": [
      "CV train score LDA: 0.9811320754716982\n",
      "CV test score LDA: 0.9811320754716981\n"
     ]
    }
   ],
   "source": [
    "clf.fit(Xs_train, ys_train)\n",
    "clf = LDA()\n",
    "\n",
    "cv = cross_validate(clf, X, y, cv=loo, scoring=score, return_train_score=True, n_jobs=-1)\n",
    "\n",
    "print(\"CV train score LDA: {}\".format(cv['train_score'].mean()))\n",
    "print(\"CV test score LDA: {}\".format(cv['test_score'].mean()))"
   ]
  },
  {
   "cell_type": "markdown",
   "metadata": {},
   "source": [
    "Holdout validation"
   ]
  },
  {
   "cell_type": "code",
   "execution_count": 28,
   "metadata": {},
   "outputs": [],
   "source": [
    "clf.fit(Xs_train, ys_train)\n",
    "predictions = clf.predict(Xs_test)\n",
    "#cm = confusion_matrix(ys_test, predictions, labels=clf.classes_)\n",
    "#disp = ConfusionMatrixDisplay(confusion_matrix=cm,display_labels=clf.classes_)\n",
    "#disp.plot(cmap=plt.cm.Blues)\n",
    "#_=plt.axis('off')"
   ]
  },
  {
   "cell_type": "code",
   "execution_count": 29,
   "metadata": {},
   "outputs": [
    {
     "name": "stdout",
     "output_type": "stream",
     "text": [
      "              precision    recall  f1-score   support\n",
      "\n",
      "    Negative     1.0000    0.8750    0.9333         8\n",
      "    Positive     0.9091    1.0000    0.9524        10\n",
      "\n",
      "    accuracy                         0.9444        18\n",
      "   macro avg     0.9545    0.9375    0.9429        18\n",
      "weighted avg     0.9495    0.9444    0.9439        18\n",
      "\n"
     ]
    }
   ],
   "source": [
    "print(classification_report(ys_test, predictions, digits=4, target_names=['Negative','Positive']))"
   ]
  }
 ],
 "metadata": {
  "kernelspec": {
   "display_name": "Python 3",
   "language": "python",
   "name": "python3"
  },
  "language_info": {
   "codemirror_mode": {
    "name": "ipython",
    "version": 3
   },
   "file_extension": ".py",
   "mimetype": "text/x-python",
   "name": "python",
   "nbconvert_exporter": "python",
   "pygments_lexer": "ipython3",
   "version": "3.8.10"
  },
  "vscode": {
   "interpreter": {
    "hash": "916dbcbb3f70747c44a77c7bcd40155683ae19c65e1c03b4aa3499c5328201f1"
   }
  }
 },
 "nbformat": 4,
 "nbformat_minor": 4
}
