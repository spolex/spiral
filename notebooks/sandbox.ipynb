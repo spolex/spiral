{
 "cells": [
  {
   "cell_type": "code",
   "execution_count": 1,
   "metadata": {},
   "outputs": [],
   "source": [
    "import pandas as pd\n",
    "import numpy as np\n",
    "from os import path\n",
    "import sys\n",
    "import tensorflow as tf\n",
    "\n",
    "#plotting\n",
    "from matplotlib import pyplot as plt\n",
    "\n",
    "#processing\n",
    "from scipy.signal import resample\n",
    "\n",
    "import pandas as pd\n",
    "import matplotlib as mpl\n",
    "mpl.rcParams['figure.figsize'] = [20.0, 10.0]\n",
    "HDFStore=pd.HDFStore\n",
    "\n",
    "from matplotlib import pyplot as plt\n",
    "%matplotlib inline\n",
    "\n",
    "#adding local modules\n",
    "import sys\n",
    "module_path = path.abspath(path.join('..'))\n",
    "if module_path not in sys.path:\n",
    "    sys.path.append(module_path)\n",
    "from preprocess.biodarw_feature_extraction import extract_residues, extract_radio\n",
    "from loaders.biodarw import load_arquimedes_dataset"
   ]
  },
  {
   "cell_type": "code",
   "execution_count": 2,
   "metadata": {
    "scrolled": true
   },
   "outputs": [
    {
     "name": "stdout",
     "output_type": "stream",
     "text": [
      "Collecting pandas_profiling\n",
      "  Downloading pandas_profiling-3.2.0-py2.py3-none-any.whl (262 kB)\n",
      "\u001b[K     |████████████████████████████████| 262 kB 1.8 MB/s eta 0:00:01\n",
      "\u001b[?25hCollecting tqdm>=4.48.2\n",
      "  Downloading tqdm-4.64.0-py2.py3-none-any.whl (78 kB)\n",
      "\u001b[K     |████████████████████████████████| 78 kB 4.0 MB/s eta 0:00:011\n",
      "\u001b[?25hCollecting visions[type_image_path]==0.7.4\n",
      "  Downloading visions-0.7.4-py3-none-any.whl (102 kB)\n",
      "\u001b[K     |████████████████████████████████| 102 kB 379 kB/s ta 0:00:01\n",
      "\u001b[?25hRequirement already satisfied: seaborn>=0.10.1 in /usr/local/lib/python3.8/dist-packages (from pandas_profiling) (0.11.1)\n",
      "Collecting multimethod>=1.4\n",
      "  Downloading multimethod-1.8-py3-none-any.whl (9.8 kB)\n",
      "Requirement already satisfied: joblib~=1.1.0 in /usr/local/lib/python3.8/dist-packages (from pandas_profiling) (1.1.0)\n",
      "Requirement already satisfied: matplotlib>=3.2.0 in /usr/local/lib/python3.8/dist-packages (from pandas_profiling) (3.5.2)\n",
      "Requirement already satisfied: markupsafe~=2.1.1 in /usr/local/lib/python3.8/dist-packages (from pandas_profiling) (2.1.1)\n",
      "Collecting htmlmin>=0.1.12\n",
      "  Downloading htmlmin-0.1.12.tar.gz (19 kB)\n",
      "Requirement already satisfied: pandas!=1.0.0,!=1.0.1,!=1.0.2,!=1.1.0,>=0.25.3 in /usr/local/lib/python3.8/dist-packages (from pandas_profiling) (1.4.3)\n",
      "Collecting missingno>=0.4.2\n",
      "  Downloading missingno-0.5.1-py3-none-any.whl (8.7 kB)\n",
      "Requirement already satisfied: scipy>=1.4.1 in /usr/local/lib/python3.8/dist-packages (from pandas_profiling) (1.9.0)\n",
      "Collecting pydantic>=1.8.1\n",
      "  Downloading pydantic-1.9.2-cp38-cp38-manylinux_2_17_x86_64.manylinux2014_x86_64.whl (12.8 MB)\n",
      "\u001b[K     |████████████████████████████████| 12.8 MB 14.3 MB/s eta 0:00:01\n",
      "\u001b[?25hRequirement already satisfied: numpy>=1.16.0 in /usr/local/lib/python3.8/dist-packages (from pandas_profiling) (1.22.4)\n",
      "Requirement already satisfied: PyYAML>=5.0.0 in /usr/local/lib/python3.8/dist-packages (from pandas_profiling) (5.4.1)\n",
      "Requirement already satisfied: requests>=2.24.0 in /usr/local/lib/python3.8/dist-packages (from pandas_profiling) (2.28.1)\n",
      "Collecting phik>=0.11.1\n",
      "  Downloading phik-0.12.2-cp38-cp38-manylinux_2_17_x86_64.manylinux2014_x86_64.whl (696 kB)\n",
      "\u001b[K     |████████████████████████████████| 696 kB 4.6 MB/s eta 0:00:01\n",
      "\u001b[?25hCollecting tangled-up-in-unicode==0.2.0\n",
      "  Downloading tangled_up_in_unicode-0.2.0-py3-none-any.whl (4.7 MB)\n",
      "\u001b[K     |████████████████████████████████| 4.7 MB 34.6 MB/s eta 0:00:01\n",
      "\u001b[?25hRequirement already satisfied: jinja2>=2.11.1 in /usr/local/lib/python3.8/dist-packages (from pandas_profiling) (3.1.2)\n",
      "Collecting networkx>=2.4\n",
      "  Downloading networkx-2.8.6-py3-none-any.whl (2.0 MB)\n",
      "\u001b[K     |████████████████████████████████| 2.0 MB 12.1 MB/s eta 0:00:01\n",
      "\u001b[?25hRequirement already satisfied: attrs>=19.3.0 in /usr/local/lib/python3.8/dist-packages (from visions[type_image_path]==0.7.4->pandas_profiling) (21.4.0)\n",
      "Collecting imagehash; extra == \"type_image_path\"\n",
      "  Downloading ImageHash-4.2.1.tar.gz (812 kB)\n",
      "\u001b[K     |████████████████████████████████| 812 kB 71.0 MB/s eta 0:00:01\n",
      "\u001b[?25hRequirement already satisfied: Pillow; extra == \"type_image_path\" in /usr/local/lib/python3.8/dist-packages (from visions[type_image_path]==0.7.4->pandas_profiling) (9.1.1)\n",
      "Requirement already satisfied: pyparsing>=2.2.1 in /usr/local/lib/python3.8/dist-packages (from matplotlib>=3.2.0->pandas_profiling) (3.0.9)\n",
      "Requirement already satisfied: packaging>=20.0 in /usr/local/lib/python3.8/dist-packages (from matplotlib>=3.2.0->pandas_profiling) (21.3)\n",
      "Requirement already satisfied: kiwisolver>=1.0.1 in /usr/local/lib/python3.8/dist-packages (from matplotlib>=3.2.0->pandas_profiling) (1.4.2)\n",
      "Requirement already satisfied: cycler>=0.10 in /usr/local/lib/python3.8/dist-packages (from matplotlib>=3.2.0->pandas_profiling) (0.11.0)\n",
      "Requirement already satisfied: python-dateutil>=2.7 in /usr/local/lib/python3.8/dist-packages (from matplotlib>=3.2.0->pandas_profiling) (2.8.2)\n",
      "Requirement already satisfied: fonttools>=4.22.0 in /usr/local/lib/python3.8/dist-packages (from matplotlib>=3.2.0->pandas_profiling) (4.33.3)\n",
      "Requirement already satisfied: pytz>=2020.1 in /usr/local/lib/python3.8/dist-packages (from pandas!=1.0.0,!=1.0.1,!=1.0.2,!=1.1.0,>=0.25.3->pandas_profiling) (2022.2.1)\n",
      "Requirement already satisfied: typing-extensions>=3.7.4.3 in /usr/local/lib/python3.8/dist-packages (from pydantic>=1.8.1->pandas_profiling) (4.2.0)\n",
      "Requirement already satisfied: urllib3<1.27,>=1.21.1 in /usr/local/lib/python3.8/dist-packages (from requests>=2.24.0->pandas_profiling) (1.26.12)\n",
      "Requirement already satisfied: certifi>=2017.4.17 in /usr/lib/python3/dist-packages (from requests>=2.24.0->pandas_profiling) (2019.11.28)\n",
      "Requirement already satisfied: idna<4,>=2.5 in /usr/lib/python3/dist-packages (from requests>=2.24.0->pandas_profiling) (2.8)\n",
      "Requirement already satisfied: charset-normalizer<3,>=2 in /usr/local/lib/python3.8/dist-packages (from requests>=2.24.0->pandas_profiling) (2.1.1)\n",
      "Requirement already satisfied: six in /usr/lib/python3/dist-packages (from imagehash; extra == \"type_image_path\"->visions[type_image_path]==0.7.4->pandas_profiling) (1.14.0)\n",
      "Collecting PyWavelets\n",
      "  Downloading PyWavelets-1.3.0-cp38-cp38-manylinux_2_17_x86_64.manylinux2014_x86_64.whl (6.9 MB)\n",
      "\u001b[K     |████████████████████████████████| 6.9 MB 252 kB/s eta 0:00:01\n",
      "\u001b[?25hBuilding wheels for collected packages: htmlmin, imagehash\n",
      "  Building wheel for htmlmin (setup.py) ... \u001b[?25ldone\n",
      "\u001b[?25h  Created wheel for htmlmin: filename=htmlmin-0.1.12-py3-none-any.whl size=27080 sha256=c5e2a381c9bad091c077d6012a20fc96472fb15a1cfeb693f0ccccee16aa8aab\n",
      "  Stored in directory: /root/.cache/pip/wheels/23/14/6e/4be5bfeeb027f4939a01764b48edd5996acf574b0913fe5243\n",
      "  Building wheel for imagehash (setup.py) ... \u001b[?25ldone\n",
      "\u001b[?25h  Created wheel for imagehash: filename=ImageHash-4.2.1-py2.py3-none-any.whl size=295188 sha256=9af5801c340bf711d1feb4aa50d063e764e4f105f677bec513f523b3809e32de\n",
      "  Stored in directory: /root/.cache/pip/wheels/48/a1/7f/096c1269d6bf78d4768180602579b35a1e8cb1250bb4b40c74\n",
      "Successfully built htmlmin imagehash\n",
      "Installing collected packages: tqdm, networkx, multimethod, tangled-up-in-unicode, PyWavelets, imagehash, visions, htmlmin, missingno, pydantic, phik, pandas-profiling\n",
      "Successfully installed PyWavelets-1.3.0 htmlmin-0.1.12 imagehash-4.2.1 missingno-0.5.1 multimethod-1.8 networkx-2.8.6 pandas-profiling-3.2.0 phik-0.12.2 pydantic-1.9.2 tangled-up-in-unicode-0.2.0 tqdm-4.64.0 visions-0.7.4\n",
      "\u001b[33mWARNING: You are using pip version 20.2.4; however, version 22.2.2 is available.\n",
      "You should consider upgrading via the '/usr/bin/python3 -m pip install --upgrade pip' command.\u001b[0m\n"
     ]
    }
   ],
   "source": [
    "!pip install pandas_profiling"
   ]
  },
  {
   "cell_type": "code",
   "execution_count": 4,
   "metadata": {},
   "outputs": [],
   "source": [
    "import pandas_profiling as pdpf"
   ]
  },
  {
   "cell_type": "code",
   "execution_count": 5,
   "metadata": {},
   "outputs": [],
   "source": [
    "features=['x','y','pen_up','pressure']\n",
    "cols=[0, 1, 3, 6]\n",
    "doc_path = \"/data/elekin/doc\"\n",
    "meta_df=pd.read_csv(path.join(doc_path,\"metadata-202106-v1.csv\"),index_col=0)\n",
    "x_train = []\n",
    "y_train = []"
   ]
  },
  {
   "cell_type": "code",
   "execution_count": 6,
   "metadata": {
    "scrolled": true
   },
   "outputs": [],
   "source": [
    "# pdpf.ProfileReport(meta_df).to_file(doc_path+\"/spiral-meta-profiling.html\")\n"
   ]
  },
  {
   "cell_type": "code",
   "execution_count": 7,
   "metadata": {},
   "outputs": [],
   "source": [
    "# Creating a data structure with subjects time series and tremor levels\n",
    " \n",
    "X = []\n",
    "y = []\n",
    "\n",
    "for path, level in zip(meta_df.abs_path, meta_df.level):\n",
    "    df = pd.read_csv(path, sep=\"\\s+\",header=None,names=features,skiprows=1,usecols=[0,1,3,6])\n",
    "    X.append(resample(df.values.astype('int16'), 4096))\n",
    "    y.append(level)"
   ]
  },
  {
   "cell_type": "code",
   "execution_count": 12,
   "metadata": {},
   "outputs": [
    {
     "data": {
      "text/html": [
       "<div>\n",
       "<style scoped>\n",
       "    .dataframe tbody tr th:only-of-type {\n",
       "        vertical-align: middle;\n",
       "    }\n",
       "\n",
       "    .dataframe tbody tr th {\n",
       "        vertical-align: top;\n",
       "    }\n",
       "\n",
       "    .dataframe thead th {\n",
       "        text-align: right;\n",
       "    }\n",
       "</style>\n",
       "<table border=\"1\" class=\"dataframe\">\n",
       "  <thead>\n",
       "    <tr style=\"text-align: right;\">\n",
       "      <th></th>\n",
       "      <th>x</th>\n",
       "      <th>y</th>\n",
       "      <th>pen_up</th>\n",
       "      <th>pressure</th>\n",
       "    </tr>\n",
       "  </thead>\n",
       "  <tbody>\n",
       "    <tr>\n",
       "      <th>0</th>\n",
       "      <td>3880</td>\n",
       "      <td>5330</td>\n",
       "      <td>1</td>\n",
       "      <td>1229</td>\n",
       "    </tr>\n",
       "    <tr>\n",
       "      <th>1</th>\n",
       "      <td>3870</td>\n",
       "      <td>5330</td>\n",
       "      <td>1</td>\n",
       "      <td>1229</td>\n",
       "    </tr>\n",
       "    <tr>\n",
       "      <th>2</th>\n",
       "      <td>3870</td>\n",
       "      <td>5330</td>\n",
       "      <td>0</td>\n",
       "      <td>0</td>\n",
       "    </tr>\n",
       "    <tr>\n",
       "      <th>3</th>\n",
       "      <td>5310</td>\n",
       "      <td>7740</td>\n",
       "      <td>0</td>\n",
       "      <td>0</td>\n",
       "    </tr>\n",
       "    <tr>\n",
       "      <th>4</th>\n",
       "      <td>5306</td>\n",
       "      <td>7747</td>\n",
       "      <td>0</td>\n",
       "      <td>0</td>\n",
       "    </tr>\n",
       "    <tr>\n",
       "      <th>...</th>\n",
       "      <td>...</td>\n",
       "      <td>...</td>\n",
       "      <td>...</td>\n",
       "      <td>...</td>\n",
       "    </tr>\n",
       "    <tr>\n",
       "      <th>1560</th>\n",
       "      <td>5637</td>\n",
       "      <td>8764</td>\n",
       "      <td>1</td>\n",
       "      <td>1832</td>\n",
       "    </tr>\n",
       "    <tr>\n",
       "      <th>1561</th>\n",
       "      <td>5637</td>\n",
       "      <td>8764</td>\n",
       "      <td>1</td>\n",
       "      <td>1794</td>\n",
       "    </tr>\n",
       "    <tr>\n",
       "      <th>1562</th>\n",
       "      <td>5637</td>\n",
       "      <td>8764</td>\n",
       "      <td>1</td>\n",
       "      <td>1688</td>\n",
       "    </tr>\n",
       "    <tr>\n",
       "      <th>1563</th>\n",
       "      <td>5637</td>\n",
       "      <td>8764</td>\n",
       "      <td>1</td>\n",
       "      <td>1409</td>\n",
       "    </tr>\n",
       "    <tr>\n",
       "      <th>1564</th>\n",
       "      <td>5637</td>\n",
       "      <td>8764</td>\n",
       "      <td>1</td>\n",
       "      <td>843</td>\n",
       "    </tr>\n",
       "  </tbody>\n",
       "</table>\n",
       "<p>1565 rows × 4 columns</p>\n",
       "</div>"
      ],
      "text/plain": [
       "         x     y  pen_up  pressure\n",
       "0     3880  5330       1      1229\n",
       "1     3870  5330       1      1229\n",
       "2     3870  5330       0         0\n",
       "3     5310  7740       0         0\n",
       "4     5306  7747       0         0\n",
       "...    ...   ...     ...       ...\n",
       "1560  5637  8764       1      1832\n",
       "1561  5637  8764       1      1794\n",
       "1562  5637  8764       1      1688\n",
       "1563  5637  8764       1      1409\n",
       "1564  5637  8764       1       843\n",
       "\n",
       "[1565 rows x 4 columns]"
      ]
     },
     "execution_count": 12,
     "metadata": {},
     "output_type": "execute_result"
    }
   ],
   "source": [
    "df"
   ]
  },
  {
   "cell_type": "code",
   "execution_count": 6,
   "metadata": {},
   "outputs": [],
   "source": [
    "with open('feat.npy', 'wb') as temp_feat:\n",
    "    np.save(temp_feat, np.array(X, dtype=np.float32), allow_pickle=True)\n",
    "with open('labels.npy', 'wb') as temp_labels:\n",
    "    np.save(temp_labels, np.array(y, dtype=np.int8), allow_pickle=True)"
   ]
  },
  {
   "cell_type": "code",
   "execution_count": 7,
   "metadata": {},
   "outputs": [],
   "source": [
    "with open('labels.npy', 'rb') as temp_labels:\n",
    "    y_train = np.load(temp_labels, allow_pickle=True)\n",
    "with open('feat.npy', 'rb') as temp_feat:\n",
    "    X_train = np.load(temp_feat, allow_pickle=True)"
   ]
  },
  {
   "cell_type": "code",
   "execution_count": 8,
   "metadata": {},
   "outputs": [
    {
     "data": {
      "text/plain": [
       "(53, 4096, 4)"
      ]
     },
     "execution_count": 8,
     "metadata": {},
     "output_type": "execute_result"
    }
   ],
   "source": [
    "X_train.shape"
   ]
  },
  {
   "cell_type": "code",
   "execution_count": 9,
   "metadata": {},
   "outputs": [
    {
     "data": {
      "text/plain": [
       "(53,)"
      ]
     },
     "execution_count": 9,
     "metadata": {},
     "output_type": "execute_result"
    }
   ],
   "source": [
    "y_train.shape"
   ]
  },
  {
   "cell_type": "code",
   "execution_count": 10,
   "metadata": {},
   "outputs": [],
   "source": [
    "dataset = tf.data.Dataset.from_tensor_slices((X_train, tf.one_hot(y_train, 3)))"
   ]
  },
  {
   "cell_type": "code",
   "execution_count": 11,
   "metadata": {},
   "outputs": [],
   "source": [
    "tf.data.experimental.save(dataset, \"./ethw.tfdata\")"
   ]
  },
  {
   "cell_type": "code",
   "execution_count": 12,
   "metadata": {},
   "outputs": [
    {
     "data": {
      "text/plain": [
       "53"
      ]
     },
     "execution_count": 12,
     "metadata": {},
     "output_type": "execute_result"
    }
   ],
   "source": [
    "len(dataset)"
   ]
  },
  {
   "cell_type": "code",
   "execution_count": 13,
   "metadata": {
    "scrolled": true
   },
   "outputs": [
    {
     "name": "stdout",
     "output_type": "stream",
     "text": [
      "(4096, 4)\n"
     ]
    }
   ],
   "source": [
    "for feat, label in tf.data.experimental.load(\"./ethw.tfdata\").take(1):\n",
    "    print(feat.shape)\n",
    "    "
   ]
  }
 ],
 "metadata": {
  "kernelspec": {
   "display_name": "Python 3",
   "language": "python",
   "name": "python3"
  },
  "language_info": {
   "codemirror_mode": {
    "name": "ipython",
    "version": 3
   },
   "file_extension": ".py",
   "mimetype": "text/x-python",
   "name": "python",
   "nbconvert_exporter": "python",
   "pygments_lexer": "ipython3",
   "version": "3.8.10"
  }
 },
 "nbformat": 4,
 "nbformat_minor": 2
}
