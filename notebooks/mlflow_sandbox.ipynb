{
 "cells": [
  {
   "cell_type": "code",
   "execution_count": 1,
   "metadata": {},
   "outputs": [
    {
     "name": "stderr",
     "output_type": "stream",
     "text": [
      "/usr/local/lib/python3.6/dist-packages/keras/backend.py:401: UserWarning: `tf.keras.backend.set_learning_phase` is deprecated and will be removed after 2020-10-11. To update it, simply pass a True/False value to the `training` argument of the `__call__` method of your layer or model.\n",
      "  warnings.warn('`tf.keras.backend.set_learning_phase` is deprecated and '\n"
     ]
    }
   ],
   "source": [
    "import mlflow\n",
    "import tensorflow as tf\n",
    "MLFLOW_TRACKING_URI=\"http://mlflow_server:5000/\"\n",
    "mlflow.set_tracking_uri(MLFLOW_TRACKING_URI)\n",
    "logged_model = 'runs:/2e80a0ba77e3459ea5045879ca29fbec/model'\n",
    "loaded_model = mlflow.pyfunc.load_model(logged_model)\n",
    "\n",
    "# print(\"--\")"
   ]
  },
  {
   "cell_type": "code",
   "execution_count": 2,
   "metadata": {},
   "outputs": [],
   "source": [
    "import pandas as pd\n",
    "from os import path \n",
    "\n",
    "features=['x','y','pen_up','pressure']\n",
    "doc_path = \"/data/elekin/doc\"\n",
    "metadf=pd.read_csv(path.join(doc_path,\"metadata-202106-v1.csv\"),index_col=0)\n",
    "# metadf[metadf[\"temblor\"]=='si']"
   ]
  },
  {
   "cell_type": "code",
   "execution_count": 3,
   "metadata": {},
   "outputs": [],
   "source": [
    "from scipy.signal import resample\n",
    "\n",
    "X = []\n",
    "y = []\n",
    "\n",
    "for path, level in zip(metadf.abs_path, metadf.level):\n",
    "    df = pd.read_csv(path, sep=\"\\s+\",header=None,names=features,skiprows=1,usecols=[0,1,3,6])\n",
    "    X.append(resample(df.values.astype('int16'), 4096))\n",
    "    y.append(level)"
   ]
  },
  {
   "cell_type": "code",
   "execution_count": 4,
   "metadata": {
    "scrolled": true
   },
   "outputs": [
    {
     "data": {
      "text/plain": [
       "array([[9.99947190e-01, 4.30034597e-05, 9.71540339e-06],\n",
       "       [7.62586296e-01, 1.13812961e-01, 1.23600766e-01],\n",
       "       [9.99987125e-01, 1.06533817e-05, 2.31639683e-06],\n",
       "       [7.62594879e-01, 1.13810599e-01, 1.23594545e-01],\n",
       "       [9.99789298e-01, 2.01125891e-04, 9.51214224e-06],\n",
       "       [7.62586296e-01, 1.13812961e-01, 1.23600766e-01],\n",
       "       [9.99983907e-01, 1.34207203e-05, 2.62362664e-06],\n",
       "       [7.62586296e-01, 1.13812961e-01, 1.23600766e-01],\n",
       "       [9.99836922e-01, 1.55274640e-04, 7.75040007e-06],\n",
       "       [7.62586296e-01, 1.13812961e-01, 1.23600766e-01],\n",
       "       [9.99725997e-01, 2.34724532e-04, 3.92453767e-05],\n",
       "       [7.62586296e-01, 1.13812961e-01, 1.23600766e-01],\n",
       "       [9.99830723e-01, 1.61030810e-04, 8.25720508e-06],\n",
       "       [9.34637606e-01, 3.54437642e-02, 2.99185999e-02],\n",
       "       [9.59908068e-01, 2.65743602e-02, 1.35175362e-02],\n",
       "       [1.74535526e-05, 1.35801147e-05, 9.99969006e-01],\n",
       "       [9.99818146e-01, 1.31224588e-04, 5.06718352e-05],\n",
       "       [9.80721414e-02, 8.85898322e-02, 8.13337982e-01],\n",
       "       [1.28385201e-01, 6.65198326e-01, 2.06416458e-01],\n",
       "       [6.40103757e-01, 1.04250938e-01, 2.55645365e-01],\n",
       "       [8.24019730e-01, 7.16319457e-02, 1.04348347e-01],\n",
       "       [1.11531347e-01, 8.39587212e-01, 4.88814525e-02],\n",
       "       [1.48366729e-04, 3.36978963e-04, 9.99514699e-01],\n",
       "       [7.62586296e-01, 1.13812961e-01, 1.23600766e-01],\n",
       "       [9.99938607e-01, 3.97924450e-05, 2.16232893e-05],\n",
       "       [7.62586296e-01, 1.13812961e-01, 1.23600766e-01],\n",
       "       [1.11531384e-01, 8.39587152e-01, 4.88814861e-02],\n",
       "       [7.62586296e-01, 1.13812961e-01, 1.23600766e-01],\n",
       "       [7.62586296e-01, 1.13812961e-01, 1.23600766e-01],\n",
       "       [7.40977764e-01, 1.78286761e-01, 8.07354376e-02],\n",
       "       [7.62586236e-01, 1.13812983e-01, 1.23600774e-01],\n",
       "       [7.62586296e-01, 1.13812961e-01, 1.23600766e-01],\n",
       "       [3.44181359e-01, 8.44880790e-02, 5.71330547e-01],\n",
       "       [5.12507595e-02, 1.40464842e-01, 8.08284402e-01],\n",
       "       [7.55897284e-01, 9.24550220e-02, 1.51647672e-01],\n",
       "       [7.62585223e-01, 1.13813229e-01, 1.23601586e-01],\n",
       "       [7.62586296e-01, 1.13812961e-01, 1.23600766e-01],\n",
       "       [7.62586296e-01, 1.13812961e-01, 1.23600766e-01],\n",
       "       [1.02072036e-05, 7.40521318e-06, 9.99982357e-01],\n",
       "       [1.11631341e-02, 9.00906026e-01, 8.79308283e-02],\n",
       "       [7.76506402e-03, 9.65422690e-01, 2.68122461e-02],\n",
       "       [9.99791682e-01, 1.98969617e-04, 9.43559280e-06],\n",
       "       [7.62586296e-01, 1.13812961e-01, 1.23600766e-01],\n",
       "       [8.66327524e-01, 1.03243880e-01, 3.04285213e-02],\n",
       "       [7.62586296e-01, 1.13812961e-01, 1.23600766e-01],\n",
       "       [7.07580626e-01, 2.06340387e-01, 8.60790461e-02],\n",
       "       [7.62586236e-01, 1.13812909e-01, 1.23600826e-01],\n",
       "       [9.99731719e-01, 2.53166800e-04, 1.51340473e-05],\n",
       "       [7.62586296e-01, 1.13812961e-01, 1.23600766e-01],\n",
       "       [9.99978065e-01, 1.82657932e-05, 3.71871124e-06],\n",
       "       [7.62586296e-01, 1.13812961e-01, 1.23600766e-01],\n",
       "       [7.04597294e-01, 2.34750807e-01, 6.06518686e-02],\n",
       "       [7.62585938e-01, 1.13812752e-01, 1.23601310e-01]], dtype=float32)"
      ]
     },
     "execution_count": 4,
     "metadata": {},
     "output_type": "execute_result"
    }
   ],
   "source": [
    "import numpy as np\n",
    "predictions=loaded_model.predict(np.array(X))\n",
    "predictions"
   ]
  },
  {
   "cell_type": "code",
   "execution_count": 5,
   "metadata": {
    "scrolled": true
   },
   "outputs": [
    {
     "data": {
      "text/plain": [
       "<tf.Tensor: shape=(53, 3), dtype=float32, numpy=\n",
       "array([[1., 0., 0.],\n",
       "       [1., 0., 0.],\n",
       "       [1., 0., 0.],\n",
       "       [1., 0., 0.],\n",
       "       [1., 0., 0.],\n",
       "       [1., 0., 0.],\n",
       "       [1., 0., 0.],\n",
       "       [1., 0., 0.],\n",
       "       [1., 0., 0.],\n",
       "       [1., 0., 0.],\n",
       "       [1., 0., 0.],\n",
       "       [1., 0., 0.],\n",
       "       [1., 0., 0.],\n",
       "       [1., 0., 0.],\n",
       "       [1., 0., 0.],\n",
       "       [0., 0., 1.],\n",
       "       [1., 0., 0.],\n",
       "       [0., 0., 1.],\n",
       "       [0., 1., 0.],\n",
       "       [1., 0., 0.],\n",
       "       [1., 0., 0.],\n",
       "       [0., 1., 0.],\n",
       "       [0., 0., 1.],\n",
       "       [1., 0., 0.],\n",
       "       [1., 0., 0.],\n",
       "       [1., 0., 0.],\n",
       "       [0., 1., 0.],\n",
       "       [1., 0., 0.],\n",
       "       [1., 0., 0.],\n",
       "       [1., 0., 0.],\n",
       "       [1., 0., 0.],\n",
       "       [1., 0., 0.],\n",
       "       [0., 0., 1.],\n",
       "       [0., 0., 1.],\n",
       "       [1., 0., 0.],\n",
       "       [1., 0., 0.],\n",
       "       [1., 0., 0.],\n",
       "       [1., 0., 0.],\n",
       "       [0., 0., 1.],\n",
       "       [0., 1., 0.],\n",
       "       [0., 1., 0.],\n",
       "       [1., 0., 0.],\n",
       "       [1., 0., 0.],\n",
       "       [1., 0., 0.],\n",
       "       [1., 0., 0.],\n",
       "       [1., 0., 0.],\n",
       "       [1., 0., 0.],\n",
       "       [1., 0., 0.],\n",
       "       [1., 0., 0.],\n",
       "       [1., 0., 0.],\n",
       "       [1., 0., 0.],\n",
       "       [1., 0., 0.],\n",
       "       [1., 0., 0.]], dtype=float32)>"
      ]
     },
     "execution_count": 5,
     "metadata": {},
     "output_type": "execute_result"
    }
   ],
   "source": [
    "tf.one_hot(tf.argmax(predictions, axis=1), depth=3)"
   ]
  },
  {
   "cell_type": "code",
   "execution_count": 6,
   "metadata": {},
   "outputs": [],
   "source": [
    "data=tf.data.experimental.load(\"gs://mlflow-arts/mlflow_artifacts/2/df4c6d7d2bbb4bb8a9861370536f7788/artifacts/ethw_tf_test_dir\")"
   ]
  },
  {
   "cell_type": "code",
   "execution_count": 7,
   "metadata": {},
   "outputs": [
    {
     "name": "stdout",
     "output_type": "stream",
     "text": [
      "tf.Tensor([0. 1. 0.], shape=(3,), dtype=float32)\n",
      "tf.Tensor([1. 0. 0.], shape=(3,), dtype=float32)\n",
      "tf.Tensor([1. 0. 0.], shape=(3,), dtype=float32)\n",
      "tf.Tensor([0. 1. 0.], shape=(3,), dtype=float32)\n",
      "tf.Tensor([1. 0. 0.], shape=(3,), dtype=float32)\n",
      "tf.Tensor([1. 0. 0.], shape=(3,), dtype=float32)\n",
      "tf.Tensor([1. 0. 0.], shape=(3,), dtype=float32)\n",
      "tf.Tensor([0. 0. 1.], shape=(3,), dtype=float32)\n",
      "tf.Tensor([0. 0. 1.], shape=(3,), dtype=float32)\n",
      "tf.Tensor([0. 0. 1.], shape=(3,), dtype=float32)\n",
      "tf.Tensor([1. 0. 0.], shape=(3,), dtype=float32)\n",
      "tf.Tensor([1. 0. 0.], shape=(3,), dtype=float32)\n",
      "tf.Tensor([1. 0. 0.], shape=(3,), dtype=float32)\n",
      "tf.Tensor([0. 1. 0.], shape=(3,), dtype=float32)\n",
      "tf.Tensor([1. 0. 0.], shape=(3,), dtype=float32)\n",
      "tf.Tensor([0. 0. 1.], shape=(3,), dtype=float32)\n",
      "tf.Tensor([1. 0. 0.], shape=(3,), dtype=float32)\n",
      "tf.Tensor([1. 0. 0.], shape=(3,), dtype=float32)\n"
     ]
    }
   ],
   "source": [
    "for feat, label in data:\n",
    "    print(label)"
   ]
  },
  {
   "cell_type": "code",
   "execution_count": 8,
   "metadata": {},
   "outputs": [],
   "source": [
    "predictions = loaded_model.predict(data.batch(1).prefetch(5).cache())"
   ]
  },
  {
   "cell_type": "code",
   "execution_count": 9,
   "metadata": {},
   "outputs": [
    {
     "data": {
      "text/plain": [
       "<tf.Tensor: shape=(18, 3), dtype=float32, numpy=\n",
       "array([[1., 0., 0.],\n",
       "       [1., 0., 0.],\n",
       "       [1., 0., 0.],\n",
       "       [0., 1., 0.],\n",
       "       [1., 0., 0.],\n",
       "       [1., 0., 0.],\n",
       "       [1., 0., 0.],\n",
       "       [0., 1., 0.],\n",
       "       [1., 0., 0.],\n",
       "       [0., 0., 1.],\n",
       "       [1., 0., 0.],\n",
       "       [1., 0., 0.],\n",
       "       [1., 0., 0.],\n",
       "       [1., 0., 0.],\n",
       "       [1., 0., 0.],\n",
       "       [1., 0., 0.],\n",
       "       [1., 0., 0.],\n",
       "       [1., 0., 0.]], dtype=float32)>"
      ]
     },
     "execution_count": 9,
     "metadata": {},
     "output_type": "execute_result"
    }
   ],
   "source": [
    "tf.one_hot(tf.argmax(predictions, axis=1), depth=3)"
   ]
  },
  {
   "cell_type": "code",
   "execution_count": 10,
   "metadata": {},
   "outputs": [
    {
     "name": "stdout",
     "output_type": "stream",
     "text": [
      "tf.Tensor([1. 0. 0.], shape=(3,), dtype=float32)\n",
      "tf.Tensor([1. 0. 0.], shape=(3,), dtype=float32)\n"
     ]
    }
   ],
   "source": [
    "dataset = tf.data.Dataset.from_tensor_slices((X, tf.one_hot(y, 3)))\n",
    "for feat,labels in dataset.take(2):\n",
    "    print(labels)\n",
    "tf.data.experimental.save(dataset, \"/test\", compression=\"GZIP\")"
   ]
  },
  {
   "cell_type": "code",
   "execution_count": 11,
   "metadata": {},
   "outputs": [
    {
     "data": {
      "text/plain": [
       "<_LoadDataset shapes: ((4096, 4), (3,)), types: (tf.float64, tf.float32)>"
      ]
     },
     "execution_count": 11,
     "metadata": {},
     "output_type": "execute_result"
    }
   ],
   "source": [
    "tf.data.experimental.load(\"/test\", compression=\"GZIP\")"
   ]
  }
 ],
 "metadata": {
  "kernelspec": {
   "display_name": "Python 3",
   "language": "python",
   "name": "python3"
  },
  "language_info": {
   "codemirror_mode": {
    "name": "ipython",
    "version": 3
   },
   "file_extension": ".py",
   "mimetype": "text/x-python",
   "name": "python",
   "nbconvert_exporter": "python",
   "pygments_lexer": "ipython3",
   "version": "3.6.9"
  }
 },
 "nbformat": 4,
 "nbformat_minor": 2
}
