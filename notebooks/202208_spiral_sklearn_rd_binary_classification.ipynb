{
 "cells": [
  {
   "cell_type": "code",
   "execution_count": 1,
   "metadata": {},
   "outputs": [],
   "source": [
    "import pandas as pd\n",
    "import numpy as np\n",
    "from collections import Counter\n",
    "from os import path\n",
    "from scipy.signal import resample\n",
    "import matplotlib as mpl\n",
    "from matplotlib import pyplot as plt\n",
    "import seaborn as sns\n",
    "sns.set_theme(style=\"whitegrid\")\n",
    "mpl.style.use('seaborn-notebook')\n",
    "%matplotlib inline\n",
    "#sorted(mpl.style.available)\n",
    "\n",
    "\n",
    "#adding local modules\n",
    "import sys\n",
    "module_path = path.abspath(path.join('..'))\n",
    "if module_path not in sys.path:\n",
    "    sys.path.append(module_path)\n",
    "from preprocess.biodarw_feature_extraction import extract_residues, extract_radio\n",
    "from utils import load_biodarw\n",
    "\n",
    "# setting up variables\n",
    "doc_path = \"/data/elekin/doc\"\n",
    "coefficients=17\n",
    "\n",
    "%matplotlib inline"
   ]
  },
  {
   "cell_type": "code",
   "execution_count": 2,
   "metadata": {},
   "outputs": [
    {
     "name": "stdout",
     "output_type": "stream",
     "text": [
      "Loaded data from CSV\n"
     ]
    },
    {
     "data": {
      "text/html": [
       "<div>\n",
       "<style scoped>\n",
       "    .dataframe tbody tr th:only-of-type {\n",
       "        vertical-align: middle;\n",
       "    }\n",
       "\n",
       "    .dataframe tbody tr th {\n",
       "        vertical-align: top;\n",
       "    }\n",
       "\n",
       "    .dataframe thead th {\n",
       "        text-align: right;\n",
       "    }\n",
       "</style>\n",
       "<table border=\"1\" class=\"dataframe\">\n",
       "  <thead>\n",
       "    <tr style=\"text-align: right;\">\n",
       "      <th></th>\n",
       "      <th>0</th>\n",
       "      <th>1</th>\n",
       "      <th>2</th>\n",
       "      <th>3</th>\n",
       "      <th>4</th>\n",
       "      <th>5</th>\n",
       "      <th>6</th>\n",
       "      <th>7</th>\n",
       "      <th>8</th>\n",
       "      <th>9</th>\n",
       "      <th>...</th>\n",
       "      <th>4086</th>\n",
       "      <th>4087</th>\n",
       "      <th>4088</th>\n",
       "      <th>4089</th>\n",
       "      <th>4090</th>\n",
       "      <th>4091</th>\n",
       "      <th>4092</th>\n",
       "      <th>4093</th>\n",
       "      <th>4094</th>\n",
       "      <th>4095</th>\n",
       "    </tr>\n",
       "    <tr>\n",
       "      <th>subject_id</th>\n",
       "      <th></th>\n",
       "      <th></th>\n",
       "      <th></th>\n",
       "      <th></th>\n",
       "      <th></th>\n",
       "      <th></th>\n",
       "      <th></th>\n",
       "      <th></th>\n",
       "      <th></th>\n",
       "      <th></th>\n",
       "      <th></th>\n",
       "      <th></th>\n",
       "      <th></th>\n",
       "      <th></th>\n",
       "      <th></th>\n",
       "      <th></th>\n",
       "      <th></th>\n",
       "      <th></th>\n",
       "      <th></th>\n",
       "      <th></th>\n",
       "      <th></th>\n",
       "    </tr>\n",
       "  </thead>\n",
       "  <tbody>\n",
       "    <tr>\n",
       "      <th>C01_1</th>\n",
       "      <td>0.0</td>\n",
       "      <td>139.606018</td>\n",
       "      <td>12.253823</td>\n",
       "      <td>74.690514</td>\n",
       "      <td>11.408071</td>\n",
       "      <td>53.418941</td>\n",
       "      <td>16.638002</td>\n",
       "      <td>35.400345</td>\n",
       "      <td>12.710705</td>\n",
       "      <td>31.302645</td>\n",
       "      <td>...</td>\n",
       "      <td>97.716553</td>\n",
       "      <td>114.776398</td>\n",
       "      <td>67.099197</td>\n",
       "      <td>47.384319</td>\n",
       "      <td>97.479012</td>\n",
       "      <td>149.785263</td>\n",
       "      <td>65.237343</td>\n",
       "      <td>76.28756</td>\n",
       "      <td>109.27401</td>\n",
       "      <td>603.564941</td>\n",
       "    </tr>\n",
       "  </tbody>\n",
       "</table>\n",
       "<p>1 rows × 4096 columns</p>\n",
       "</div>"
      ],
      "text/plain": [
       "              0           1          2          3          4          5  \\\n",
       "subject_id                                                                \n",
       "C01_1       0.0  139.606018  12.253823  74.690514  11.408071  53.418941   \n",
       "\n",
       "                    6          7          8          9  ...       4086  \\\n",
       "subject_id                                              ...              \n",
       "C01_1       16.638002  35.400345  12.710705  31.302645  ...  97.716553   \n",
       "\n",
       "                  4087       4088       4089       4090        4091  \\\n",
       "subject_id                                                            \n",
       "C01_1       114.776398  67.099197  47.384319  97.479012  149.785263   \n",
       "\n",
       "                 4092      4093       4094        4095  \n",
       "subject_id                                              \n",
       "C01_1       65.237343  76.28756  109.27401  603.564941  \n",
       "\n",
       "[1 rows x 4096 columns]"
      ]
     },
     "execution_count": 2,
     "metadata": {},
     "output_type": "execute_result"
    }
   ],
   "source": [
    "#this data has been previously processed by airflow\n",
    "features = pd.read_csv(\"/data/elekin/data/results/handwriting/residues_{}_20220905.csv\".format(coefficients))\n",
    "features = features.set_index(features.columns[0]).astype(np.float32)\n",
    "print(\"Loaded data from CSV\")\n",
    "features.head(1)"
   ]
  },
  {
   "cell_type": "markdown",
   "metadata": {},
   "source": [
    "Loading labels based on clinic, residues and features from residues.\n"
   ]
  },
  {
   "cell_type": "code",
   "execution_count": 3,
   "metadata": {},
   "outputs": [
    {
     "data": {
      "image/png": "[encoded data removed]",
      "text/plain": [
       "<Figure size 432x288 with 1 Axes>"
      ]
     },
     "metadata": {
      "needs_background": "light"
     },
     "output_type": "display_data"
    }
   ],
   "source": [
    "y = pd.read_csv(\"/data/elekin/data/results/handwriting/binary_labels_20220903.csv\", index_col=0)\n",
    "y = (y == 'si').astype('int8')\n",
    "ax = y.value_counts().plot.bar(title='Control Subjects Vs. ET Subjects', x='counts')\n",
    "_ = ax.bar_label(ax.containers[0])"
   ]
  },
  {
   "cell_type": "markdown",
   "metadata": {},
   "source": [
    "Verify that the data calculated with airflow is correct"
   ]
  },
  {
   "cell_type": "code",
   "execution_count": 4,
   "metadata": {},
   "outputs": [
    {
     "data": {
      "text/plain": [
       "<AxesSubplot:>"
      ]
     },
     "execution_count": 4,
     "metadata": {},
     "output_type": "execute_result"
    },
    {
     "data": {
      "image/png": "[encoded data removed]",
      "text/plain": [
       "<Figure size 432x288 with 1 Axes>"
      ]
     },
     "metadata": {
      "needs_background": "light"
     },
     "output_type": "display_data"
    }
   ],
   "source": [
    "features.loc['C01_1'].plot()"
   ]
  },
  {
   "cell_type": "code",
   "execution_count": 5,
   "metadata": {},
   "outputs": [
    {
     "data": {
      "text/plain": [
       "<AxesSubplot:>"
      ]
     },
     "execution_count": 5,
     "metadata": {},
     "output_type": "execute_result"
    },
    {
     "data": {
      "image/png": "[encoded data removed]",
      "text/plain": [
       "<Figure size 432x288 with 1 Axes>"
      ]
     },
     "metadata": {
      "needs_background": "light"
     },
     "output_type": "display_data"
    }
   ],
   "source": [
    "features.loc['T027'].plot()"
   ]
  },
  {
   "cell_type": "code",
   "execution_count": 6,
   "metadata": {},
   "outputs": [
    {
     "data": {
      "text/plain": [
       "((53, 4096), (53, 1))"
      ]
     },
     "execution_count": 6,
     "metadata": {},
     "output_type": "execute_result"
    }
   ],
   "source": [
    "features.shape,y.shape"
   ]
  },
  {
   "cell_type": "code",
   "execution_count": 7,
   "metadata": {},
   "outputs": [],
   "source": [
    "from sklearn.discriminant_analysis import LinearDisaxcriminantAnalysis\n",
    "from sklearn.decomposition import PCA\n",
    "from sklearn.pipeline import make_pipeline\n",
    "from sklearn.preprocessing import StandardScaler\n",
    "random_state = 0\n",
    "\n",
    "X_train=features.values\n",
    "y_train=y.values.ravel()"
   ]
  },
  {
   "cell_type": "code",
   "execution_count": 8,
   "metadata": {},
   "outputs": [],
   "source": [
    "# Reduce dimension with LDA\n",
    "lda = LinearDiscriminantAnalysis(n_components=1)\n",
    "lda.fit(X_train, y_train)\n",
    "X_train_lda=lda.transform(X_train)"
   ]
  },
  {
   "cell_type": "code",
   "execution_count": 9,
   "metadata": {},
   "outputs": [
    {
     "data": {
      "text/html": [
       "<div>\n",
       "<style scoped>\n",
       "    .dataframe tbody tr th:only-of-type {\n",
       "        vertical-align: middle;\n",
       "    }\n",
       "\n",
       "    .dataframe tbody tr th {\n",
       "        vertical-align: top;\n",
       "    }\n",
       "\n",
       "    .dataframe thead th {\n",
       "        text-align: right;\n",
       "    }\n",
       "</style>\n",
       "<table border=\"1\" class=\"dataframe\">\n",
       "  <thead>\n",
       "    <tr style=\"text-align: right;\">\n",
       "      <th></th>\n",
       "      <th>LDA1</th>\n",
       "      <th>labels</th>\n",
       "    </tr>\n",
       "  </thead>\n",
       "  <tbody>\n",
       "    <tr>\n",
       "      <th>0</th>\n",
       "      <td>-0.364690</td>\n",
       "      <td>0</td>\n",
       "    </tr>\n",
       "    <tr>\n",
       "      <th>1</th>\n",
       "      <td>1.196517</td>\n",
       "      <td>0</td>\n",
       "    </tr>\n",
       "    <tr>\n",
       "      <th>2</th>\n",
       "      <td>-3.454280</td>\n",
       "      <td>0</td>\n",
       "    </tr>\n",
       "    <tr>\n",
       "      <th>3</th>\n",
       "      <td>-0.855998</td>\n",
       "      <td>0</td>\n",
       "    </tr>\n",
       "    <tr>\n",
       "      <th>4</th>\n",
       "      <td>-1.946901</td>\n",
       "      <td>0</td>\n",
       "    </tr>\n",
       "  </tbody>\n",
       "</table>\n",
       "</div>"
      ],
      "text/plain": [
       "       LDA1  labels\n",
       "0 -0.364690       0\n",
       "1  1.196517       0\n",
       "2 -3.454280       0\n",
       "3 -0.855998       0\n",
       "4 -1.946901       0"
      ]
     },
     "execution_count": 9,
     "metadata": {},
     "output_type": "execute_result"
    }
   ],
   "source": [
    "df_lda=pd.DataFrame(X_train_lda, columns=[\"LDA1\"])#temblor\n",
    "#df_lda=pd.DataFrame(X_train_lda, columns=[\"component1\", \"component2\"])#level\n",
    "df_lda[\"labels\"]=y_train\n",
    "df_lda.head()"
   ]
  },
  {
   "cell_type": "code",
   "execution_count": 10,
   "metadata": {},
   "outputs": [
    {
     "data": {
      "image/png": "[encoded data removed]",
      "text/plain": [
       "<Figure size 432x288 with 1 Axes>"
      ]
     },
     "metadata": {
      "needs_background": "light"
     },
     "output_type": "display_data"
    }
   ],
   "source": [
    "ax = df_lda.plot.scatter(x=\"LDA1\", y=\"LDA1\", c=\"labels\", cmap=\"jet\", s=90, colorbar=False)\n",
    "ax.xaxis.set_ticklabels([])\n",
    "_ = ax.yaxis.set_ticklabels([])"
   ]
  },
  {
   "cell_type": "code",
   "execution_count": 11,
   "metadata": {},
   "outputs": [],
   "source": [
    "# Reduce dimension to 2 with PCA\n",
    "pca = make_pipeline(StandardScaler(),\n",
    "                    PCA(n_components=3, random_state=random_state))\n",
    "# Fit the method's model\n",
    "pca.fit(X_train, y_train)\n",
    "X_train_pca=pca.transform(X_train)"
   ]
  },
  {
   "cell_type": "code",
   "execution_count": 12,
   "metadata": {},
   "outputs": [
    {
     "data": {
      "text/html": [
       "<div>\n",
       "<style scoped>\n",
       "    .dataframe tbody tr th:only-of-type {\n",
       "        vertical-align: middle;\n",
       "    }\n",
       "\n",
       "    .dataframe tbody tr th {\n",
       "        vertical-align: top;\n",
       "    }\n",
       "\n",
       "    .dataframe thead th {\n",
       "        text-align: right;\n",
       "    }\n",
       "</style>\n",
       "<table border=\"1\" class=\"dataframe\">\n",
       "  <thead>\n",
       "    <tr style=\"text-align: right;\">\n",
       "      <th></th>\n",
       "      <th>PCA0</th>\n",
       "      <th>PCA1</th>\n",
       "      <th>PCA2</th>\n",
       "      <th>labels</th>\n",
       "    </tr>\n",
       "  </thead>\n",
       "  <tbody>\n",
       "    <tr>\n",
       "      <th>0</th>\n",
       "      <td>-63.588371</td>\n",
       "      <td>0.008614</td>\n",
       "      <td>0.124200</td>\n",
       "      <td>0</td>\n",
       "    </tr>\n",
       "    <tr>\n",
       "      <th>1</th>\n",
       "      <td>-60.407715</td>\n",
       "      <td>0.455233</td>\n",
       "      <td>0.185744</td>\n",
       "      <td>0</td>\n",
       "    </tr>\n",
       "    <tr>\n",
       "      <th>2</th>\n",
       "      <td>-58.490692</td>\n",
       "      <td>0.329033</td>\n",
       "      <td>0.092636</td>\n",
       "      <td>0</td>\n",
       "    </tr>\n",
       "    <tr>\n",
       "      <th>3</th>\n",
       "      <td>-58.328060</td>\n",
       "      <td>-0.292655</td>\n",
       "      <td>0.780599</td>\n",
       "      <td>0</td>\n",
       "    </tr>\n",
       "    <tr>\n",
       "      <th>4</th>\n",
       "      <td>-60.847626</td>\n",
       "      <td>0.081344</td>\n",
       "      <td>0.294381</td>\n",
       "      <td>0</td>\n",
       "    </tr>\n",
       "  </tbody>\n",
       "</table>\n",
       "</div>"
      ],
      "text/plain": [
       "        PCA0      PCA1      PCA2  labels\n",
       "0 -63.588371  0.008614  0.124200       0\n",
       "1 -60.407715  0.455233  0.185744       0\n",
       "2 -58.490692  0.329033  0.092636       0\n",
       "3 -58.328060 -0.292655  0.780599       0\n",
       "4 -60.847626  0.081344  0.294381       0"
      ]
     },
     "execution_count": 12,
     "metadata": {},
     "output_type": "execute_result"
    }
   ],
   "source": [
    "df_pca=pd.DataFrame(X_train_pca, columns=[\"PCA0\", \"PCA1\",\"PCA2\"])\n",
    "df_pca[\"labels\"]=y_train.ravel()\n",
    "df_pca.head()"
   ]
  },
  {
   "cell_type": "code",
   "execution_count": 13,
   "metadata": {},
   "outputs": [
    {
     "data": {
      "image/png": "[encoded data removed]",
      "text/plain": [
       "<Figure size 432x288 with 1 Axes>"
      ]
     },
     "metadata": {
      "needs_background": "light"
     },
     "output_type": "display_data"
    }
   ],
   "source": [
    "ax = df_pca.plot.scatter(x=\"PCA1\", y=\"PCA2\", c=\"labels\", cmap=\"jet\", s=90, colorbar=False)\n",
    "ax.xaxis.set_ticklabels([])\n",
    "_ = ax.yaxis.set_ticklabels([])"
   ]
  },
  {
   "cell_type": "code",
   "execution_count": 14,
   "metadata": {
    "scrolled": false
   },
   "outputs": [
    {
     "data": {
      "image/png": "[encoded data removed]",
      "text/plain": [
       "<Figure size 720x1080 with 1 Axes>"
      ]
     },
     "metadata": {
      "needs_background": "light"
     },
     "output_type": "display_data"
    }
   ],
   "source": [
    "# Plot initialisation\n",
    "fig = plt.figure(figsize=(10,15))\n",
    "ax = fig.add_subplot(111, projection='3d')\n",
    "\n",
    "\n",
    "sc=ax.scatter(df_pca['PCA0'], \n",
    "              df_pca['PCA1'], \n",
    "              df_pca['PCA2'], c=df_pca.labels, cmap=\"jet\", s=120)\n",
    "    \n",
    "# label the axes\n",
    "ax.set_xlabel(None)\n",
    "ax.set_ylabel(None)\n",
    "ax.set_zlabel(None)\n",
    "ax.set_title(\"PCA on the BIODARWO set\")\n",
    "\n",
    "ax.xaxis.set_ticklabels([])\n",
    "ax.yaxis.set_ticklabels([])\n",
    "ax.zaxis.set_ticklabels([])\n",
    "\n",
    "colors = [sc.cmap(sc.norm(i)) for i in [0.0, 1.0, 2.0]]\n",
    "\n",
    "custom_lines = [plt.Line2D([],[], ls=\"\", marker='.', \n",
    "                mec='k', mfc=c, mew=.1, ms=20) for c in colors]\n",
    "import collections\n",
    "legend = ['ET','CT']#temblor\n",
    "ax.legend(custom_lines, legend, loc='center left', bbox_to_anchor=(1.0, 0.5))\n",
    "\n",
    "plt.show()"
   ]
  },
  {
   "cell_type": "code",
   "execution_count": 15,
   "metadata": {},
   "outputs": [],
   "source": [
    "from sklearn.model_selection import LeaveOneOut, KFold\n",
    "from sklearn.svm import SVC\n",
    "from sklearn.model_selection import cross_validate, train_test_split\n",
    "\n",
    "from sklearn.svm import SVC\n",
    "from sklearn.ensemble import RandomForestClassifier\n",
    "from sklearn.neighbors import KNeighborsClassifier\n",
    "from sklearn.discriminant_analysis import LinearDiscriminantAnalysis as LDA\n",
    "from sklearn.metrics import f1_score, confusion_matrix, ConfusionMatrixDisplay, classification_report\n",
    "\n",
    "\n",
    "score='accuracy'\n",
    "X = X_train\n",
    "y = y_train\n",
    "\n",
    "loo = LeaveOneOut()"
   ]
  },
  {
   "cell_type": "code",
   "execution_count": 16,
   "metadata": {},
   "outputs": [
    {
     "data": {
      "text/plain": [
       "(Counter({0: 21, 1: 14}), Counter({0: 8, 1: 10}))"
      ]
     },
     "execution_count": 16,
     "metadata": {},
     "output_type": "execute_result"
    }
   ],
   "source": [
    "Xs_train, Xs_test, ys_train, ys_test = train_test_split(X, y, test_size=0.33, random_state=38)\n",
    "Counter(ys_train), Counter(ys_test)"
   ]
  },
  {
   "cell_type": "markdown",
   "metadata": {},
   "source": [
    "$$ Accuracy: \\frac{TP + TN}{TP + TN + FP + FN} $$ \n",
    "\n",
    "$$    Recall: \\frac{TP}{TP + FN} $$\n",
    "\n",
    "$$    Precision: \\frac{TP}{TP + FP} $$\n",
    "\n",
    "$$    Specifity: \\frac{TN}{TN + FP} $$\n",
    "\n",
    "Where TP, TN, FP, and FN are, respectively, the true positive, true negative, false positive and false negative values\n",
    "of the confusion matrix. The positive case corresponds to the ET subjects while the negative case to the CT ones.\n",
    "\n",
    "**Equations explained**\n",
    "\n",
    "* Sensitivity/recall – how good a test is at detecting the positives. A test can cheat and maximize this by always returning “positive”. From the whole positive cases how many of them where properly detected.\n",
    "* Specificity – how good a test is at avoiding false alarms. A test can cheat and maximize this by always returning “negative”.\n",
    "* Precision – how many of the positively classified were relevant. A test can cheat and maximize this by only returning positive on one result it’s most confident in. \n",
    "\n",
    "The cheating is resolved by looking at both relevant metrics instead of just one. E.g. the cheating 100% sensitivity that always says “positive” has 0% specificity.\n"
   ]
  },
  {
   "cell_type": "markdown",
   "metadata": {},
   "source": [
    "### SVM-rbf\n",
    "\n",
    "Leaving one out validation"
   ]
  },
  {
   "cell_type": "code",
   "execution_count": 17,
   "metadata": {},
   "outputs": [],
   "source": [
    "reports = dict()\n",
    "# predictive model\n",
    "clf = SVC(kernel='rbf', gamma=0.2, C=10**3)"
   ]
  },
  {
   "cell_type": "code",
   "execution_count": 18,
   "metadata": {},
   "outputs": [
    {
     "name": "stdout",
     "output_type": "stream",
     "text": [
      "CV train score svm: 1.0\n",
      "CV test score svm: 0.5471698113207547\n"
     ]
    }
   ],
   "source": [
    "cv = cross_validate(clf, X, y, cv=loo, scoring=score, return_train_score=True, n_jobs=-1)\n",
    "print(\"CV train score svm: {}\".format(cv['train_score'].mean()))\n",
    "print(\"CV test score svm: {}\".format(cv['test_score'].mean()))"
   ]
  },
  {
   "cell_type": "markdown",
   "metadata": {},
   "source": [
    "Hold hout validation"
   ]
  },
  {
   "cell_type": "code",
   "execution_count": 19,
   "metadata": {},
   "outputs": [],
   "source": [
    "clf.fit(Xs_train, ys_train)\n",
    "predictions = clf.predict(Xs_test)\n",
    "#cm = confusion_matrix(ys_test, predictions, labels=clf.classes_)\n",
    "#disp = ConfusionMatrixDisplay(confusion_matrix=cm,display_labels=clf.classes_)\n",
    "#disp.plot(cmap=plt.cm.Blues)\n",
    "#_=plt.axis('off')"
   ]
  },
  {
   "cell_type": "code",
   "execution_count": 20,
   "metadata": {},
   "outputs": [
    {
     "name": "stderr",
     "output_type": "stream",
     "text": [
      "/usr/local/lib/python3.8/dist-packages/sklearn/metrics/_classification.py:1334: UndefinedMetricWarning: Precision and F-score are ill-defined and being set to 0.0 in labels with no predicted samples. Use `zero_division` parameter to control this behavior.\n",
      "  _warn_prf(average, modifier, msg_start, len(result))\n",
      "/usr/local/lib/python3.8/dist-packages/sklearn/metrics/_classification.py:1334: UndefinedMetricWarning: Precision and F-score are ill-defined and being set to 0.0 in labels with no predicted samples. Use `zero_division` parameter to control this behavior.\n",
      "  _warn_prf(average, modifier, msg_start, len(result))\n",
      "/usr/local/lib/python3.8/dist-packages/sklearn/metrics/_classification.py:1334: UndefinedMetricWarning: Precision and F-score are ill-defined and being set to 0.0 in labels with no predicted samples. Use `zero_division` parameter to control this behavior.\n",
      "  _warn_prf(average, modifier, msg_start, len(result))\n"
     ]
    }
   ],
   "source": [
    "report = classification_report(ys_test, predictions, digits=4, target_names=['Negative','Positive'], output_dict=True)\n",
    "report['loo']= {}\n",
    "report['loo']['acc']=cv['train_score'].mean()\n",
    "report['loo']['val_acc']=cv['test_score'].mean()\n",
    "reports['svm-rbf'] = report"
   ]
  },
  {
   "cell_type": "markdown",
   "metadata": {},
   "source": [
    "Note that in binary classification, recall of the positive class is also known as “sensitivity”; recall of the negative class is “specificity”."
   ]
  },
  {
   "cell_type": "markdown",
   "metadata": {},
   "source": [
    "### RandomForest\n",
    "\n",
    "Leaving one out validation"
   ]
  },
  {
   "cell_type": "code",
   "execution_count": 21,
   "metadata": {},
   "outputs": [
    {
     "name": "stdout",
     "output_type": "stream",
     "text": [
      "CV train score RandomForest: 1.0\n",
      "CV test score RandomForest: 0.6226415094339622\n"
     ]
    }
   ],
   "source": [
    "clf = RandomForestClassifier(n_estimators=100, random_state=42)\n",
    "\n",
    "cv = cross_validate(clf, X, y, cv=loo, scoring=score, return_train_score=True, n_jobs=-1)\n",
    "\n",
    "print(\"CV train score RandomForest: {}\".format(cv['train_score'].mean()))\n",
    "print(\"CV test score RandomForest: {}\".format(cv['test_score'].mean()))"
   ]
  },
  {
   "cell_type": "markdown",
   "metadata": {},
   "source": [
    "Holdout validation"
   ]
  },
  {
   "cell_type": "code",
   "execution_count": 22,
   "metadata": {},
   "outputs": [],
   "source": [
    "clf.fit(Xs_train, ys_train)\n",
    "predictions = clf.predict(Xs_test)\n",
    "#cm = confusion_matrix(ys_test, predictions, labels=clf.classes_)\n",
    "#disp = ConfusionMatrixDisplay(confusion_matrix=cm,display_labels=clf.classes_)\n",
    "#disp.plot(cmap=plt.cm.Blues)\n",
    "#_=plt.axis('off')"
   ]
  },
  {
   "cell_type": "code",
   "execution_count": 23,
   "metadata": {},
   "outputs": [],
   "source": [
    "report = classification_report(ys_test, predictions, digits=4, target_names=['Negative','Positive'], output_dict=True)\n",
    "report = classification_report(ys_test, predictions, digits=4, target_names=['Negative','Positive'], output_dict=True)\n",
    "report['loo']= {}\n",
    "report['loo']['acc']=cv['train_score'].mean()\n",
    "report['loo']['val_acc']=cv['test_score'].mean()\n",
    "reports['randomforest'] = report"
   ]
  },
  {
   "cell_type": "markdown",
   "metadata": {},
   "source": [
    "### KNN-5\n",
    "\n",
    "Leaving one out validation"
   ]
  },
  {
   "cell_type": "code",
   "execution_count": 24,
   "metadata": {},
   "outputs": [
    {
     "name": "stdout",
     "output_type": "stream",
     "text": [
      "CV train score knn: 0.788098693759071\n",
      "CV test score knn: 0.6226415094339622\n"
     ]
    }
   ],
   "source": [
    "clf = KNeighborsClassifier(n_neighbors=5, algorithm='ball_tree', metric='euclidean')\n",
    "\n",
    "cv = cross_validate(clf, X, y, cv=loo, scoring=score, return_train_score=True, n_jobs=-1)\n",
    "\n",
    "print(\"CV train score knn: {}\".format(cv['train_score'].mean()))\n",
    "print(\"CV test score knn: {}\".format(cv['test_score'].mean()))"
   ]
  },
  {
   "cell_type": "markdown",
   "metadata": {},
   "source": [
    "Holdout validation"
   ]
  },
  {
   "cell_type": "code",
   "execution_count": 25,
   "metadata": {},
   "outputs": [],
   "source": [
    "clf.fit(Xs_train, ys_train)\n",
    "predictions = clf.predict(Xs_test)\n",
    "#cm = confusion_matrix(ys_test, predictions, labels=clf.classes_)\n",
    "#disp = ConfusionMatrixDisplay(confusion_matrix=cm,display_labels=clf.classes_)\n",
    "#disp.plot(cmap=plt.cm.Blues)\n",
    "#_=plt.axis('off')"
   ]
  },
  {
   "cell_type": "code",
   "execution_count": 26,
   "metadata": {},
   "outputs": [],
   "source": [
    "report = classification_report(ys_test, predictions, digits=4, target_names=['Negative','Positive'], output_dict=True)\n",
    "report['loo']= {}\n",
    "report['loo']['acc']=cv['train_score'].mean()\n",
    "report['loo']['val_acc']=cv['test_score'].mean()\n",
    "reports['knn'] = report"
   ]
  },
  {
   "cell_type": "markdown",
   "metadata": {},
   "source": [
    "### LDA\n",
    "\n",
    "Leaving one out validation"
   ]
  },
  {
   "cell_type": "code",
   "execution_count": 27,
   "metadata": {},
   "outputs": [
    {
     "name": "stdout",
     "output_type": "stream",
     "text": [
      "CV train score LDA: 0.9245283018867921\n",
      "CV test score LDA: 0.5471698113207547\n"
     ]
    }
   ],
   "source": [
    "clf.fit(Xs_train, ys_train)\n",
    "clf = LDA()\n",
    "\n",
    "cv = cross_validate(clf, X, y, cv=loo, scoring=score, return_train_score=True, n_jobs=-1)\n",
    "\n",
    "print(\"CV train score LDA: {}\".format(cv['train_score'].mean()))\n",
    "print(\"CV test score LDA: {}\".format(cv['test_score'].mean()))"
   ]
  },
  {
   "cell_type": "markdown",
   "metadata": {},
   "source": [
    "Holdout validation"
   ]
  },
  {
   "cell_type": "code",
   "execution_count": 28,
   "metadata": {},
   "outputs": [],
   "source": [
    "clf.fit(Xs_train, ys_train)\n",
    "predictions = clf.predict(Xs_test)\n",
    "#cm = confusion_matrix(ys_test, predictions, labels=clf.classes_)\n",
    "#disp = ConfusionMatrixDisplay(confusion_matrix=cm,display_labels=clf.classes_)\n",
    "#disp.plot(cmap=plt.cm.Blues)\n",
    "#_=plt.axis('off')"
   ]
  },
  {
   "cell_type": "code",
   "execution_count": 29,
   "metadata": {},
   "outputs": [],
   "source": [
    "report = classification_report(ys_test, predictions, digits=4, target_names=['Negative','Positive'], output_dict=True)\n",
    "report['loo']= {}\n",
    "report['loo']['acc']=cv['train_score'].mean()\n",
    "report['loo']['val_acc']=cv['test_score'].mean()\n",
    "reports['lda'] = report"
   ]
  },
  {
   "cell_type": "code",
   "execution_count": 30,
   "metadata": {},
   "outputs": [
    {
     "name": "stdout",
     "output_type": "stream",
     "text": [
      "svm-rbf\n",
      "randomforest\n",
      "knn\n",
      "lda\n"
     ]
    }
   ],
   "source": [
    "for key in reports:\n",
    "    print('{}'.format(key))"
   ]
  },
  {
   "cell_type": "code",
   "execution_count": 31,
   "metadata": {},
   "outputs": [
    {
     "name": "stdout",
     "output_type": "stream",
     "text": [
      "0.5471698113207547\n",
      "0.6226415094339622\n",
      "0.6226415094339622\n",
      "0.5471698113207547\n"
     ]
    }
   ],
   "source": [
    "for key in reports:\n",
    "    print('{}'.format(reports[key]['loo']['val_acc']))"
   ]
  },
  {
   "cell_type": "code",
   "execution_count": 32,
   "metadata": {},
   "outputs": [
    {
     "name": "stdout",
     "output_type": "stream",
     "text": [
      "0.4444444444444444\n",
      "0.5555555555555556\n",
      "0.5\n",
      "0.4444444444444444\n"
     ]
    }
   ],
   "source": [
    "for key in reports:\n",
    "    print('{}'.format(reports[key]['accuracy']))"
   ]
  },
  {
   "cell_type": "code",
   "execution_count": 33,
   "metadata": {},
   "outputs": [
    {
     "name": "stdout",
     "output_type": "stream",
     "text": [
      "0.0\n",
      "0.6\n",
      "0.3\n",
      "0.2\n"
     ]
    }
   ],
   "source": [
    "for key in reports:\n",
    "    print('{}'.format(reports[key]['Positive']['recall']))"
   ]
  },
  {
   "cell_type": "code",
   "execution_count": 34,
   "metadata": {},
   "outputs": [
    {
     "name": "stdout",
     "output_type": "stream",
     "text": [
      "1.0\n",
      "0.5\n",
      "0.75\n",
      "0.75\n"
     ]
    }
   ],
   "source": [
    "for key in reports:\n",
    "    print('{}'.format(reports[key]['Negative']['recall']))"
   ]
  },
  {
   "cell_type": "code",
   "execution_count": 35,
   "metadata": {},
   "outputs": [
    {
     "name": "stdout",
     "output_type": "stream",
     "text": [
      "0.0\n",
      "0.6\n",
      "0.6\n",
      "0.5\n"
     ]
    }
   ],
   "source": [
    "for key in reports:\n",
    "    print('{}'.format(reports[key]['Positive']['precision']))"
   ]
  },
  {
   "cell_type": "code",
   "execution_count": 36,
   "metadata": {},
   "outputs": [
    {
     "name": "stdout",
     "output_type": "stream",
     "text": [
      "0.4444444444444444\n",
      "0.5\n",
      "0.46153846153846156\n",
      "0.42857142857142855\n"
     ]
    }
   ],
   "source": [
    "for key in reports:\n",
    "    print('{}'.format(reports[key]['Negative']['precision']))"
   ]
  },
  {
   "cell_type": "code",
   "execution_count": 37,
   "metadata": {},
   "outputs": [
    {
     "name": "stdout",
     "output_type": "stream",
     "text": [
      "0.0\n",
      "0.6\n",
      "0.4\n",
      "0.28571428571428575\n"
     ]
    }
   ],
   "source": [
    "for key in reports:\n",
    "    print('{}'.format(reports[key]['Positive']['f1-score']))"
   ]
  },
  {
   "cell_type": "code",
   "execution_count": 38,
   "metadata": {},
   "outputs": [
    {
     "name": "stdout",
     "output_type": "stream",
     "text": [
      "0.6153846153846153\n",
      "0.5\n",
      "0.5714285714285714\n",
      "0.5454545454545454\n"
     ]
    }
   ],
   "source": [
    "for key in reports:\n",
    "    print('{}'.format(reports[key]['Negative']['f1-score']))"
   ]
  }
 ],
 "metadata": {
  "kernelspec": {
   "display_name": "Python 3",
   "language": "python",
   "name": "python3"
  },
  "language_info": {
   "codemirror_mode": {
    "name": "ipython",
    "version": 3
   },
   "file_extension": ".py",
   "mimetype": "text/x-python",
   "name": "python",
   "nbconvert_exporter": "python",
   "pygments_lexer": "ipython3",
   "version": "3.8.10"
  },
  "vscode": {
   "interpreter": {
    "hash": "916dbcbb3f70747c44a77c7bcd40155683ae19c65e1c03b4aa3499c5328201f1"
   }
  }
 },
 "nbformat": 4,
 "nbformat_minor": 4
}
