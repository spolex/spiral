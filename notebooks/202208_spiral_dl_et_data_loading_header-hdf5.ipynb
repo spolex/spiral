{
 "cells": [
  {
   "cell_type": "code",
   "execution_count": 2,
   "metadata": {},
   "outputs": [],
   "source": [
    "import pandas as pd\n",
    "HDFStore=pd.HDFStore\n",
    "\n",
    "import tensorflow as tf\n",
    "from tensorflow.keras.callbacks import EarlyStopping\n",
    "from tensorflow.keras import layers\n",
    "from tensorflow.keras import regularizers\n",
    "from os import path\n",
    "\n",
    "import config\n",
    "\n",
    "num_coefficients=17\n",
    "\n",
    "%matplotlib inline"
   ]
  },
  {
   "cell_type": "code",
   "execution_count": 3,
   "metadata": {},
   "outputs": [
    {
     "name": "stdout",
     "output_type": "stream",
     "text": [
      "/data/elekin/data/results/handwriting/archimedean-17-splits.h5\n"
     ]
    },
    {
     "data": {
      "text/plain": [
       "['/results/residues/rd/norm/std/window',\n",
       " '/results/residues/rd/norm/std/window/x_test',\n",
       " '/results/residues/rd/norm/std/window/x_train',\n",
       " '/results/residues/rd/norm/std/window/y_test',\n",
       " '/results/residues/rd/norm/std/window/y_train',\n",
       " '/results/residues/features/norm',\n",
       " '/results/residues/features/norm/x_test',\n",
       " '/results/residues/features/norm/x_train',\n",
       " '/results/residues/features/norm/y_test',\n",
       " '/results/residues/features/norm/y_train',\n",
       " '/results/radius/r/norm/std/window',\n",
       " '/results/radius/r/norm/std/window/x_test',\n",
       " '/results/radius/r/norm/std/window/x_train',\n",
       " '/results/radius/r/norm/std/window/y_test',\n",
       " '/results/radius/r/norm/std/window/y_train',\n",
       " '/results/radius/features/norm',\n",
       " '/results/radius/features/norm/x_test',\n",
       " '/results/radius/features/norm/x_train',\n",
       " '/results/radius/features/norm/y_test',\n",
       " '/results/radius/features/norm/y_train',\n",
       " '/residues/train/features',\n",
       " '/residues/train/labels',\n",
       " '/residues/test/features',\n",
       " '/residues/test/labels']"
      ]
     },
     "execution_count": 3,
     "metadata": {},
     "output_type": "execute_result"
    }
   ],
   "source": [
    "#Load data from hdf5 file\n",
    "rdo_root_path = path.join(config.root_path,config.hw_results_path)\n",
    "h5file = path.join(rdo_root_path, \"archimedean-\")\n",
    "h5filename = h5file + str(num_coefficients) + \"-splits.h5\"\n",
    "print(h5filename)\n",
    "hdf = HDFStore(h5filename)\n",
    "hdf.keys()"
   ]
  },
  {
   "cell_type": "code",
   "execution_count": 4,
   "metadata": {},
   "outputs": [],
   "source": [
    "#Load and scale timeseries between 0 and 1\n",
    "x_train = hdf[\"/residues/train/features\"].values.astype('float32')\n",
    "y_train = hdf[\"/residues/train/labels\"].values.astype('int8').reshape(-1,1)\n",
    "x_test = hdf[\"/residues/test/features\"].values.astype('float32')\n",
    "y_test = hdf[\"/residues/test/labels\"].values.astype('int8').reshape(-1,1)\n",
    "hdf.close()"
   ]
  },
  {
   "cell_type": "code",
   "execution_count": 5,
   "metadata": {},
   "outputs": [
    {
     "name": "stdout",
     "output_type": "stream",
     "text": [
      "9 train batches and 5 test batches of 4 mini batch size and 2 steps per epoch\n"
     ]
    },
    {
     "data": {
      "text/plain": [
       "<CacheDataset element_spec=(TensorSpec(shape=(None, 4096), dtype=tf.float32, name=None), TensorSpec(shape=(None, 1), dtype=tf.int8, name=None))>"
      ]
     },
     "execution_count": 5,
     "metadata": {},
     "output_type": "execute_result"
    }
   ],
   "source": [
    "train_dataset = tf.data.Dataset.from_tensor_slices((x_train, y_train)).take(len(x_train)).batch(config.mini_batch_size).prefetch(2).cache()\n",
    "test_dataset = tf.data.Dataset.from_tensor_slices((x_test, y_test)).take(len(x_test)).batch(config.mini_batch_size).prefetch(2).cache()\n",
    "steps_per_epoch = round(len(train_dataset)/config.mini_batch_size)\n",
    "\n",
    "if config.print_sample:\n",
    "    for feat, targ in test_dataset.take(10):\n",
    "        print ('Features test: {}, Target: {}'.format(feat, targ))\n",
    "\n",
    "    for feat, targ in test_dataset.take(10):\n",
    "        print ('Features train: {}, Target: {}'.format(feat, targ))\n",
    "\n",
    "print(\"{0} train batches and {1} test batches of {2} mini batch size and {3} steps per epoch\".format(len(train_dataset), \n",
    "                                                                              len(test_dataset),\n",
    "                                                                              config.mini_batch_size,\n",
    "                                                                                steps_per_epoch))\n",
    "test_dataset"
   ]
  }
 ],
 "metadata": {
  "kernelspec": {
   "display_name": "Python 3",
   "language": "python",
   "name": "python3"
  },
  "language_info": {
   "codemirror_mode": {
    "name": "ipython",
    "version": 3
   },
   "file_extension": ".py",
   "mimetype": "text/x-python",
   "name": "python",
   "nbconvert_exporter": "python",
   "pygments_lexer": "ipython3",
   "version": "3.8.10"
  }
 },
 "nbformat": 4,
 "nbformat_minor": 4
}
