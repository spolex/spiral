{
 "cells": [
  {
   "cell_type": "code",
   "execution_count": 41,
   "metadata": {},
   "outputs": [],
   "source": [
    "import pandas as pd\n",
    "import numpy as np\n",
    "from collections import Counter\n",
    "from os import path\n",
    "from scipy.signal import resample\n",
    "import matplotlib as mpl\n",
    "from matplotlib import pyplot as plt\n",
    "import seaborn as sns\n",
    "sns.set_theme(style=\"whitegrid\")\n",
    "mpl.style.use('seaborn-notebook')\n",
    "%matplotlib inline\n",
    "#sorted(mpl.style.available)\n",
    "\n",
    "from datetime import datetime\n",
    "today=datetime.today().strftime(\"%Y%m%d\")\n",
    "\n",
    "from sqlalchemy import create_engine\n",
    "user = 'airflow'\n",
    "password = 'airflow'\n",
    "db_host = 'mariadb'\n",
    "db_name = 'elekin'\n",
    "\n",
    "engine = create_engine('mariadb+pymysql://{}:{}@{}/{}'.format(user, password, db_host, db_name))\n",
    "conn = engine.connect()\n",
    "\n",
    "feature = 'radius'\n",
    "extra = ''\n",
    "table_name = f'{feature}{extra}_20220918'\n",
    "\n",
    "from sklearn.preprocessing import LabelEncoder\n",
    "\n",
    "%matplotlib inline"
   ]
  },
  {
   "cell_type": "code",
   "execution_count": 42,
   "metadata": {},
   "outputs": [
    {
     "data": {
      "text/html": [
       "<div>\n",
       "<style scoped>\n",
       "    .dataframe tbody tr th:only-of-type {\n",
       "        vertical-align: middle;\n",
       "    }\n",
       "\n",
       "    .dataframe tbody tr th {\n",
       "        vertical-align: top;\n",
       "    }\n",
       "\n",
       "    .dataframe thead th {\n",
       "        text-align: right;\n",
       "    }\n",
       "</style>\n",
       "<table border=\"1\" class=\"dataframe\">\n",
       "  <thead>\n",
       "    <tr style=\"text-align: right;\">\n",
       "      <th></th>\n",
       "      <th>C01_1</th>\n",
       "      <th>C01_2</th>\n",
       "      <th>C02_1</th>\n",
       "      <th>C02_2</th>\n",
       "      <th>C03_1</th>\n",
       "      <th>C03_2</th>\n",
       "      <th>C04_1</th>\n",
       "      <th>C04_2</th>\n",
       "      <th>C05_1</th>\n",
       "      <th>C05_2</th>\n",
       "      <th>...</th>\n",
       "      <th>T018</th>\n",
       "      <th>T021</th>\n",
       "      <th>T023_1</th>\n",
       "      <th>T023_2</th>\n",
       "      <th>T025</th>\n",
       "      <th>T026</th>\n",
       "      <th>T027</th>\n",
       "      <th>T028_1</th>\n",
       "      <th>T028_2</th>\n",
       "      <th>T029</th>\n",
       "    </tr>\n",
       "  </thead>\n",
       "  <tbody>\n",
       "    <tr>\n",
       "      <th>0</th>\n",
       "      <td>0.000000</td>\n",
       "      <td>0.000000</td>\n",
       "      <td>0.000000</td>\n",
       "      <td>0.000000</td>\n",
       "      <td>0.000000</td>\n",
       "      <td>0.000000</td>\n",
       "      <td>0.000000</td>\n",
       "      <td>0.000000</td>\n",
       "      <td>0.000000</td>\n",
       "      <td>0.000000</td>\n",
       "      <td>...</td>\n",
       "      <td>0.000000</td>\n",
       "      <td>0.000000</td>\n",
       "      <td>0.000000</td>\n",
       "      <td>0.000000</td>\n",
       "      <td>0.000000</td>\n",
       "      <td>0.000000</td>\n",
       "      <td>0.000000</td>\n",
       "      <td>0.000000</td>\n",
       "      <td>0.000000</td>\n",
       "      <td>0.000000</td>\n",
       "    </tr>\n",
       "    <tr>\n",
       "      <th>1</th>\n",
       "      <td>139.620900</td>\n",
       "      <td>177.638597</td>\n",
       "      <td>165.129208</td>\n",
       "      <td>173.566930</td>\n",
       "      <td>166.031850</td>\n",
       "      <td>180.350795</td>\n",
       "      <td>161.024240</td>\n",
       "      <td>110.060886</td>\n",
       "      <td>148.977538</td>\n",
       "      <td>160.749182</td>\n",
       "      <td>...</td>\n",
       "      <td>165.929546</td>\n",
       "      <td>55.534756</td>\n",
       "      <td>229.785965</td>\n",
       "      <td>287.372910</td>\n",
       "      <td>724.024565</td>\n",
       "      <td>423.453647</td>\n",
       "      <td>127.925597</td>\n",
       "      <td>367.936634</td>\n",
       "      <td>104.049491</td>\n",
       "      <td>228.383101</td>\n",
       "    </tr>\n",
       "    <tr>\n",
       "      <th>2</th>\n",
       "      <td>12.303175</td>\n",
       "      <td>0.390007</td>\n",
       "      <td>75.105002</td>\n",
       "      <td>12.538338</td>\n",
       "      <td>8.080932</td>\n",
       "      <td>41.227959</td>\n",
       "      <td>40.055824</td>\n",
       "      <td>99.070962</td>\n",
       "      <td>57.607539</td>\n",
       "      <td>55.434133</td>\n",
       "      <td>...</td>\n",
       "      <td>69.409251</td>\n",
       "      <td>59.040101</td>\n",
       "      <td>610.564039</td>\n",
       "      <td>272.430590</td>\n",
       "      <td>3938.468007</td>\n",
       "      <td>282.638681</td>\n",
       "      <td>120.207266</td>\n",
       "      <td>1460.155091</td>\n",
       "      <td>82.132346</td>\n",
       "      <td>1322.805304</td>\n",
       "    </tr>\n",
       "    <tr>\n",
       "      <th>3</th>\n",
       "      <td>74.603526</td>\n",
       "      <td>98.670267</td>\n",
       "      <td>60.954687</td>\n",
       "      <td>98.870983</td>\n",
       "      <td>90.450864</td>\n",
       "      <td>86.294948</td>\n",
       "      <td>75.249197</td>\n",
       "      <td>40.930922</td>\n",
       "      <td>53.952940</td>\n",
       "      <td>63.421269</td>\n",
       "      <td>...</td>\n",
       "      <td>54.671007</td>\n",
       "      <td>44.110359</td>\n",
       "      <td>1795.359923</td>\n",
       "      <td>149.642485</td>\n",
       "      <td>3194.585611</td>\n",
       "      <td>28.836743</td>\n",
       "      <td>23.904619</td>\n",
       "      <td>1650.482081</td>\n",
       "      <td>7.041424</td>\n",
       "      <td>1797.111744</td>\n",
       "    </tr>\n",
       "    <tr>\n",
       "      <th>4</th>\n",
       "      <td>11.278530</td>\n",
       "      <td>1.486433</td>\n",
       "      <td>79.922491</td>\n",
       "      <td>6.796911</td>\n",
       "      <td>7.924876</td>\n",
       "      <td>48.882486</td>\n",
       "      <td>46.311036</td>\n",
       "      <td>12.894843</td>\n",
       "      <td>59.470150</td>\n",
       "      <td>61.959434</td>\n",
       "      <td>...</td>\n",
       "      <td>70.653418</td>\n",
       "      <td>22.292105</td>\n",
       "      <td>3544.526478</td>\n",
       "      <td>64.155534</td>\n",
       "      <td>3643.530764</td>\n",
       "      <td>221.082297</td>\n",
       "      <td>30.814284</td>\n",
       "      <td>1617.216955</td>\n",
       "      <td>144.808422</td>\n",
       "      <td>1607.715313</td>\n",
       "    </tr>\n",
       "  </tbody>\n",
       "</table>\n",
       "<p>5 rows × 53 columns</p>\n",
       "</div>"
      ],
      "text/plain": [
       "        C01_1       C01_2       C02_1       C02_2       C03_1       C03_2  \\\n",
       "0    0.000000    0.000000    0.000000    0.000000    0.000000    0.000000   \n",
       "1  139.620900  177.638597  165.129208  173.566930  166.031850  180.350795   \n",
       "2   12.303175    0.390007   75.105002   12.538338    8.080932   41.227959   \n",
       "3   74.603526   98.670267   60.954687   98.870983   90.450864   86.294948   \n",
       "4   11.278530    1.486433   79.922491    6.796911    7.924876   48.882486   \n",
       "\n",
       "        C04_1       C04_2       C05_1       C05_2  ...        T018       T021  \\\n",
       "0    0.000000    0.000000    0.000000    0.000000  ...    0.000000   0.000000   \n",
       "1  161.024240  110.060886  148.977538  160.749182  ...  165.929546  55.534756   \n",
       "2   40.055824   99.070962   57.607539   55.434133  ...   69.409251  59.040101   \n",
       "3   75.249197   40.930922   53.952940   63.421269  ...   54.671007  44.110359   \n",
       "4   46.311036   12.894843   59.470150   61.959434  ...   70.653418  22.292105   \n",
       "\n",
       "        T023_1      T023_2         T025        T026        T027       T028_1  \\\n",
       "0     0.000000    0.000000     0.000000    0.000000    0.000000     0.000000   \n",
       "1   229.785965  287.372910   724.024565  423.453647  127.925597   367.936634   \n",
       "2   610.564039  272.430590  3938.468007  282.638681  120.207266  1460.155091   \n",
       "3  1795.359923  149.642485  3194.585611   28.836743   23.904619  1650.482081   \n",
       "4  3544.526478   64.155534  3643.530764  221.082297   30.814284  1617.216955   \n",
       "\n",
       "       T028_2         T029  \n",
       "0    0.000000     0.000000  \n",
       "1  104.049491   228.383101  \n",
       "2   82.132346  1322.805304  \n",
       "3    7.041424  1797.111744  \n",
       "4  144.808422  1607.715313  \n",
       "\n",
       "[5 rows x 53 columns]"
      ]
     },
     "execution_count": 42,
     "metadata": {},
     "output_type": "execute_result"
    }
   ],
   "source": [
    "score = 'accuracy'\n",
    "\n",
    "dataset=pd.read_sql(table_name ,engine,)\n",
    "#dataset.set_index('subject_id')\n",
    "dataset.head(5)"
   ]
  },
  {
   "cell_type": "markdown",
   "metadata": {},
   "source": [
    "Loading labels based on clinic, residues and features from residues.\n"
   ]
  },
  {
   "cell_type": "code",
   "execution_count": 43,
   "metadata": {},
   "outputs": [
    {
     "data": {
      "image/png": "[encoded data removed]",
      "text/plain": [
       "<Figure size 432x288 with 1 Axes>"
      ]
     },
     "metadata": {
      "needs_background": "light"
     },
     "output_type": "display_data"
    }
   ],
   "source": [
    "y = pd.read_sql(\"labels_20220918\" ,engine, index_col='subject_id')\n",
    "ax = y.value_counts().plot.bar(title='Control Subjects Vs. ET Subjects', x='counts')\n",
    "_ = ax.bar_label(ax.containers[0])"
   ]
  },
  {
   "cell_type": "markdown",
   "metadata": {},
   "source": [
    "Verify that the data calculated with airflow is correct"
   ]
  },
  {
   "cell_type": "code",
   "execution_count": 44,
   "metadata": {},
   "outputs": [
    {
     "data": {
      "text/plain": [
       "<AxesSubplot:>"
      ]
     },
     "execution_count": 44,
     "metadata": {},
     "output_type": "execute_result"
    },
    {
     "data": {
      "image/png": "[encoded data removed]",
      "text/plain": [
       "<Figure size 432x288 with 1 Axes>"
      ]
     },
     "metadata": {
      "needs_background": "light"
     },
     "output_type": "display_data"
    }
   ],
   "source": [
    "features=dataset\n",
    "if \"window\" not in table_name:\n",
    "    features = dataset.T\n",
    "features.loc['C01_1'].iloc[:10].T.plot(legend=False)"
   ]
  },
  {
   "cell_type": "code",
   "execution_count": 45,
   "metadata": {},
   "outputs": [
    {
     "data": {
      "text/plain": [
       "(4096,)"
      ]
     },
     "execution_count": 45,
     "metadata": {},
     "output_type": "execute_result"
    }
   ],
   "source": [
    "features.loc['C01_1'].shape"
   ]
  },
  {
   "cell_type": "code",
   "execution_count": 46,
   "metadata": {},
   "outputs": [
    {
     "data": {
      "text/plain": [
       "<AxesSubplot:>"
      ]
     },
     "execution_count": 46,
     "metadata": {},
     "output_type": "execute_result"
    },
    {
     "data": {
      "image/png": "[encoded data removed]",
      "text/plain": [
       "<Figure size 432x288 with 1 Axes>"
      ]
     },
     "metadata": {
      "needs_background": "light"
     },
     "output_type": "display_data"
    }
   ],
   "source": [
    "features.loc['T027'].iloc[:10].T.plot(legend=False)"
   ]
  },
  {
   "cell_type": "code",
   "execution_count": 47,
   "metadata": {},
   "outputs": [
    {
     "data": {
      "text/plain": [
       "((53, 4096), (53, 1))"
      ]
     },
     "execution_count": 47,
     "metadata": {},
     "output_type": "execute_result"
    }
   ],
   "source": [
    "features.shape,y.shape"
   ]
  },
  {
   "cell_type": "code",
   "execution_count": 48,
   "metadata": {},
   "outputs": [
    {
     "data": {
      "text/plain": [
       "array([0, 0, 0, 0, 0, 0, 0, 0, 0, 0, 0, 0, 0, 0, 0, 1, 1, 1, 1, 1, 0, 1,\n",
       "       1, 1, 0, 0, 1, 1, 1, 0, 1, 1, 1, 1, 1, 1, 0, 1, 1, 1, 1, 0, 0, 0,\n",
       "       0, 0, 0, 0, 0, 0, 0, 0, 0])"
      ]
     },
     "execution_count": 48,
     "metadata": {},
     "output_type": "execute_result"
    }
   ],
   "source": [
    "from sklearn.discriminant_analysis import LinearDiscriminantAnalysis\n",
    "from sklearn.decomposition import PCA\n",
    "from sklearn.pipeline import make_pipeline\n",
    "from sklearn.preprocessing import StandardScaler\n",
    "\n",
    "le = LabelEncoder()\n",
    "y = le.fit_transform(y.values.ravel())\n",
    "\n",
    "random_state = 38\n",
    "\n",
    "X_train=features.values\n",
    "y_train=y\n",
    "y"
   ]
  },
  {
   "cell_type": "code",
   "execution_count": 52,
   "metadata": {},
   "outputs": [],
   "source": [
    "# Reduce dimension with LDA\n",
    "lda = make_pipeline(StandardScaler(), LinearDiscriminantAnalysis(n_components=1))\n",
    "lda.fit(X_train, y_train)\n",
    "X_train_lda=lda.transform(X_train)"
   ]
  },
  {
   "cell_type": "code",
   "execution_count": 53,
   "metadata": {},
   "outputs": [
    {
     "data": {
      "text/html": [
       "<div>\n",
       "<style scoped>\n",
       "    .dataframe tbody tr th:only-of-type {\n",
       "        vertical-align: middle;\n",
       "    }\n",
       "\n",
       "    .dataframe tbody tr th {\n",
       "        vertical-align: top;\n",
       "    }\n",
       "\n",
       "    .dataframe thead th {\n",
       "        text-align: right;\n",
       "    }\n",
       "</style>\n",
       "<table border=\"1\" class=\"dataframe\">\n",
       "  <thead>\n",
       "    <tr style=\"text-align: right;\">\n",
       "      <th></th>\n",
       "      <th>LDA1</th>\n",
       "      <th>labels</th>\n",
       "    </tr>\n",
       "  </thead>\n",
       "  <tbody>\n",
       "    <tr>\n",
       "      <th>0</th>\n",
       "      <td>-1.619258</td>\n",
       "      <td>0</td>\n",
       "    </tr>\n",
       "    <tr>\n",
       "      <th>1</th>\n",
       "      <td>-3.963443</td>\n",
       "      <td>0</td>\n",
       "    </tr>\n",
       "    <tr>\n",
       "      <th>2</th>\n",
       "      <td>-1.864136</td>\n",
       "      <td>0</td>\n",
       "    </tr>\n",
       "    <tr>\n",
       "      <th>3</th>\n",
       "      <td>-0.947144</td>\n",
       "      <td>0</td>\n",
       "    </tr>\n",
       "    <tr>\n",
       "      <th>4</th>\n",
       "      <td>-0.376298</td>\n",
       "      <td>0</td>\n",
       "    </tr>\n",
       "  </tbody>\n",
       "</table>\n",
       "</div>"
      ],
      "text/plain": [
       "       LDA1  labels\n",
       "0 -1.619258       0\n",
       "1 -3.963443       0\n",
       "2 -1.864136       0\n",
       "3 -0.947144       0\n",
       "4 -0.376298       0"
      ]
     },
     "execution_count": 53,
     "metadata": {},
     "output_type": "execute_result"
    }
   ],
   "source": [
    "df_lda=pd.DataFrame(X_train_lda, columns=[\"LDA1\"])#temblor\n",
    "#df_lda=pd.DataFrame(X_train_lda, columns=[\"component1\", \"component2\"])#level\n",
    "df_lda[\"labels\"]=y_train\n",
    "df_lda.head()"
   ]
  },
  {
   "cell_type": "code",
   "execution_count": 54,
   "metadata": {},
   "outputs": [
    {
     "data": {
      "image/png": "[encoded data removed]",
      "text/plain": [
       "<Figure size 432x288 with 1 Axes>"
      ]
     },
     "metadata": {
      "needs_background": "light"
     },
     "output_type": "display_data"
    }
   ],
   "source": [
    "ax = df_lda.plot.scatter(x=\"LDA1\", y=\"LDA1\", c=\"labels\", cmap=\"jet\", s=90, colorbar=False)\n",
    "ax.xaxis.set_ticklabels([])\n",
    "_ = ax.yaxis.set_ticklabels([])"
   ]
  },
  {
   "cell_type": "code",
   "execution_count": 12,
   "metadata": {},
   "outputs": [],
   "source": [
    "# Reduce dimension to 2 with PCA\n",
    "pca = make_pipeline(StandardScaler(),\n",
    "                    PCA(n_components=3, random_state=random_state))\n",
    "# Fit the method's model\n",
    "pca.fit(X_train, y_train)\n",
    "X_train_pca=pca.transform(X_train)"
   ]
  },
  {
   "cell_type": "code",
   "execution_count": 13,
   "metadata": {},
   "outputs": [
    {
     "data": {
      "text/html": [
       "<div>\n",
       "<style scoped>\n",
       "    .dataframe tbody tr th:only-of-type {\n",
       "        vertical-align: middle;\n",
       "    }\n",
       "\n",
       "    .dataframe tbody tr th {\n",
       "        vertical-align: top;\n",
       "    }\n",
       "\n",
       "    .dataframe thead th {\n",
       "        text-align: right;\n",
       "    }\n",
       "</style>\n",
       "<table border=\"1\" class=\"dataframe\">\n",
       "  <thead>\n",
       "    <tr style=\"text-align: right;\">\n",
       "      <th></th>\n",
       "      <th>PCA0</th>\n",
       "      <th>PCA1</th>\n",
       "      <th>PCA2</th>\n",
       "      <th>labels</th>\n",
       "    </tr>\n",
       "  </thead>\n",
       "  <tbody>\n",
       "    <tr>\n",
       "      <th>0</th>\n",
       "      <td>-51.960445</td>\n",
       "      <td>-7.391166</td>\n",
       "      <td>-2.050637</td>\n",
       "      <td>0</td>\n",
       "    </tr>\n",
       "    <tr>\n",
       "      <th>1</th>\n",
       "      <td>-53.761301</td>\n",
       "      <td>0.310302</td>\n",
       "      <td>-3.050397</td>\n",
       "      <td>0</td>\n",
       "    </tr>\n",
       "    <tr>\n",
       "      <th>2</th>\n",
       "      <td>-51.536163</td>\n",
       "      <td>1.184440</td>\n",
       "      <td>-1.583452</td>\n",
       "      <td>0</td>\n",
       "    </tr>\n",
       "    <tr>\n",
       "      <th>3</th>\n",
       "      <td>-52.321389</td>\n",
       "      <td>-2.215866</td>\n",
       "      <td>-5.919447</td>\n",
       "      <td>0</td>\n",
       "    </tr>\n",
       "    <tr>\n",
       "      <th>4</th>\n",
       "      <td>-51.961830</td>\n",
       "      <td>-0.577022</td>\n",
       "      <td>-2.296562</td>\n",
       "      <td>0</td>\n",
       "    </tr>\n",
       "  </tbody>\n",
       "</table>\n",
       "</div>"
      ],
      "text/plain": [
       "        PCA0      PCA1      PCA2  labels\n",
       "0 -51.960445 -7.391166 -2.050637       0\n",
       "1 -53.761301  0.310302 -3.050397       0\n",
       "2 -51.536163  1.184440 -1.583452       0\n",
       "3 -52.321389 -2.215866 -5.919447       0\n",
       "4 -51.961830 -0.577022 -2.296562       0"
      ]
     },
     "execution_count": 13,
     "metadata": {},
     "output_type": "execute_result"
    }
   ],
   "source": [
    "df_pca=pd.DataFrame(X_train_pca, columns=[\"PCA0\", \"PCA1\",\"PCA2\"])\n",
    "df_pca[\"labels\"]=y_train.ravel()\n",
    "df_pca.head()"
   ]
  },
  {
   "cell_type": "code",
   "execution_count": 14,
   "metadata": {},
   "outputs": [
    {
     "data": {
      "image/png": "[encoded data removed]",
      "text/plain": [
       "<Figure size 432x288 with 1 Axes>"
      ]
     },
     "metadata": {
      "needs_background": "light"
     },
     "output_type": "display_data"
    }
   ],
   "source": [
    "ax = df_pca.plot.scatter(x=\"PCA1\", y=\"PCA2\", c=\"labels\", cmap=\"jet\", s=90, colorbar=False)\n",
    "ax.xaxis.set_ticklabels([])\n",
    "_ = ax.yaxis.set_ticklabels([])"
   ]
  },
  {
   "cell_type": "code",
   "execution_count": 15,
   "metadata": {},
   "outputs": [
    {
     "data": {
      "image/png": "[encoded data removed]",
      "text/plain": [
       "<Figure size 720x1080 with 1 Axes>"
      ]
     },
     "metadata": {
      "needs_background": "light"
     },
     "output_type": "display_data"
    }
   ],
   "source": [
    "# Plot initialisation\n",
    "fig = plt.figure(figsize=(10,15))\n",
    "ax = fig.add_subplot(111, projection='3d')\n",
    "\n",
    "\n",
    "sc=ax.scatter(df_pca['PCA0'], \n",
    "              df_pca['PCA1'], \n",
    "              df_pca['PCA2'], c=df_pca.labels, cmap=\"jet\", s=120)\n",
    "    \n",
    "# label the axes\n",
    "ax.set_xlabel(None)\n",
    "ax.set_ylabel(None)\n",
    "ax.set_zlabel(None)\n",
    "ax.set_title(\"PCA on the BIODARWO set\")\n",
    "\n",
    "ax.xaxis.set_ticklabels([])\n",
    "ax.yaxis.set_ticklabels([])\n",
    "ax.zaxis.set_ticklabels([])\n",
    "\n",
    "colors = [sc.cmap(sc.norm(i)) for i in [0.0, 1.0, 2.0]]\n",
    "\n",
    "custom_lines = [plt.Line2D([],[], ls=\"\", marker='.', \n",
    "                mec='k', mfc=c, mew=.1, ms=20) for c in colors]\n",
    "import collections\n",
    "legend = ['ET','CT']#temblor\n",
    "ax.legend(custom_lines, legend, loc='center left', bbox_to_anchor=(1.0, 0.5))\n",
    "\n",
    "plt.show()"
   ]
  },
  {
   "cell_type": "code",
   "execution_count": 55,
   "metadata": {},
   "outputs": [],
   "source": [
    "from sklearn.model_selection import LeaveOneOut, KFold\n",
    "from sklearn.svm import SVC\n",
    "from sklearn.model_selection import cross_validate, train_test_split\n",
    "\n",
    "from sklearn.svm import SVC\n",
    "from sklearn.ensemble import RandomForestClassifier\n",
    "from sklearn.neighbors import KNeighborsClassifier\n",
    "from sklearn.discriminant_analysis import LinearDiscriminantAnalysis as LDA\n",
    "from sklearn.metrics import f1_score, confusion_matrix, ConfusionMatrixDisplay, classification_report\n",
    "\n",
    "\n",
    "score='accuracy'\n",
    "X = X_train_lda\n",
    "y = y_train\n",
    "\n",
    "loo = LeaveOneOut()"
   ]
  },
  {
   "cell_type": "code",
   "execution_count": 56,
   "metadata": {},
   "outputs": [
    {
     "data": {
      "text/plain": [
       "(Counter({0: 23, 1: 12}), Counter({0: 9, 1: 9}))"
      ]
     },
     "execution_count": 56,
     "metadata": {},
     "output_type": "execute_result"
    }
   ],
   "source": [
    "Xs_train, Xs_test, ys_train, ys_test = train_test_split(X, y, test_size=0.33, random_state=38)\n",
    "Counter(ys_train), Counter(ys_test)"
   ]
  },
  {
   "cell_type": "markdown",
   "metadata": {},
   "source": [
    "$$ Accuracy: \\frac{TP + TN}{TP + TN + FP + FN} $$ \n",
    "\n",
    "$$    Recall: \\frac{TP}{TP + FN} $$\n",
    "\n",
    "$$    Precision: \\frac{TP}{TP + FP} $$\n",
    "\n",
    "$$    Specifity: \\frac{TN}{TN + FP} $$\n",
    "\n",
    "Where TP, TN, FP, and FN are, respectively, the true positive, true negative, false positive and false negative values\n",
    "of the confusion matrix. The positive case corresponds to the ET subjects while the negative case to the CT ones.\n",
    "\n",
    "**Equations explained**\n",
    "\n",
    "* Sensitivity/recall – how good a test is at detecting the positives. A test can cheat and maximize this by always returning “positive”. From the whole positive cases how many of them where properly detected.\n",
    "* Specificity – how good a test is at avoiding false alarms. A test can cheat and maximize this by always returning “negative”.\n",
    "* Precision – how many of the positively classified were relevant. A test can cheat and maximize this by only returning positive on one result it’s most confident in. \n",
    "\n",
    "The cheating is resolved by looking at both relevant metrics instead of just one. E.g. the cheating 100% sensitivity that always says “positive” has 0% specificity.\n"
   ]
  },
  {
   "cell_type": "markdown",
   "metadata": {},
   "source": [
    "Hold hout validation"
   ]
  },
  {
   "cell_type": "markdown",
   "metadata": {},
   "source": [
    "Note that in binary classification, recall of the positive class is also known as “sensitivity”; recall of the negative class is “specificity”."
   ]
  },
  {
   "cell_type": "markdown",
   "metadata": {},
   "source": [
    "### RandomForest\n",
    "\n",
    "Leaving one out validation"
   ]
  },
  {
   "cell_type": "code",
   "execution_count": 57,
   "metadata": {},
   "outputs": [
    {
     "name": "stdout",
     "output_type": "stream",
     "text": [
      "CV train score RandomForest: 1.0\n",
      "CV test score RandomForest: 0.9433962264150944\n"
     ]
    }
   ],
   "source": [
    "reports = dict()\n",
    "clf =  make_pipeline(RandomForestClassifier(n_estimators=100, random_state=38))\n",
    "\n",
    "cv = cross_validate(clf, X, y, cv=loo, scoring=score, return_train_score=True, n_jobs=-1)\n",
    "\n",
    "print(\"CV train score RandomForest: {}\".format(cv['train_score'].mean()))\n",
    "print(\"CV test score RandomForest: {}\".format(cv['test_score'].mean()))"
   ]
  },
  {
   "cell_type": "markdown",
   "metadata": {},
   "source": [
    "Holdout validation"
   ]
  },
  {
   "cell_type": "code",
   "execution_count": 19,
   "metadata": {},
   "outputs": [],
   "source": [
    "clf.fit(Xs_train, ys_train)\n",
    "predictions = clf.predict(Xs_test)\n",
    "#cm = confusion_matrix(ys_test, predictions, labels=clf.classes_)\n",
    "#disp = ConfusionMatrixDisplay(confusion_matrix=cm,display_labels=clf.classes_)\n",
    "#disp.plot(cmap=plt.cm.Blues)\n",
    "#_=plt.axis('off')"
   ]
  },
  {
   "cell_type": "code",
   "execution_count": 20,
   "metadata": {},
   "outputs": [],
   "source": [
    "report = classification_report(ys_test, predictions, digits=4, target_names=['Negative','Positive'], output_dict=True)\n",
    "report = classification_report(ys_test, predictions, digits=4, target_names=['Negative','Positive'], output_dict=True)\n",
    "report['loo']= {}\n",
    "report['loo']['acc']=cv['train_score'].mean()\n",
    "report['loo']['val_acc']=cv['test_score'].mean()\n",
    "reports['randomforest'] = report"
   ]
  },
  {
   "cell_type": "markdown",
   "metadata": {},
   "source": [
    "### KNN-5\n",
    "\n",
    "Leaving one out validation"
   ]
  },
  {
   "cell_type": "code",
   "execution_count": 21,
   "metadata": {},
   "outputs": [
    {
     "name": "stdout",
     "output_type": "stream",
     "text": [
      "CV train score knn: 0.9804063860667637\n",
      "CV test score knn: 0.9622641509433962\n"
     ]
    }
   ],
   "source": [
    "clf = clf =  make_pipeline(StandardScaler(),KNeighborsClassifier(n_neighbors=5, algorithm='ball_tree', metric='euclidean'))\n",
    "\n",
    "cv = cross_validate(clf, X, y, cv=loo, scoring=score, return_train_score=True, n_jobs=-1)\n",
    "\n",
    "print(\"CV train score knn: {}\".format(cv['train_score'].mean()))\n",
    "print(\"CV test score knn: {}\".format(cv['test_score'].mean()))"
   ]
  },
  {
   "cell_type": "markdown",
   "metadata": {},
   "source": [
    "Holdout validation"
   ]
  },
  {
   "cell_type": "code",
   "execution_count": 22,
   "metadata": {},
   "outputs": [],
   "source": [
    "clf.fit(Xs_train, ys_train)\n",
    "predictions = clf.predict(Xs_test)\n",
    "#cm = confusion_matrix(ys_test, predictions, labels=clf.classes_)\n",
    "#disp = ConfusionMatrixDisplay(confusion_matrix=cm,display_labels=clf.classes_)\n",
    "#disp.plot(cmap=plt.cm.Blues)\n",
    "#_=plt.axis('off')"
   ]
  },
  {
   "cell_type": "code",
   "execution_count": 23,
   "metadata": {},
   "outputs": [],
   "source": [
    "report = classification_report(ys_test, predictions, digits=4, target_names=['Negative','Positive'], output_dict=True)\n",
    "report['loo']= {}\n",
    "report['loo']['acc']=cv['train_score'].mean()\n",
    "report['loo']['val_acc']=cv['test_score'].mean()\n",
    "reports['knn'] = report"
   ]
  },
  {
   "cell_type": "markdown",
   "metadata": {},
   "source": [
    "### LDA\n",
    "\n",
    "Leaving one out validation"
   ]
  },
  {
   "cell_type": "code",
   "execution_count": 24,
   "metadata": {},
   "outputs": [
    {
     "name": "stdout",
     "output_type": "stream",
     "text": [
      "CV train score LDA: 0.9811320754716982\n",
      "CV test score LDA: 0.9811320754716981\n"
     ]
    }
   ],
   "source": [
    "clf =  make_pipeline(StandardScaler(),LDA())\n",
    "\n",
    "cv = cross_validate(clf, X, y, cv=loo, scoring=score, return_train_score=True, n_jobs=-1)\n",
    "\n",
    "print(\"CV train score LDA: {}\".format(cv['train_score'].mean()))\n",
    "print(\"CV test score LDA: {}\".format(cv['test_score'].mean()))"
   ]
  },
  {
   "cell_type": "markdown",
   "metadata": {},
   "source": [
    "Holdout validation"
   ]
  },
  {
   "cell_type": "code",
   "execution_count": 25,
   "metadata": {},
   "outputs": [],
   "source": [
    "clf.fit(Xs_train, ys_train)\n",
    "predictions = clf.predict(Xs_test)\n",
    "#cm = confusion_matrix(ys_test, predictions, labels=clf.classes_)\n",
    "#disp = ConfusionMatrixDisplay(confusion_matrix=cm,display_labels=clf.classes_)\n",
    "#disp.plot(cmap=plt.cm.Blues)\n",
    "#_=plt.axis('off')"
   ]
  },
  {
   "cell_type": "code",
   "execution_count": 26,
   "metadata": {},
   "outputs": [],
   "source": [
    "report = classification_report(ys_test, predictions, digits=4, target_names=['Negative','Positive'], output_dict=True)\n",
    "report['loo']= {}\n",
    "report['loo']['acc']=cv['train_score'].mean()\n",
    "report['loo']['val_acc']=cv['test_score'].mean()\n",
    "reports['lda'] = report"
   ]
  },
  {
   "cell_type": "markdown",
   "metadata": {},
   "source": [
    "### SVM-rbf\n",
    "\n",
    "Leaving one out validation"
   ]
  },
  {
   "cell_type": "code",
   "execution_count": 27,
   "metadata": {},
   "outputs": [],
   "source": [
    "# predictive model\n",
    "clf = clf =  make_pipeline(StandardScaler(), SVC(kernel='rbf', gamma=0.2, C=10**3))"
   ]
  },
  {
   "cell_type": "code",
   "execution_count": 28,
   "metadata": {
    "scrolled": true
   },
   "outputs": [
    {
     "name": "stdout",
     "output_type": "stream",
     "text": [
      "CV train score svm: 0.9814949201741656\n",
      "CV test score svm: 0.9622641509433962\n"
     ]
    }
   ],
   "source": [
    "cv = cross_validate(clf, X, y, cv=loo, scoring=score, return_train_score=True, n_jobs=-1)\n",
    "print(\"CV train score svm: {}\".format(cv['train_score'].mean()))\n",
    "print(\"CV test score svm: {}\".format(cv['test_score'].mean()))"
   ]
  },
  {
   "cell_type": "code",
   "execution_count": 29,
   "metadata": {},
   "outputs": [],
   "source": [
    "clf.fit(Xs_train, ys_train)\n",
    "predictions = clf.predict(Xs_test)\n",
    "#cm = confusion_matrix(ys_test, predictions, labels=clf.classes_)\n",
    "#disp = ConfusionMatrixDisplay(confusion_matrix=cm,display_labels=clf.classes_)\n",
    "#disp.plot(cmap=plt.cm.Blues)\n",
    "#_=plt.axis('off')"
   ]
  },
  {
   "cell_type": "code",
   "execution_count": 30,
   "metadata": {},
   "outputs": [],
   "source": [
    "report = classification_report(ys_test, predictions, digits=4, target_names=['Negative','Positive'], output_dict=True)\n",
    "report['loo']= {}\n",
    "report['loo']['acc']=cv['train_score'].mean()\n",
    "report['loo']['val_acc']=cv['test_score'].mean()\n",
    "reports['svm-rbf'] = report"
   ]
  },
  {
   "cell_type": "code",
   "execution_count": 31,
   "metadata": {},
   "outputs": [
    {
     "name": "stdout",
     "output_type": "stream",
     "text": [
      "randomforest\n",
      "knn\n",
      "lda\n",
      "svm-rbf\n"
     ]
    }
   ],
   "source": [
    "for key in reports:\n",
    "    print('{}'.format(key))"
   ]
  },
  {
   "cell_type": "code",
   "execution_count": 32,
   "metadata": {},
   "outputs": [
    {
     "name": "stdout",
     "output_type": "stream",
     "text": [
      "0.9433962264150944\n",
      "0.9622641509433962\n",
      "0.9811320754716981\n",
      "0.9622641509433962\n"
     ]
    }
   ],
   "source": [
    "for key in reports:\n",
    "    print('{}'.format(reports[key]['loo']['val_acc']))"
   ]
  },
  {
   "cell_type": "code",
   "execution_count": 33,
   "metadata": {},
   "outputs": [
    {
     "name": "stdout",
     "output_type": "stream",
     "text": [
      "0.9444444444444444\n",
      "1.0\n",
      "1.0\n",
      "1.0\n"
     ]
    }
   ],
   "source": [
    "for key in reports:\n",
    "    print('{}'.format(reports[key]['accuracy']))"
   ]
  },
  {
   "cell_type": "code",
   "execution_count": 34,
   "metadata": {},
   "outputs": [
    {
     "name": "stdout",
     "output_type": "stream",
     "text": [
      "1.0\n",
      "1.0\n",
      "1.0\n",
      "1.0\n"
     ]
    }
   ],
   "source": [
    "for key in reports:\n",
    "    print('{}'.format(reports[key]['Positive']['recall']))"
   ]
  },
  {
   "cell_type": "code",
   "execution_count": 35,
   "metadata": {},
   "outputs": [
    {
     "name": "stdout",
     "output_type": "stream",
     "text": [
      "0.8888888888888888\n",
      "1.0\n",
      "1.0\n",
      "1.0\n"
     ]
    }
   ],
   "source": [
    "for key in reports:\n",
    "    print('{}'.format(reports[key]['Negative']['recall']))"
   ]
  },
  {
   "cell_type": "code",
   "execution_count": 36,
   "metadata": {},
   "outputs": [
    {
     "name": "stdout",
     "output_type": "stream",
     "text": [
      "0.9\n",
      "1.0\n",
      "1.0\n",
      "1.0\n"
     ]
    }
   ],
   "source": [
    "for key in reports:\n",
    "    print('{}'.format(reports[key]['Positive']['precision']))"
   ]
  },
  {
   "cell_type": "code",
   "execution_count": 37,
   "metadata": {},
   "outputs": [
    {
     "name": "stdout",
     "output_type": "stream",
     "text": [
      "1.0\n",
      "1.0\n",
      "1.0\n",
      "1.0\n"
     ]
    }
   ],
   "source": [
    "for key in reports:\n",
    "    print('{}'.format(reports[key]['Negative']['precision']))"
   ]
  },
  {
   "cell_type": "code",
   "execution_count": 38,
   "metadata": {},
   "outputs": [
    {
     "name": "stdout",
     "output_type": "stream",
     "text": [
      "0.9473684210526316\n",
      "1.0\n",
      "1.0\n",
      "1.0\n"
     ]
    }
   ],
   "source": [
    "for key in reports:\n",
    "    print('{}'.format(reports[key]['Positive']['f1-score']))"
   ]
  },
  {
   "cell_type": "code",
   "execution_count": 39,
   "metadata": {},
   "outputs": [
    {
     "name": "stdout",
     "output_type": "stream",
     "text": [
      "0.9411764705882353\n",
      "1.0\n",
      "1.0\n",
      "1.0\n"
     ]
    }
   ],
   "source": [
    "for key in reports:\n",
    "    print('{}'.format(reports[key]['Negative']['f1-score']))"
   ]
  }
 ],
 "metadata": {
  "kernelspec": {
   "display_name": "Python 3",
   "language": "python",
   "name": "python3"
  },
  "language_info": {
   "codemirror_mode": {
    "name": "ipython",
    "version": 3
   },
   "file_extension": ".py",
   "mimetype": "text/x-python",
   "name": "python",
   "nbconvert_exporter": "python",
   "pygments_lexer": "ipython3",
   "version": "3.8.10"
  },
  "vscode": {
   "interpreter": {
    "hash": "916dbcbb3f70747c44a77c7bcd40155683ae19c65e1c03b4aa3499c5328201f1"
   }
  }
 },
 "nbformat": 4,
 "nbformat_minor": 4
}
